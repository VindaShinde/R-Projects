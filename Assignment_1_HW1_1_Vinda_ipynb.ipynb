{
  "nbformat": 4,
  "nbformat_minor": 0,
  "metadata": {
    "colab": {
      "name": "Assignment 1_HW1_1_Vinda.ipynb.ipynb",
      "provenance": [],
      "collapsed_sections": [],
      "authorship_tag": "ABX9TyNz1TatcujyypI2IrbUd4hm",
      "include_colab_link": true
    },
    "kernelspec": {
      "name": "ir",
      "display_name": "R"
    },
    "language_info": {
      "name": "R"
    }
  },
  "cells": [
    {
      "cell_type": "markdown",
      "metadata": {
        "id": "view-in-github",
        "colab_type": "text"
      },
      "source": [
        "<a href=\"https://colab.research.google.com/github/VindaShinde/R-Projects/blob/main/Assignment_1_HW1_1_Vinda_ipynb.ipynb\" target=\"_parent\"><img src=\"https://colab.research.google.com/assets/colab-badge.svg\" alt=\"Open In Colab\"/></a>"
      ]
    },
    {
      "cell_type": "markdown",
      "metadata": {
        "id": "jbB1TpW-1aHO"
      },
      "source": [
        "# Assignment 1: Hypothesis Test\n",
        "Group 1 - Vinda Shinde and Mohammed Shahid Hussain"
      ]
    },
    {
      "cell_type": "markdown",
      "metadata": {
        "id": "A4irvJjn1iAd"
      },
      "source": [
        "# Question:\n",
        "According to the Bureau of Crime Statistics and Research of Australia, the mean length of imprisonment\n",
        "for motor-vehicle-theft offenders in Australia is 16.7 months. A group of researchers would like to perform\n",
        "a hypothesis test to decide whether the mean length of imprisonment for motor-vehicle-theft offenders in\n",
        "Sydney differs from the national mean in Australia. They have found out that Sydney population standard\n",
        "deviation is 6.0. They have also decided to choose a random sample of size 100 and perform the test at the\n",
        "significance level of 0.05. Suppose that, in reality, the mean length of imprisonment in Sydney is 15.5 months.\n",
        "\n",
        "Given:\n",
        "1.   n = 100 observations (boxes) \n",
        "2.   x^ = 15.5 months \n",
        "3.   µ = 16.7 months\n",
        "4.   σ = 6.0\n",
        "\n",
        "\n",
        "\n",
        "\n",
        "\n"
      ]
    },
    {
      "cell_type": "markdown",
      "metadata": {
        "id": "MLlYgkRM1nQD"
      },
      "source": [
        "## a. State the null and alternative hypotheses. (3 points)\n",
        "\n",
        "**ANS:** Null Hypothesis: The mean length of imprisonment for motor-vehicle-theft offenders in Sydney does not differs from the national mean in Australia. Mean equal to 16.7\n",
        "\n",
        "Alternative Hypothesis: The mean length of imprisonment for motor-vehicle-theft offenders in Sydney differs from the national mean in Australia. Mean not equal to 16.7"
      ]
    },
    {
      "cell_type": "markdown",
      "metadata": {
        "id": "EDfG16Zv1sQ2"
      },
      "source": [
        "# b. Determine the probability of a Type I error.(2 points)\n",
        "\n",
        "z = (x^ - µ) /(σ / sqrt(n))"
      ]
    },
    {
      "cell_type": "code",
      "metadata": {
        "colab": {
          "base_uri": "https://localhost:8080/",
          "height": 35
        },
        "id": "87qEipOK1BFQ",
        "outputId": "5429fd6c-acd3-4c80-8063-baadf29c84de"
      },
      "source": [
        "P = 2*pnorm(15.5, mean=16.7, sd=6/sqrt(100))\n",
        "P"
      ],
      "execution_count": null,
      "outputs": [
        {
          "output_type": "display_data",
          "data": {
            "text/plain": [
              "[1] 0.04550026"
            ],
            "text/latex": "0.0455002638963585",
            "text/markdown": "0.0455002638963585",
            "text/html": [
              "0.0455002638963585"
            ]
          },
          "metadata": {}
        }
      ]
    },
    {
      "cell_type": "markdown",
      "metadata": {
        "id": "3Lovzbi51DtT"
      },
      "source": [
        "Here P is (0.045) <= 0.05 -> We reject the Null Hypothesis.\n",
        "At the 5% significance level, the data provides sufficient evidence to conclude that, the mean length of imprisonment for motor-vehicle-theft offenders in Sydney differs from the national mean in Australia."
      ]
    },
    {
      "cell_type": "markdown",
      "metadata": {
        "id": "c-6XeLMN3aHm"
      },
      "source": [
        "# c. Determine the probability of a Type II error. (5 points)\n",
        "\n",
        "For the probability of making Type II error, we dont reject the Null Hypothesis while it was false. So to find the, critical value...\n",
        "\n"
      ]
    },
    {
      "cell_type": "code",
      "metadata": {
        "colab": {
          "base_uri": "https://localhost:8080/",
          "height": 52
        },
        "id": "auu8sR8k4Eze",
        "outputId": "148fe91d-ddda-44ad-ec96-b4a728234015"
      },
      "source": [
        "x_left = qnorm(0.05/2, mean = 16.7, sd = 6/sqrt(100), lower.tail = T)\n",
        "x_left\n",
        "\n",
        "x_right = qnorm(0.05/2,  mean = 16.7, sd = 6/sqrt(100), lower.tail = F)\n",
        "x_right"
      ],
      "execution_count": null,
      "outputs": [
        {
          "output_type": "display_data",
          "data": {
            "text/plain": [
              "[1] 15.52402"
            ],
            "text/latex": "15.524021609276",
            "text/markdown": "15.524021609276",
            "text/html": [
              "15.524021609276"
            ]
          },
          "metadata": {}
        },
        {
          "output_type": "display_data",
          "data": {
            "text/plain": [
              "[1] 17.87598"
            ],
            "text/latex": "17.875978390724",
            "text/markdown": "17.875978390724",
            "text/html": [
              "17.875978390724"
            ]
          },
          "metadata": {}
        }
      ]
    },
    {
      "cell_type": "markdown",
      "metadata": {
        "id": "kg2OgM6mMzyx"
      },
      "source": [
        "Here Critical Value 15.7 and the true mean which we want to consider for is 15.5"
      ]
    },
    {
      "cell_type": "code",
      "metadata": {
        "colab": {
          "base_uri": "https://localhost:8080/",
          "height": 35
        },
        "id": "dRakdAqSSk0e",
        "outputId": "7004af41-a364-4715-a10e-72d2f8df0254"
      },
      "source": [
        "probTypeII = pnorm(x_right, mean = 15.5, sd = 6/sqrt(100), lower.tail = T ) - pnorm(x_left, mean = 15.5, sd = 6/sqrt(100), lower.tail = T )\n",
        "probTypeII"
      ],
      "execution_count": null,
      "outputs": [
        {
          "output_type": "display_data",
          "data": {
            "text/plain": [
              "[1] 0.4839947"
            ],
            "text/latex": "0.483994726023825",
            "text/markdown": "0.483994726023825",
            "text/html": [
              "0.483994726023825"
            ]
          },
          "metadata": {}
        }
      ]
    },
    {
      "cell_type": "markdown",
      "metadata": {
        "id": "AKnKk6msTFVa"
      },
      "source": [
        "There is roughly 48% chance that group of researchers will fail to reject the Bureau of Crime Statistics and Research of Australia's, claim that the mean length of imprisonment for motor-vehicle-theft offenders in Australia is 16.7 months. "
      ]
    },
    {
      "cell_type": "markdown",
      "metadata": {
        "id": "ItxPgJO7zttK"
      },
      "source": [
        "# d. Simulate 1,000 samples, each of size 100. (5 points)"
      ]
    },
    {
      "cell_type": "code",
      "metadata": {
        "id": "tKKsIBXQz0un"
      },
      "source": [
        "x <- replicate(100,rnorm(1000,mean = 15.5, sd = 6))"
      ],
      "execution_count": 11,
      "outputs": []
    },
    {
      "cell_type": "code",
      "metadata": {
        "colab": {
          "base_uri": "https://localhost:8080/",
          "height": 52
        },
        "id": "VNQeWnL82bVJ",
        "outputId": "2d97a7ed-4e95-4ce4-dd74-2c551782d82d"
      },
      "source": [
        "nrow(x)\n",
        "ncol(x)"
      ],
      "execution_count": 12,
      "outputs": [
        {
          "output_type": "display_data",
          "data": {
            "text/plain": [
              "[1] 1000"
            ],
            "text/latex": "1000",
            "text/markdown": "1000",
            "text/html": [
              "1000"
            ]
          },
          "metadata": {}
        },
        {
          "output_type": "display_data",
          "data": {
            "text/plain": [
              "[1] 100"
            ],
            "text/latex": "100",
            "text/markdown": "100",
            "text/html": [
              "100"
            ]
          },
          "metadata": {}
        }
      ]
    },
    {
      "cell_type": "markdown",
      "metadata": {
        "id": "WHHFiYZQnVou"
      },
      "source": [
        "# e. Determine the mean of each sample in part d\n",
        "The mean of every row will be stored in xmeans"
      ]
    },
    {
      "cell_type": "code",
      "metadata": {
        "id": "MXvnppxknYX8"
      },
      "source": [
        "xmeans <- rowMeans(x)\n"
      ],
      "execution_count": 23,
      "outputs": []
    },
    {
      "cell_type": "markdown",
      "metadata": {
        "id": "eU1OKQ2AndlQ"
      },
      "source": [
        "# f. For the 1,000 samples, how many do you expect lead to a nonrejection of the null hypothesis?\n",
        "We expect around 48% of the samples to lead to a nonrejection since that's what our Type 2 error gave us."
      ]
    },
    {
      "cell_type": "markdown",
      "metadata": {
        "id": "G_t4vJjtnz4o"
      },
      "source": [
        "# g. For the 1,000 samples, determine the number that lead to nonrejection of the null hypothesis."
      ]
    },
    {
      "cell_type": "code",
      "metadata": {
        "colab": {
          "base_uri": "https://localhost:8080/"
        },
        "id": "NzIvgasGy7FL",
        "outputId": "32219d1b-9a31-44d0-ac23-13af4c291461"
      },
      "source": [
        "i = 0\n",
        "for(value in xmeans){\n",
        "    if (value > 15.5){\n",
        "        if (value < 17.9){\n",
        "            i = i + 1\n",
        "        }\n",
        "    }\n",
        "}\n",
        "cat(\"Out of 1000 samples,\",i,\"of them lead to nonrejection.\",\"This gives us 49% nonrejection rate from the data.\")"
      ],
      "execution_count": 14,
      "outputs": [
        {
          "output_type": "stream",
          "name": "stdout",
          "text": [
            "Out of 1000 samples, 496 of them lead to nonrejection. This gives us 49% nonrejection rate from the data."
          ]
        }
      ]
    },
    {
      "cell_type": "markdown",
      "metadata": {
        "id": "57-BrRxF3Fno"
      },
      "source": [
        "# i. Plot the power curve for the range of true µ between 14 to 19. Interpret your plot. (5 points)"
      ]
    },
    {
      "cell_type": "code",
      "metadata": {
        "colab": {
          "base_uri": "https://localhost:8080/",
          "height": 437
        },
        "id": "5OT_F9tmBOo5",
        "outputId": "d014cb1a-10da-4646-bb40-63466319a9d5"
      },
      "source": [
        "c = qnorm(0.05, mean = 16.7, sd=6/sqrt(100) )\n",
        "trueMu = seq(14,19, by =0.1)\n",
        "beta = 1 - pnorm(c, mean = trueMu, sd=6/sqrt(100))\n",
        "power = 1- beta\n",
        "\n",
        "plot(trueMu,power,'l', xlab = expression(mu),main = expression(paste(\"Power Curve (\",alpha,\"= 0.05, n = 100)\")))"
      ],
      "execution_count": 15,
      "outputs": [
        {
          "output_type": "display_data",
          "data": {
            "image/png": "[encoded data removed]",
            "text/plain": [
              "Plot with title “paste(\"Power Curve (\", alpha, \"= 0.05, n = 100)\")”"
            ]
          },
          "metadata": {
            "image/png": {
              "width": 420,
              "height": 420
            }
          }
        }
      ]
    },
    {
      "cell_type": "code",
      "metadata": {
        "id": "Jg_wRro8Jstk"
      },
      "source": [
        "  "
      ],
      "execution_count": null,
      "outputs": []
    }
  ]
}