{
  "nbformat": 4,
  "nbformat_minor": 5,
  "metadata": {
    "kernelspec": {
      "display_name": "R",
      "language": "R",
      "name": "ir"
    },
    "language_info": {
      "codemirror_mode": "r",
      "file_extension": ".r",
      "mimetype": "text/x-r-source",
      "name": "R",
      "pygments_lexer": "r",
      "version": "3.6.1"
    },
    "colab": {
      "name": "SVD_Calculations.ipynb",
      "provenance": [],
      "include_colab_link": true
    }
  },
  "cells": [
    {
      "cell_type": "markdown",
      "metadata": {
        "id": "view-in-github",
        "colab_type": "text"
      },
      "source": [
        "<a href=\"https://colab.research.google.com/github/VindaShinde/R-Projects/blob/main/SVD_Calculations_R.ipynb\" target=\"_parent\"><img src=\"https://colab.research.google.com/assets/colab-badge.svg\" alt=\"Open In Colab\"/></a>"
      ]
    },
    {
      "cell_type": "markdown",
      "metadata": {
        "id": "zfKUrALgBe_K"
      },
      "source": [
        "# Discriptive way to find SVM"
      ],
      "id": "zfKUrALgBe_K"
    },
    {
      "cell_type": "code",
      "metadata": {
        "colab": {
          "base_uri": "https://localhost:8080/",
          "height": 167
        },
        "id": "26834a72",
        "outputId": "c8100dac-b371-43e3-a49d-649f2b72d48b"
      },
      "source": [
        "#A = matrix(c(4,8,11,7,14,-2),nrow=2)\n",
        "A = matrix(c(-7,0,0,4),nrow=2)\n",
        "A"
      ],
      "id": "26834a72",
      "execution_count": null,
      "outputs": [
        {
          "output_type": "display_data",
          "data": {
            "text/plain": [
              "     [,1] [,2]\n",
              "[1,] -7   0   \n",
              "[2,]  0   4   "
            ],
            "text/latex": "A matrix: 2 × 2 of type dbl\n\\begin{tabular}{ll}\n\t -7 & 0\\\\\n\t  0 & 4\\\\\n\\end{tabular}\n",
            "text/markdown": "\nA matrix: 2 × 2 of type dbl\n\n| -7 | 0 |\n|  0 | 4 |\n\n",
            "text/html": [
              "<table class=\"dataframe\">\n",
              "<caption>A matrix: 2 × 2 of type dbl</caption>\n",
              "<tbody>\n",
              "\t<tr><td>-7</td><td>0</td></tr>\n",
              "\t<tr><td> 0</td><td>4</td></tr>\n",
              "</tbody>\n",
              "</table>\n"
            ]
          },
          "metadata": {}
        }
      ]
    },
    {
      "cell_type": "code",
      "metadata": {
        "colab": {
          "base_uri": "https://localhost:8080/",
          "height": 260
        },
        "id": "febfc067",
        "outputId": "4c0c8c03-e67c-4807-ad67-b0a3c83107c3"
      },
      "source": [
        "# Step 1 :  Find Covarience matrix ATrans*A\n",
        "C = t(A)%*%A\n",
        "print(A)\n",
        "\n",
        "# Step 2: Eigen values for finding v-vectors\n",
        "e = eigen(C)\n",
        "e\n",
        "\n",
        "# Step 3: Singular value - sqrt of eigen values\n",
        "sigma = sqrt(round(e$values,3))\n",
        "c('Single value', sigma)\n",
        "\n",
        "# Step 4: Major/Minor axes- new axes\n",
        "majorAxes = norm(A%*%e$vectors[,1],'2')\n",
        "c('Major Axes =',majorAxes)\n",
        "\n",
        "minorAxes = norm(A%*%e$vectors[,2],'2')\n",
        "c('Minor Axes =',minorAxes)\n"
      ],
      "id": "febfc067",
      "execution_count": null,
      "outputs": [
        {
          "output_type": "stream",
          "name": "stdout",
          "text": [
            "     [,1] [,2]\n",
            "[1,]   -7    0\n",
            "[2,]    0    4\n"
          ]
        },
        {
          "output_type": "display_data",
          "data": {
            "text/plain": [
              "eigen() decomposition\n",
              "$values\n",
              "[1] 49 16\n",
              "\n",
              "$vectors\n",
              "     [,1] [,2]\n",
              "[1,]   -1    0\n",
              "[2,]    0   -1\n"
            ]
          },
          "metadata": {}
        },
        {
          "output_type": "display_data",
          "data": {
            "text/plain": [
              "[1] \"Single value\" \"7\"            \"4\"           "
            ],
            "text/latex": "\\begin{enumerate*}\n\\item 'Single value'\n\\item '7'\n\\item '4'\n\\end{enumerate*}\n",
            "text/markdown": "1. 'Single value'\n2. '7'\n3. '4'\n\n\n",
            "text/html": [
              "<style>\n",
              ".list-inline {list-style: none; margin:0; padding: 0}\n",
              ".list-inline>li {display: inline-block}\n",
              ".list-inline>li:not(:last-child)::after {content: \"\\00b7\"; padding: 0 .5ex}\n",
              "</style>\n",
              "<ol class=list-inline><li>'Single value'</li><li>'7'</li><li>'4'</li></ol>\n"
            ]
          },
          "metadata": {}
        },
        {
          "output_type": "display_data",
          "data": {
            "text/plain": [
              "[1] \"Major Axes =\" \"7\"           "
            ],
            "text/latex": "\\begin{enumerate*}\n\\item 'Major Axes ='\n\\item '7'\n\\end{enumerate*}\n",
            "text/markdown": "1. 'Major Axes ='\n2. '7'\n\n\n",
            "text/html": [
              "<style>\n",
              ".list-inline {list-style: none; margin:0; padding: 0}\n",
              ".list-inline>li {display: inline-block}\n",
              ".list-inline>li:not(:last-child)::after {content: \"\\00b7\"; padding: 0 .5ex}\n",
              "</style>\n",
              "<ol class=list-inline><li>'Major Axes ='</li><li>'7'</li></ol>\n"
            ]
          },
          "metadata": {}
        },
        {
          "output_type": "display_data",
          "data": {
            "text/plain": [
              "[1] \"Minor Axes =\" \"4\"           "
            ],
            "text/latex": "\\begin{enumerate*}\n\\item 'Minor Axes ='\n\\item '4'\n\\end{enumerate*}\n",
            "text/markdown": "1. 'Minor Axes ='\n2. '4'\n\n\n",
            "text/html": [
              "<style>\n",
              ".list-inline {list-style: none; margin:0; padding: 0}\n",
              ".list-inline>li {display: inline-block}\n",
              ".list-inline>li:not(:last-child)::after {content: \"\\00b7\"; padding: 0 .5ex}\n",
              "</style>\n",
              "<ol class=list-inline><li>'Minor Axes ='</li><li>'4'</li></ol>\n"
            ]
          },
          "metadata": {}
        }
      ]
    },
    {
      "cell_type": "code",
      "metadata": {
        "colab": {
          "base_uri": "https://localhost:8080/",
          "height": 386
        },
        "id": "HEkPb9oigNOM",
        "outputId": "b9c52812-3c83-4eec-c691-b3367f82bcb7"
      },
      "source": [
        "#Find A given A=U(sigma)Vtrans\n",
        "\n",
        "# Step 1 - find V by eigen of A -> here 'e' is from A(trans)*A eigen vectors\n",
        "V = e$vectors\n",
        "V\n",
        "\n",
        "# Step 2 - sigma is sqrt of eigen values but since A= 2X3, so U and V (should be squar matrix of 2X2 and 3X3 ), so sigma (will be 2X3)\n",
        "sigma = matrix(c(sqrt(e$values[1]),0,0,sqrt(e$values[2]),0,0),nrow=2)\n",
        "sigma\n",
        "\n",
        "# Step 3 - U is (Av/sigma1) - since we want U of size 2X2 will calculate only u1 and u2 from v1 and v2\n",
        "U = A%*%V[,1:2]%*%diag(1/sqrt(e$values[1:2]))\n",
        "U\n",
        "\n",
        "# Step 4 - Final (U(sigma)Vtrans))\n",
        "A2 = U%*%sigma%*%t(V)\n",
        "A2\n"
      ],
      "id": "HEkPb9oigNOM",
      "execution_count": null,
      "outputs": [
        {
          "output_type": "display_data",
          "data": {
            "text/plain": [
              "     [,1]       [,2]       [,3]      \n",
              "[1,] -0.3333333 -0.6666667  0.6666667\n",
              "[2,] -0.6666667 -0.3333333 -0.6666667\n",
              "[3,] -0.6666667  0.6666667  0.3333333"
            ],
            "text/latex": "A matrix: 3 × 3 of type dbl\n\\begin{tabular}{lll}\n\t -0.3333333 & -0.6666667 &  0.6666667\\\\\n\t -0.6666667 & -0.3333333 & -0.6666667\\\\\n\t -0.6666667 &  0.6666667 &  0.3333333\\\\\n\\end{tabular}\n",
            "text/markdown": "\nA matrix: 3 × 3 of type dbl\n\n| -0.3333333 | -0.6666667 |  0.6666667 |\n| -0.6666667 | -0.3333333 | -0.6666667 |\n| -0.6666667 |  0.6666667 |  0.3333333 |\n\n",
            "text/html": [
              "<table class=\"dataframe\">\n",
              "<caption>A matrix: 3 × 3 of type dbl</caption>\n",
              "<tbody>\n",
              "\t<tr><td>-0.3333333</td><td>-0.6666667</td><td> 0.6666667</td></tr>\n",
              "\t<tr><td>-0.6666667</td><td>-0.3333333</td><td>-0.6666667</td></tr>\n",
              "\t<tr><td>-0.6666667</td><td> 0.6666667</td><td> 0.3333333</td></tr>\n",
              "</tbody>\n",
              "</table>\n"
            ]
          },
          "metadata": {}
        },
        {
          "output_type": "display_data",
          "data": {
            "text/plain": [
              "     [,1]     [,2]     [,3]\n",
              "[1,] 18.97367 0.000000 0   \n",
              "[2,]  0.00000 9.486833 0   "
            ],
            "text/latex": "A matrix: 2 × 3 of type dbl\n\\begin{tabular}{lll}\n\t 18.97367 & 0.000000 & 0\\\\\n\t  0.00000 & 9.486833 & 0\\\\\n\\end{tabular}\n",
            "text/markdown": "\nA matrix: 2 × 3 of type dbl\n\n| 18.97367 | 0.000000 | 0 |\n|  0.00000 | 9.486833 | 0 |\n\n",
            "text/html": [
              "<table class=\"dataframe\">\n",
              "<caption>A matrix: 2 × 3 of type dbl</caption>\n",
              "<tbody>\n",
              "\t<tr><td>18.97367</td><td>0.000000</td><td>0</td></tr>\n",
              "\t<tr><td> 0.00000</td><td>9.486833</td><td>0</td></tr>\n",
              "</tbody>\n",
              "</table>\n"
            ]
          },
          "metadata": {}
        },
        {
          "output_type": "display_data",
          "data": {
            "text/plain": [
              "     [,1]       [,2]      \n",
              "[1,] -0.9486833  0.3162278\n",
              "[2,] -0.3162278 -0.9486833"
            ],
            "text/latex": "A matrix: 2 × 2 of type dbl\n\\begin{tabular}{ll}\n\t -0.9486833 &  0.3162278\\\\\n\t -0.3162278 & -0.9486833\\\\\n\\end{tabular}\n",
            "text/markdown": "\nA matrix: 2 × 2 of type dbl\n\n| -0.9486833 |  0.3162278 |\n| -0.3162278 | -0.9486833 |\n\n",
            "text/html": [
              "<table class=\"dataframe\">\n",
              "<caption>A matrix: 2 × 2 of type dbl</caption>\n",
              "<tbody>\n",
              "\t<tr><td>-0.9486833</td><td> 0.3162278</td></tr>\n",
              "\t<tr><td>-0.3162278</td><td>-0.9486833</td></tr>\n",
              "</tbody>\n",
              "</table>\n"
            ]
          },
          "metadata": {}
        },
        {
          "output_type": "display_data",
          "data": {
            "text/plain": [
              "     [,1] [,2] [,3]\n",
              "[1,] 4    11   14  \n",
              "[2,] 8     7   -2  "
            ],
            "text/latex": "A matrix: 2 × 3 of type dbl\n\\begin{tabular}{lll}\n\t 4 & 11 & 14\\\\\n\t 8 &  7 & -2\\\\\n\\end{tabular}\n",
            "text/markdown": "\nA matrix: 2 × 3 of type dbl\n\n| 4 | 11 | 14 |\n| 8 |  7 | -2 |\n\n",
            "text/html": [
              "<table class=\"dataframe\">\n",
              "<caption>A matrix: 2 × 3 of type dbl</caption>\n",
              "<tbody>\n",
              "\t<tr><td>4</td><td>11</td><td>14</td></tr>\n",
              "\t<tr><td>8</td><td> 7</td><td>-2</td></tr>\n",
              "</tbody>\n",
              "</table>\n"
            ]
          },
          "metadata": {}
        }
      ]
    },
    {
      "cell_type": "markdown",
      "metadata": {
        "id": "lLFtViJMBnmO"
      },
      "source": [
        "# R way of using SVD funtion\n",
        "**remember** V is not t(V) \n"
      ],
      "id": "lLFtViJMBnmO"
    },
    {
      "cell_type": "code",
      "metadata": {
        "colab": {
          "base_uri": "https://localhost:8080/",
          "height": 132
        },
        "id": "LkmuiyYGr3dJ",
        "outputId": "44a84c32-6f62-4c8e-c42f-dde39732e567"
      },
      "source": [
        "#A = matrix(c(-18,2,-14,-2,13,19,11,21,-4,-4,-12,4,4,12,8,8),nrow = 4)\n",
        "#A = matrix(c(-18,-18,-24,-12,24,-12,6,6,-4,16,-2,14,22,-26,28,-32),nrow=4)\n",
        "#A = matrix(c(0,-4,0,0),nrow=2)\n",
        "A = matrix(c(30,-12,12,3,-3,3),nrow = 2)\n",
        "A"
      ],
      "id": "LkmuiyYGr3dJ",
      "execution_count": null,
      "outputs": [
        {
          "output_type": "display_data",
          "data": {
            "text/plain": [
              "     [,1] [,2] [,3]\n",
              "[1,] 3    0    -3  \n",
              "[2,] 3    3     3  "
            ],
            "text/latex": "A matrix: 2 × 3 of type dbl\n\\begin{tabular}{lll}\n\t 3 & 0 & -3\\\\\n\t 3 & 3 &  3\\\\\n\\end{tabular}\n",
            "text/markdown": "\nA matrix: 2 × 3 of type dbl\n\n| 3 | 0 | -3 |\n| 3 | 3 |  3 |\n\n",
            "text/html": [
              "<table class=\"dataframe\">\n",
              "<caption>A matrix: 2 × 3 of type dbl</caption>\n",
              "<tbody>\n",
              "\t<tr><td>3</td><td>0</td><td>-3</td></tr>\n",
              "\t<tr><td>3</td><td>3</td><td> 3</td></tr>\n",
              "</tbody>\n",
              "</table>\n"
            ]
          },
          "metadata": {}
        }
      ]
    },
    {
      "cell_type": "code",
      "metadata": {
        "colab": {
          "base_uri": "https://localhost:8080/",
          "height": 306
        },
        "id": "A5dtFnbJBsTX",
        "outputId": "323f4d99-72ad-4931-fba1-a602183a6c8d"
      },
      "source": [
        "S=svd(A)\n",
        "S # **remember** V is not t(V) \n"
      ],
      "id": "A5dtFnbJBsTX",
      "execution_count": null,
      "outputs": [
        {
          "output_type": "display_data",
          "data": {
            "text/plain": [
              "$d\n",
              "[1] 5.196152 4.242641\n",
              "\n",
              "$u\n",
              "             [,1]          [,2]\n",
              "[1,] 1.046728e-16 -1.000000e+00\n",
              "[2,] 1.000000e+00  1.046728e-16\n",
              "\n",
              "$v\n",
              "          [,1]       [,2]\n",
              "[1,] 0.5773503 -0.7071068\n",
              "[2,] 0.5773503  0.0000000\n",
              "[3,] 0.5773503  0.7071068\n"
            ],
            "text/latex": "\\begin{description}\n\\item[\\$d] \\begin{enumerate*}\n\\item 5.19615242270663\n\\item 4.24264068711929\n\\end{enumerate*}\n\n\\item[\\$u] A matrix: 2 × 2 of type dbl\n\\begin{tabular}{ll}\n\t 1.046728e-16 & -1.000000e+00\\\\\n\t 1.000000e+00 &  1.046728e-16\\\\\n\\end{tabular}\n\n\\item[\\$v] A matrix: 3 × 2 of type dbl\n\\begin{tabular}{ll}\n\t 0.5773503 & -0.7071068\\\\\n\t 0.5773503 &  0.0000000\\\\\n\t 0.5773503 &  0.7071068\\\\\n\\end{tabular}\n\n\\end{description}\n",
            "text/markdown": "$d\n:   1. 5.19615242270663\n2. 4.24264068711929\n\n\n\n$u\n:   \nA matrix: 2 × 2 of type dbl\n\n| 1.046728e-16 | -1.000000e+00 |\n| 1.000000e+00 |  1.046728e-16 |\n\n\n$v\n:   \nA matrix: 3 × 2 of type dbl\n\n| 0.5773503 | -0.7071068 |\n| 0.5773503 |  0.0000000 |\n| 0.5773503 |  0.7071068 |\n\n\n\n\n",
            "text/html": [
              "<dl>\n",
              "\t<dt>$d</dt>\n",
              "\t\t<dd><style>\n",
              ".list-inline {list-style: none; margin:0; padding: 0}\n",
              ".list-inline>li {display: inline-block}\n",
              ".list-inline>li:not(:last-child)::after {content: \"\\00b7\"; padding: 0 .5ex}\n",
              "</style>\n",
              "<ol class=list-inline><li>5.19615242270663</li><li>4.24264068711929</li></ol>\n",
              "</dd>\n",
              "\t<dt>$u</dt>\n",
              "\t\t<dd><table class=\"dataframe\">\n",
              "<caption>A matrix: 2 × 2 of type dbl</caption>\n",
              "<tbody>\n",
              "\t<tr><td>1.046728e-16</td><td>-1.000000e+00</td></tr>\n",
              "\t<tr><td>1.000000e+00</td><td> 1.046728e-16</td></tr>\n",
              "</tbody>\n",
              "</table>\n",
              "</dd>\n",
              "\t<dt>$v</dt>\n",
              "\t\t<dd><table class=\"dataframe\">\n",
              "<caption>A matrix: 3 × 2 of type dbl</caption>\n",
              "<tbody>\n",
              "\t<tr><td>0.5773503</td><td>-0.7071068</td></tr>\n",
              "\t<tr><td>0.5773503</td><td> 0.0000000</td></tr>\n",
              "\t<tr><td>0.5773503</td><td> 0.7071068</td></tr>\n",
              "</tbody>\n",
              "</table>\n",
              "</dd>\n",
              "</dl>\n"
            ]
          },
          "metadata": {}
        }
      ]
    },
    {
      "cell_type": "code",
      "metadata": {
        "colab": {
          "base_uri": "https://localhost:8080/",
          "height": 177
        },
        "id": "5eSOuwEHB22S",
        "outputId": "5af49dfa-855d-42ac-8441-92dc0e04f52d"
      },
      "source": [
        "S$u[,1:3]%*%diag(S$d[1:3])%*%t(S$v[,1:3])"
      ],
      "id": "5eSOuwEHB22S",
      "execution_count": null,
      "outputs": [
        {
          "output_type": "display_data",
          "data": {
            "text/plain": [
              "     [,1] [,2] [,3] [,4]\n",
              "[1,] -18  13    -4   4  \n",
              "[2,]   2  19    -4  12  \n",
              "[3,] -14  11   -12   8  \n",
              "[4,]  -2  21     4   8  "
            ],
            "text/latex": "A matrix: 4 × 4 of type dbl\n\\begin{tabular}{llll}\n\t -18 & 13 &  -4 &  4\\\\\n\t   2 & 19 &  -4 & 12\\\\\n\t -14 & 11 & -12 &  8\\\\\n\t  -2 & 21 &   4 &  8\\\\\n\\end{tabular}\n",
            "text/markdown": "\nA matrix: 4 × 4 of type dbl\n\n| -18 | 13 |  -4 |  4 |\n|   2 | 19 |  -4 | 12 |\n| -14 | 11 | -12 |  8 |\n|  -2 | 21 |   4 |  8 |\n\n",
            "text/html": [
              "<table class=\"dataframe\">\n",
              "<caption>A matrix: 4 × 4 of type dbl</caption>\n",
              "<tbody>\n",
              "\t<tr><td>-18</td><td>13</td><td> -4</td><td> 4</td></tr>\n",
              "\t<tr><td>  2</td><td>19</td><td> -4</td><td>12</td></tr>\n",
              "\t<tr><td>-14</td><td>11</td><td>-12</td><td> 8</td></tr>\n",
              "\t<tr><td> -2</td><td>21</td><td>  4</td><td> 8</td></tr>\n",
              "</tbody>\n",
              "</table>\n"
            ]
          },
          "metadata": {}
        }
      ]
    },
    {
      "cell_type": "markdown",
      "metadata": {
        "id": "_v5Xva0fF1gq"
      },
      "source": [
        "By default R gets the lower number of matrix values not the economy version. So to get full version use nu with **svd(matrix,nu=number)** function"
      ],
      "id": "_v5Xva0fF1gq"
    },
    {
      "cell_type": "code",
      "metadata": {
        "colab": {
          "base_uri": "https://localhost:8080/",
          "height": 181
        },
        "id": "WxRTI3qxCkj2",
        "outputId": "bfd272ca-6bd8-485d-a48c-2d6a4b7aba54"
      },
      "source": [
        "A1 = matrix(c(1,-2,2,-1,2,-2),nrow =3)\n",
        "A1\n"
      ],
      "id": "WxRTI3qxCkj2",
      "execution_count": null,
      "outputs": [
        {
          "output_type": "display_data",
          "data": {
            "text/plain": [
              "     [,1] [,2]\n",
              "[1,]  1   -1  \n",
              "[2,] -2    2  \n",
              "[3,]  2   -2  "
            ],
            "text/latex": "A matrix: 3 × 2 of type dbl\n\\begin{tabular}{ll}\n\t  1 & -1\\\\\n\t -2 &  2\\\\\n\t  2 & -2\\\\\n\\end{tabular}\n",
            "text/markdown": "\nA matrix: 3 × 2 of type dbl\n\n|  1 | -1 |\n| -2 |  2 |\n|  2 | -2 |\n\n",
            "text/html": [
              "<table class=\"dataframe\">\n",
              "<caption>A matrix: 3 × 2 of type dbl</caption>\n",
              "<tbody>\n",
              "\t<tr><td> 1</td><td>-1</td></tr>\n",
              "\t<tr><td>-2</td><td> 2</td></tr>\n",
              "\t<tr><td> 2</td><td>-2</td></tr>\n",
              "</tbody>\n",
              "</table>\n"
            ]
          },
          "metadata": {}
        }
      ]
    },
    {
      "cell_type": "code",
      "metadata": {
        "colab": {
          "base_uri": "https://localhost:8080/",
          "height": 306
        },
        "id": "PZ0CSAFPC6Kt",
        "outputId": "4b6a1e32-1e12-471f-8052-d8021749fbbb"
      },
      "source": [
        "S1 = svd(A1)\n",
        "S1 # since we have 3X2 matrix it returnes 2X2 U matrix"
      ],
      "id": "PZ0CSAFPC6Kt",
      "execution_count": null,
      "outputs": [
        {
          "output_type": "display_data",
          "data": {
            "text/plain": [
              "$d\n",
              "[1] 4.242641 0.000000\n",
              "\n",
              "$u\n",
              "           [,1]      [,2]\n",
              "[1,] -0.3333333 0.6666667\n",
              "[2,]  0.6666667 0.6666667\n",
              "[3,] -0.6666667 0.3333333\n",
              "\n",
              "$v\n",
              "           [,1]      [,2]\n",
              "[1,] -0.7071068 0.7071068\n",
              "[2,]  0.7071068 0.7071068\n"
            ],
            "text/latex": "\\begin{description}\n\\item[\\$d] \\begin{enumerate*}\n\\item 4.24264068711929\n\\item 0\n\\end{enumerate*}\n\n\\item[\\$u] A matrix: 3 × 2 of type dbl\n\\begin{tabular}{ll}\n\t -0.3333333 & 0.6666667\\\\\n\t  0.6666667 & 0.6666667\\\\\n\t -0.6666667 & 0.3333333\\\\\n\\end{tabular}\n\n\\item[\\$v] A matrix: 2 × 2 of type dbl\n\\begin{tabular}{ll}\n\t -0.7071068 & 0.7071068\\\\\n\t  0.7071068 & 0.7071068\\\\\n\\end{tabular}\n\n\\end{description}\n",
            "text/markdown": "$d\n:   1. 4.24264068711929\n2. 0\n\n\n\n$u\n:   \nA matrix: 3 × 2 of type dbl\n\n| -0.3333333 | 0.6666667 |\n|  0.6666667 | 0.6666667 |\n| -0.6666667 | 0.3333333 |\n\n\n$v\n:   \nA matrix: 2 × 2 of type dbl\n\n| -0.7071068 | 0.7071068 |\n|  0.7071068 | 0.7071068 |\n\n\n\n\n",
            "text/html": [
              "<dl>\n",
              "\t<dt>$d</dt>\n",
              "\t\t<dd><style>\n",
              ".list-inline {list-style: none; margin:0; padding: 0}\n",
              ".list-inline>li {display: inline-block}\n",
              ".list-inline>li:not(:last-child)::after {content: \"\\00b7\"; padding: 0 .5ex}\n",
              "</style>\n",
              "<ol class=list-inline><li>4.24264068711929</li><li>0</li></ol>\n",
              "</dd>\n",
              "\t<dt>$u</dt>\n",
              "\t\t<dd><table class=\"dataframe\">\n",
              "<caption>A matrix: 3 × 2 of type dbl</caption>\n",
              "<tbody>\n",
              "\t<tr><td>-0.3333333</td><td>0.6666667</td></tr>\n",
              "\t<tr><td> 0.6666667</td><td>0.6666667</td></tr>\n",
              "\t<tr><td>-0.6666667</td><td>0.3333333</td></tr>\n",
              "</tbody>\n",
              "</table>\n",
              "</dd>\n",
              "\t<dt>$v</dt>\n",
              "\t\t<dd><table class=\"dataframe\">\n",
              "<caption>A matrix: 2 × 2 of type dbl</caption>\n",
              "<tbody>\n",
              "\t<tr><td>-0.7071068</td><td>0.7071068</td></tr>\n",
              "\t<tr><td> 0.7071068</td><td>0.7071068</td></tr>\n",
              "</tbody>\n",
              "</table>\n",
              "</dd>\n",
              "</dl>\n"
            ]
          },
          "metadata": {}
        }
      ]
    },
    {
      "cell_type": "code",
      "metadata": {
        "colab": {
          "base_uri": "https://localhost:8080/",
          "height": 306
        },
        "id": "a1pBPWf8DFX_",
        "outputId": "2785dc41-efbb-488b-e0cc-0617b1003e99"
      },
      "source": [
        "#For full versionon svd\n",
        "S2 = svd(A1, nu=3)\n",
        "S2"
      ],
      "id": "a1pBPWf8DFX_",
      "execution_count": null,
      "outputs": [
        {
          "output_type": "display_data",
          "data": {
            "text/plain": [
              "$d\n",
              "[1] 4.242641 0.000000\n",
              "\n",
              "$u\n",
              "           [,1]      [,2]       [,3]\n",
              "[1,] -0.3333333 0.6666667 -0.6666667\n",
              "[2,]  0.6666667 0.6666667  0.3333333\n",
              "[3,] -0.6666667 0.3333333  0.6666667\n",
              "\n",
              "$v\n",
              "           [,1]      [,2]\n",
              "[1,] -0.7071068 0.7071068\n",
              "[2,]  0.7071068 0.7071068\n"
            ],
            "text/latex": "\\begin{description}\n\\item[\\$d] \\begin{enumerate*}\n\\item 4.24264068711929\n\\item 0\n\\end{enumerate*}\n\n\\item[\\$u] A matrix: 3 × 3 of type dbl\n\\begin{tabular}{lll}\n\t -0.3333333 & 0.6666667 & -0.6666667\\\\\n\t  0.6666667 & 0.6666667 &  0.3333333\\\\\n\t -0.6666667 & 0.3333333 &  0.6666667\\\\\n\\end{tabular}\n\n\\item[\\$v] A matrix: 2 × 2 of type dbl\n\\begin{tabular}{ll}\n\t -0.7071068 & 0.7071068\\\\\n\t  0.7071068 & 0.7071068\\\\\n\\end{tabular}\n\n\\end{description}\n",
            "text/markdown": "$d\n:   1. 4.24264068711929\n2. 0\n\n\n\n$u\n:   \nA matrix: 3 × 3 of type dbl\n\n| -0.3333333 | 0.6666667 | -0.6666667 |\n|  0.6666667 | 0.6666667 |  0.3333333 |\n| -0.6666667 | 0.3333333 |  0.6666667 |\n\n\n$v\n:   \nA matrix: 2 × 2 of type dbl\n\n| -0.7071068 | 0.7071068 |\n|  0.7071068 | 0.7071068 |\n\n\n\n\n",
            "text/html": [
              "<dl>\n",
              "\t<dt>$d</dt>\n",
              "\t\t<dd><style>\n",
              ".list-inline {list-style: none; margin:0; padding: 0}\n",
              ".list-inline>li {display: inline-block}\n",
              ".list-inline>li:not(:last-child)::after {content: \"\\00b7\"; padding: 0 .5ex}\n",
              "</style>\n",
              "<ol class=list-inline><li>4.24264068711929</li><li>0</li></ol>\n",
              "</dd>\n",
              "\t<dt>$u</dt>\n",
              "\t\t<dd><table class=\"dataframe\">\n",
              "<caption>A matrix: 3 × 3 of type dbl</caption>\n",
              "<tbody>\n",
              "\t<tr><td>-0.3333333</td><td>0.6666667</td><td>-0.6666667</td></tr>\n",
              "\t<tr><td> 0.6666667</td><td>0.6666667</td><td> 0.3333333</td></tr>\n",
              "\t<tr><td>-0.6666667</td><td>0.3333333</td><td> 0.6666667</td></tr>\n",
              "</tbody>\n",
              "</table>\n",
              "</dd>\n",
              "\t<dt>$v</dt>\n",
              "\t\t<dd><table class=\"dataframe\">\n",
              "<caption>A matrix: 2 × 2 of type dbl</caption>\n",
              "<tbody>\n",
              "\t<tr><td>-0.7071068</td><td>0.7071068</td></tr>\n",
              "\t<tr><td> 0.7071068</td><td>0.7071068</td></tr>\n",
              "</tbody>\n",
              "</table>\n",
              "</dd>\n",
              "</dl>\n"
            ]
          },
          "metadata": {}
        }
      ]
    },
    {
      "cell_type": "markdown",
      "metadata": {
        "id": "dIEh9wWAgOyL"
      },
      "source": [
        "# Find the A and A2 and error \n",
        "Use the first 2 singular values of A to find approximation for A. Determin error between A and A2."
      ],
      "id": "dIEh9wWAgOyL"
    },
    {
      "cell_type": "code",
      "metadata": {
        "colab": {
          "base_uri": "https://localhost:8080/",
          "height": 177
        },
        "id": "JSmAE_SrGrw8",
        "outputId": "edd83139-5951-4fbf-ed80-ecca89deef3b"
      },
      "source": [
        "#A_ = matrix(c(16,5,9,4,2,11,7,14,3,10,6,15,13,8,12,1),nrow=4)\n",
        "A_ = matrix(c(-18,-16,10,12,-16,-18,12,10,12,26,16,30,26,12,30,16),nrow=4)\n",
        "A_\n",
        "#B_ = magic(4)\n"
      ],
      "id": "JSmAE_SrGrw8",
      "execution_count": null,
      "outputs": [
        {
          "output_type": "display_data",
          "data": {
            "text/plain": [
              "     [,1] [,2] [,3] [,4]\n",
              "[1,] -18  -16  12   26  \n",
              "[2,] -16  -18  26   12  \n",
              "[3,]  10   12  16   30  \n",
              "[4,]  12   10  30   16  "
            ],
            "text/latex": "A matrix: 4 × 4 of type dbl\n\\begin{tabular}{llll}\n\t -18 & -16 & 12 & 26\\\\\n\t -16 & -18 & 26 & 12\\\\\n\t  10 &  12 & 16 & 30\\\\\n\t  12 &  10 & 30 & 16\\\\\n\\end{tabular}\n",
            "text/markdown": "\nA matrix: 4 × 4 of type dbl\n\n| -18 | -16 | 12 | 26 |\n| -16 | -18 | 26 | 12 |\n|  10 |  12 | 16 | 30 |\n|  12 |  10 | 30 | 16 |\n\n",
            "text/html": [
              "<table class=\"dataframe\">\n",
              "<caption>A matrix: 4 × 4 of type dbl</caption>\n",
              "<tbody>\n",
              "\t<tr><td>-18</td><td>-16</td><td>12</td><td>26</td></tr>\n",
              "\t<tr><td>-16</td><td>-18</td><td>26</td><td>12</td></tr>\n",
              "\t<tr><td> 10</td><td> 12</td><td>16</td><td>30</td></tr>\n",
              "\t<tr><td> 12</td><td> 10</td><td>30</td><td>16</td></tr>\n",
              "</tbody>\n",
              "</table>\n"
            ]
          },
          "metadata": {}
        }
      ]
    },
    {
      "cell_type": "code",
      "metadata": {
        "colab": {
          "base_uri": "https://localhost:8080/",
          "height": 435
        },
        "id": "adPl5_w_bbkw",
        "outputId": "4b5c4cff-351a-46eb-da8a-afdc7d3ae546"
      },
      "source": [
        "S_ = svd(A_)\n",
        "S_"
      ],
      "id": "adPl5_w_bbkw",
      "execution_count": null,
      "outputs": [
        {
          "output_type": "display_data",
          "data": {
            "text/plain": [
              "$d\n",
              "[1] 6.000000e+01 4.000000e+01 2.000000e+01 4.949364e-15\n",
              "\n",
              "$u\n",
              "     [,1] [,2] [,3] [,4]\n",
              "[1,] -0.5  0.5 -0.5  0.5\n",
              "[2,] -0.5  0.5  0.5 -0.5\n",
              "[3,] -0.5 -0.5 -0.5 -0.5\n",
              "[4,] -0.5 -0.5  0.5  0.5\n",
              "\n",
              "$v\n",
              "     [,1] [,2] [,3] [,4]\n",
              "[1,]  0.1 -0.7  0.1 -0.7\n",
              "[2,]  0.1 -0.7 -0.1  0.7\n",
              "[3,] -0.7 -0.1  0.7  0.1\n",
              "[4,] -0.7 -0.1 -0.7 -0.1\n"
            ],
            "text/latex": "\\begin{description}\n\\item[\\$d] \\begin{enumerate*}\n\\item 60\n\\item 40\n\\item 20\n\\item 4.94936430835951e-15\n\\end{enumerate*}\n\n\\item[\\$u] A matrix: 4 × 4 of type dbl\n\\begin{tabular}{llll}\n\t -0.5 &  0.5 & -0.5 &  0.5\\\\\n\t -0.5 &  0.5 &  0.5 & -0.5\\\\\n\t -0.5 & -0.5 & -0.5 & -0.5\\\\\n\t -0.5 & -0.5 &  0.5 &  0.5\\\\\n\\end{tabular}\n\n\\item[\\$v] A matrix: 4 × 4 of type dbl\n\\begin{tabular}{llll}\n\t  0.1 & -0.7 &  0.1 & -0.7\\\\\n\t  0.1 & -0.7 & -0.1 &  0.7\\\\\n\t -0.7 & -0.1 &  0.7 &  0.1\\\\\n\t -0.7 & -0.1 & -0.7 & -0.1\\\\\n\\end{tabular}\n\n\\end{description}\n",
            "text/markdown": "$d\n:   1. 60\n2. 40\n3. 20\n4. 4.94936430835951e-15\n\n\n\n$u\n:   \nA matrix: 4 × 4 of type dbl\n\n| -0.5 |  0.5 | -0.5 |  0.5 |\n| -0.5 |  0.5 |  0.5 | -0.5 |\n| -0.5 | -0.5 | -0.5 | -0.5 |\n| -0.5 | -0.5 |  0.5 |  0.5 |\n\n\n$v\n:   \nA matrix: 4 × 4 of type dbl\n\n|  0.1 | -0.7 |  0.1 | -0.7 |\n|  0.1 | -0.7 | -0.1 |  0.7 |\n| -0.7 | -0.1 |  0.7 |  0.1 |\n| -0.7 | -0.1 | -0.7 | -0.1 |\n\n\n\n\n",
            "text/html": [
              "<dl>\n",
              "\t<dt>$d</dt>\n",
              "\t\t<dd><style>\n",
              ".list-inline {list-style: none; margin:0; padding: 0}\n",
              ".list-inline>li {display: inline-block}\n",
              ".list-inline>li:not(:last-child)::after {content: \"\\00b7\"; padding: 0 .5ex}\n",
              "</style>\n",
              "<ol class=list-inline><li>60</li><li>40</li><li>20</li><li>4.94936430835951e-15</li></ol>\n",
              "</dd>\n",
              "\t<dt>$u</dt>\n",
              "\t\t<dd><table class=\"dataframe\">\n",
              "<caption>A matrix: 4 × 4 of type dbl</caption>\n",
              "<tbody>\n",
              "\t<tr><td>-0.5</td><td> 0.5</td><td>-0.5</td><td> 0.5</td></tr>\n",
              "\t<tr><td>-0.5</td><td> 0.5</td><td> 0.5</td><td>-0.5</td></tr>\n",
              "\t<tr><td>-0.5</td><td>-0.5</td><td>-0.5</td><td>-0.5</td></tr>\n",
              "\t<tr><td>-0.5</td><td>-0.5</td><td> 0.5</td><td> 0.5</td></tr>\n",
              "</tbody>\n",
              "</table>\n",
              "</dd>\n",
              "\t<dt>$v</dt>\n",
              "\t\t<dd><table class=\"dataframe\">\n",
              "<caption>A matrix: 4 × 4 of type dbl</caption>\n",
              "<tbody>\n",
              "\t<tr><td> 0.1</td><td>-0.7</td><td> 0.1</td><td>-0.7</td></tr>\n",
              "\t<tr><td> 0.1</td><td>-0.7</td><td>-0.1</td><td> 0.7</td></tr>\n",
              "\t<tr><td>-0.7</td><td>-0.1</td><td> 0.7</td><td> 0.1</td></tr>\n",
              "\t<tr><td>-0.7</td><td>-0.1</td><td>-0.7</td><td>-0.1</td></tr>\n",
              "</tbody>\n",
              "</table>\n",
              "</dd>\n",
              "</dl>\n"
            ]
          },
          "metadata": {}
        }
      ]
    },
    {
      "cell_type": "code",
      "metadata": {
        "colab": {
          "base_uri": "https://localhost:8080/",
          "height": 160
        },
        "id": "Zvcrht6sbjH8",
        "outputId": "09c2b0a6-f476-48af-9028-cc4b895d1a68"
      },
      "source": [
        "# TO take only first 2 singular values....\n",
        "Aprox_A = S_$u[,1:2]%*%diag(S_$d[1:2])%*%t(S_$v[,1:2])\n",
        "Aprox_A"
      ],
      "id": "Zvcrht6sbjH8",
      "execution_count": null,
      "outputs": [
        {
          "output_type": "display_data",
          "data": {
            "text/plain": [
              "     [,1] [,2] [,3] [,4]\n",
              "[1,] 14.5  2.5  2.5 14.5\n",
              "[2,]  6.5 10.5 10.5  6.5\n",
              "[3,] 10.5  6.5  6.5 10.5\n",
              "[4,]  2.5 14.5 14.5  2.5"
            ],
            "text/latex": "A matrix: 4 × 4 of type dbl\n\\begin{tabular}{llll}\n\t 14.5 &  2.5 &  2.5 & 14.5\\\\\n\t  6.5 & 10.5 & 10.5 &  6.5\\\\\n\t 10.5 &  6.5 &  6.5 & 10.5\\\\\n\t  2.5 & 14.5 & 14.5 &  2.5\\\\\n\\end{tabular}\n",
            "text/markdown": "\nA matrix: 4 × 4 of type dbl\n\n| 14.5 |  2.5 |  2.5 | 14.5 |\n|  6.5 | 10.5 | 10.5 |  6.5 |\n| 10.5 |  6.5 |  6.5 | 10.5 |\n|  2.5 | 14.5 | 14.5 |  2.5 |\n\n",
            "text/html": [
              "<table class=\"dataframe\">\n",
              "<caption>A matrix: 4 × 4 of type dbl</caption>\n",
              "<tbody>\n",
              "\t<tr><td>14.5</td><td> 2.5</td><td> 2.5</td><td>14.5</td></tr>\n",
              "\t<tr><td> 6.5</td><td>10.5</td><td>10.5</td><td> 6.5</td></tr>\n",
              "\t<tr><td>10.5</td><td> 6.5</td><td> 6.5</td><td>10.5</td></tr>\n",
              "\t<tr><td> 2.5</td><td>14.5</td><td>14.5</td><td> 2.5</td></tr>\n",
              "</tbody>\n",
              "</table>\n"
            ]
          },
          "metadata": {}
        }
      ]
    },
    {
      "cell_type": "code",
      "metadata": {
        "colab": {
          "base_uri": "https://localhost:8080/",
          "height": 35
        },
        "id": "PaoRM6cHdsPY",
        "outputId": "a2bb5760-1149-4c23-b1db-74dc9cc0cd69"
      },
      "source": [
        "# The error that we are commiting by ignoring the rest of the singular values is k-1 (i.e. the eigen value 3rd after 2nd)\n",
        "rootSSE = norm(A_-Aprox_A,'2')\n",
        "rootSSE"
      ],
      "id": "PaoRM6cHdsPY",
      "execution_count": null,
      "outputs": [
        {
          "output_type": "display_data",
          "data": {
            "text/plain": [
              "[1] 4.472136"
            ],
            "text/latex": "4.47213595499958",
            "text/markdown": "4.47213595499958",
            "text/html": [
              "4.47213595499958"
            ]
          },
          "metadata": {}
        }
      ]
    },
    {
      "cell_type": "markdown",
      "metadata": {
        "id": "9EjGZznu_zb0"
      },
      "source": [
        "# Condition number of a matrix"
      ],
      "id": "9EjGZznu_zb0"
    },
    {
      "cell_type": "code",
      "metadata": {
        "id": "ooWA8f1ZgBi8",
        "colab": {
          "base_uri": "https://localhost:8080/",
          "height": 177
        },
        "outputId": "5adba05c-83e3-42af-f0b3-22731b693e37"
      },
      "source": [
        "A = matrix(c(4,-6,7,-1,0,1,-5,2,-7,11,10,3,-7,9,19,-1),nrow = 4)\n",
        "A"
      ],
      "id": "ooWA8f1ZgBi8",
      "execution_count": null,
      "outputs": [
        {
          "output_type": "display_data",
          "data": {
            "text/plain": [
              "     [,1] [,2] [,3] [,4]\n",
              "[1,]  4    0   -7   -7  \n",
              "[2,] -6    1   11    9  \n",
              "[3,]  7   -5   10   19  \n",
              "[4,] -1    2    3   -1  "
            ],
            "text/latex": "A matrix: 4 × 4 of type dbl\n\\begin{tabular}{llll}\n\t  4 &  0 & -7 & -7\\\\\n\t -6 &  1 & 11 &  9\\\\\n\t  7 & -5 & 10 & 19\\\\\n\t -1 &  2 &  3 & -1\\\\\n\\end{tabular}\n",
            "text/markdown": "\nA matrix: 4 × 4 of type dbl\n\n|  4 |  0 | -7 | -7 |\n| -6 |  1 | 11 |  9 |\n|  7 | -5 | 10 | 19 |\n| -1 |  2 |  3 | -1 |\n\n",
            "text/html": [
              "<table class=\"dataframe\">\n",
              "<caption>A matrix: 4 × 4 of type dbl</caption>\n",
              "<tbody>\n",
              "\t<tr><td> 4</td><td> 0</td><td>-7</td><td>-7</td></tr>\n",
              "\t<tr><td>-6</td><td> 1</td><td>11</td><td> 9</td></tr>\n",
              "\t<tr><td> 7</td><td>-5</td><td>10</td><td>19</td></tr>\n",
              "\t<tr><td>-1</td><td> 2</td><td> 3</td><td>-1</td></tr>\n",
              "</tbody>\n",
              "</table>\n"
            ]
          },
          "metadata": {}
        }
      ]
    },
    {
      "cell_type": "code",
      "metadata": {
        "colab": {
          "base_uri": "https://localhost:8080/",
          "height": 35
        },
        "id": "GRR89d8mNzR_",
        "outputId": "51d37283-6f72-4eae-ce95-4b6cd81bbcc2"
      },
      "source": [
        "e=svd(A)\n",
        "\n",
        "head(e$d,1)/tail(e$d,1)  # Find the accuracy "
      ],
      "id": "GRR89d8mNzR_",
      "execution_count": null,
      "outputs": [
        {
          "output_type": "display_data",
          "data": {
            "text/plain": [
              "[1] 23682.93"
            ],
            "text/latex": "23682.9278747096",
            "text/markdown": "23682.9278747096",
            "text/html": [
              "23682.9278747096"
            ]
          },
          "metadata": {}
        }
      ]
    },
    {
      "cell_type": "code",
      "metadata": {
        "id": "-HWO0CHKCD-r"
      },
      "source": [
        ""
      ],
      "id": "-HWO0CHKCD-r",
      "execution_count": null,
      "outputs": []
    }
  ]
}