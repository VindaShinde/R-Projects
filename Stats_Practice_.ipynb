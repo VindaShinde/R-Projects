{
  "nbformat": 4,
  "nbformat_minor": 0,
  "metadata": {
    "colab": {
      "name": "Stats_Practice .ipynb",
      "provenance": [],
      "authorship_tag": "ABX9TyPRMT3d3S/w/NVyeeuiHL2f",
      "include_colab_link": true
    },
    "kernelspec": {
      "name": "ir",
      "display_name": "R"
    },
    "language_info": {
      "name": "R"
    }
  },
  "cells": [
    {
      "cell_type": "markdown",
      "metadata": {
        "id": "view-in-github",
        "colab_type": "text"
      },
      "source": [
        "<a href=\"https://colab.research.google.com/github/VindaShinde/R-Projects/blob/main/Stats_Practice_.ipynb\" target=\"_parent\"><img src=\"https://colab.research.google.com/assets/colab-badge.svg\" alt=\"Open In Colab\"/></a>"
      ]
    },
    {
      "cell_type": "markdown",
      "metadata": {
        "id": "IpZRptOYDcjO"
      },
      "source": [
        "# P-value for type 1 error\n"
      ]
    },
    {
      "cell_type": "markdown",
      "metadata": {
        "id": "qY5tfnNDAkc1"
      },
      "source": [
        "• A manufacturer of cereal wants to test the\n",
        "performance of one of its filling machines\n",
        "• The machine is designed to discharge a\n",
        "mean amount of µ = 12 ounces per box\n",
        "• The manufacturer wants to detect any\n",
        "departure from this setting\n",
        "• Suppose the sample yields the following\n",
        "results \n",
        "\n",
        "1.   n = 100 observations (boxes) \n",
        "2.   x^ = 11.85 ounces \n",
        "3.   sigma = 0.5 ounces\n",
        "4.   µ = 12 ounces per box\n",
        "\n",
        "p = (x^ - µ) /(sigma / sqrt(n))\n",
        "\n",
        "• Perform a test of significance and\n",
        "summarize your results at alpha = 0.01."
      ]
    },
    {
      "cell_type": "code",
      "metadata": {
        "colab": {
          "base_uri": "https://localhost:8080/",
          "height": 35
        },
        "id": "Yc5ZL1nAA1Um",
        "outputId": "018b28a4-e167-4cac-aa38-ea874cd88d2c"
      },
      "source": [
        "#for 2 sided z values\n",
        "\n",
        "p_value = 2*pnorm(11.85, mean= 12, sd = 0.5/sqrt(100))\n",
        "p_value"
      ],
      "execution_count": null,
      "outputs": [
        {
          "output_type": "display_data",
          "data": {
            "text/plain": [
              "[1] 0.002699796"
            ],
            "text/latex": "0.00269979606326013",
            "text/markdown": "0.00269979606326013",
            "text/html": [
              "0.00269979606326013"
            ]
          },
          "metadata": {}
        }
      ]
    },
    {
      "cell_type": "markdown",
      "metadata": {
        "id": "Xv1xfb4oCohX"
      },
      "source": [
        "**p-value=0.0027 < 0.01 àReject H0**\n",
        "\n",
        "• Conclusion: At this significance level, the sample provides enough\n",
        "evidence to believe that mean amount of cereal the machines discharge is\n",
        "different from 12 ounces per box"
      ]
    },
    {
      "cell_type": "markdown",
      "metadata": {
        "id": "fl-Xbc_gCg7i"
      },
      "source": [
        "#------------------------------------------------------------------------------------------------------------------------------------------\n",
        "# t- test\n",
        "\n",
        "**When the population mean is not available use of sample mean**\n",
        "\n",
        "• Acid rain from the burning of fossil fuels has caused many of\n",
        "the lakes around the world to become acidic.\n",
        "• A lake is classified as nonacidic if it has a pH greater than 6.\n",
        "• This table shows the pH levels obtained by the researchers for\n",
        "15 lakes.\n",
        "• At the 5% significance level, do the data provide sufficient\n",
        "evidence to conclude that, on average, high mountain lakes in\n",
        "the Southern Alps are nonacidic?\n",
        "\n",
        "Sample values for 15 lakes given\n"
      ]
    },
    {
      "cell_type": "code",
      "metadata": {
        "id": "bmbaEHxJDvWJ"
      },
      "source": [
        "d = c(7.2,7.3,6.1,6.9,6.6,7.3,6.3,5.5,6.3,6.5,5.7,6.9,6.7,7.9,5.8)"
      ],
      "execution_count": null,
      "outputs": []
    },
    {
      "cell_type": "code",
      "metadata": {
        "colab": {
          "base_uri": "https://localhost:8080/",
          "height": 208
        },
        "id": "cpav0qs9FCv9",
        "outputId": "d91fe64a-c0d4-46b9-9c40-540c5a6c0592"
      },
      "source": [
        "t.test(d, alternative = \"greater\",mu=6)"
      ],
      "execution_count": null,
      "outputs": [
        {
          "output_type": "display_data",
          "data": {
            "text/plain": [
              "\n",
              "\tOne Sample t-test\n",
              "\n",
              "data:  d\n",
              "t = 3.4586, df = 14, p-value = 0.001919\n",
              "alternative hypothesis: true mean is greater than 6\n",
              "95 percent confidence interval:\n",
              " 6.294448      Inf\n",
              "sample estimates:\n",
              "mean of x \n",
              "      6.6 \n"
            ]
          },
          "metadata": {}
        }
      ]
    },
    {
      "cell_type": "markdown",
      "metadata": {
        "id": "7bNr6kCLFSHG"
      },
      "source": [
        "At the 5%\n",
        "significance level, the data provide\n",
        "sufficient evidence to conclude\n",
        "that, on average, high mountain\n",
        "lakes in the Southern Alps are\n",
        "nonacidic."
      ]
    },
    {
      "cell_type": "markdown",
      "metadata": {
        "id": "DU5b_YLGFjWl"
      },
      "source": [
        "# Type 2 error probability\n",
        "\n",
        "The probability of making a Type II error depends on:\n",
        "**– the sample size,\n",
        "– the significance level,\n",
        "– the true value of the parameter under consideration**"
      ]
    },
    {
      "cell_type": "markdown",
      "metadata": {
        "id": "VxxlVSLpGVlE"
      },
      "source": [
        "The manufacturer of a new model\n",
        "car, the Orion, claims that a typical\n",
        "car gets 26 miles per gallon (mpg).\n",
        "• A consumer advocacy group is\n",
        "skeptical of this claim and thinks\n",
        "that the mean gas mileage, μ, of all\n",
        "Orions may be less than 26 mpg.\n",
        "• The group plans to perform the\n",
        "hypothesis test at the 5%\n",
        "significance level, using a sample of\n",
        "30 Orions.\n",
        "• Assume population standard\n",
        "deviation is 1.4\n",
        "\n",
        "\n",
        "- H0:μ=26 mpg(manufacturer's claim)\n",
        "- Ha:μ<26 mpg(consumer group's con\n",
        "jecture).\n",
        "- Find the probability of making a\n",
        "Type II error if the true mean gas\n",
        "mileage of all Orions is 25.8 mpg\n",
        "\n",
        "- We don’t reject the null hypothesis if p-value > α=0.05.\n",
        "- i.e. the area under the standard normal curve to the right\n",
        "of the value of the test statistic is at least 1- 0.05, that is,\n",
        "z>−z0.05"
      ]
    },
    {
      "cell_type": "code",
      "metadata": {
        "colab": {
          "base_uri": "https://localhost:8080/",
          "height": 35
        },
        "id": "35bZXQ-2G-ml",
        "outputId": "77d8da12-6a68-4e1e-8f43-a136a3ad48ff"
      },
      "source": [
        "critical_value = qnorm(0.05,mean = 26, sd = 1.4/sqrt(30),lower.tail = T)\n",
        "critical_value"
      ],
      "execution_count": null,
      "outputs": [
        {
          "output_type": "display_data",
          "data": {
            "text/plain": [
              "[1] 25.57957"
            ],
            "text/latex": "25.5795690635381",
            "text/markdown": "25.5795690635381",
            "text/html": [
              "25.5795690635381"
            ]
          },
          "metadata": {}
        }
      ]
    },
    {
      "cell_type": "code",
      "metadata": {
        "colab": {
          "base_uri": "https://localhost:8080/",
          "height": 35
        },
        "id": "68noAEQAJGWU",
        "outputId": "a98e9165-0b9a-4734-9cc2-a122e3ae76bd"
      },
      "source": [
        "  pnorm(1.66)"
      ],
      "execution_count": null,
      "outputs": [
        {
          "output_type": "display_data",
          "data": {
            "text/plain": [
              "[1] 0.9515428"
            ],
            "text/latex": "0.951542773733277",
            "text/markdown": "0.951542773733277",
            "text/html": [
              "0.951542773733277"
            ]
          },
          "metadata": {}
        }
      ]
    },
    {
      "cell_type": "code",
      "metadata": {
        "colab": {
          "base_uri": "https://localhost:8080/",
          "height": 52
        },
        "id": "H4bb15nrn_Bw",
        "outputId": "28f59ff0-058c-46ca-e2f3-1c38c477cbd7"
      },
      "source": [
        "pnorm(33,mean = 35, sd = 4/sqrt(38))\n",
        "\n",
        "z = (0.1-1.10)/(0.15/sqrt(3))\n",
        "z"
      ],
      "execution_count": null,
      "outputs": [
        {
          "output_type": "display_data",
          "data": {
            "text/plain": [
              "[1] 0.001027359"
            ],
            "text/latex": "0.00102735948806591",
            "text/markdown": "0.00102735948806591",
            "text/html": [
              "0.00102735948806591"
            ]
          },
          "metadata": {}
        },
        {
          "output_type": "display_data",
          "data": {
            "text/plain": [
              "[1] -11.54701"
            ],
            "text/latex": "-11.5470053837925",
            "text/markdown": "-11.5470053837925",
            "text/html": [
              "-11.5470053837925"
            ]
          },
          "metadata": {}
        }
      ]
    },
    {
      "cell_type": "code",
      "metadata": {
        "colab": {
          "base_uri": "https://localhost:8080/",
          "height": 87
        },
        "id": "L7lRB6Z_7aBU",
        "outputId": "6e2e1b3c-c62d-4850-85cf-8b542e0031d4"
      },
      "source": [
        "pnorm(z)\n",
        "qnorm(3.829,mean = 0.1, sd = 0.15/sqrt(3),lower.tail = T)"
      ],
      "execution_count": null,
      "outputs": [
        {
          "output_type": "display_data",
          "data": {
            "text/plain": [
              "[1] 3.821879e-31"
            ],
            "text/latex": "3.82187919281561e-31",
            "text/markdown": "3.82187919281561e-31",
            "text/html": [
              "3.82187919281561e-31"
            ]
          },
          "metadata": {}
        },
        {
          "output_type": "stream",
          "name": "stderr",
          "text": [
            "Warning message in qnorm(3.829, mean = 0.1, sd = 0.15/sqrt(3), lower.tail = T):\n",
            "“NaNs produced”\n"
          ]
        },
        {
          "output_type": "display_data",
          "data": {
            "text/plain": [
              "[1] NaN"
            ],
            "text/latex": "NaN",
            "text/markdown": "NaN",
            "text/html": [
              "NaN"
            ]
          },
          "metadata": {}
        }
      ]
    },
    {
      "cell_type": "code",
      "metadata": {
        "colab": {
          "base_uri": "https://localhost:8080/",
          "height": 52
        },
        "id": "LHYK8shW8Eys",
        "outputId": "dd0d9c1f-fdc5-48e1-b94a-6010a23d0ce1"
      },
      "source": [
        "# to find Popolation mean MU\n",
        "MU = sum(70,65,43,38,38,36)/6\n",
        "MU\n",
        "sigma = sum(38,36)/2\n",
        "sigma"
      ],
      "execution_count": null,
      "outputs": [
        {
          "output_type": "display_data",
          "data": {
            "text/plain": [
              "[1] 48.33333"
            ],
            "text/latex": "48.3333333333333",
            "text/markdown": "48.3333333333333",
            "text/html": [
              "48.3333333333333"
            ]
          },
          "metadata": {}
        },
        {
          "output_type": "display_data",
          "data": {
            "text/plain": [
              "[1] 37"
            ],
            "text/latex": "37",
            "text/markdown": "37",
            "text/html": [
              "37"
            ]
          },
          "metadata": {}
        }
      ]
    },
    {
      "cell_type": "code",
      "metadata": {
        "colab": {
          "base_uri": "https://localhost:8080/",
          "height": 52
        },
        "id": "EcBh81FZ6fUF",
        "outputId": "ea604ee9-25e3-4cdd-ef9d-13631a7f6526"
      },
      "source": [
        "pnorm(q=2.34, mean = 0, sd = 1)\n",
        "pnorm(2.34)"
      ],
      "execution_count": null,
      "outputs": [
        {
          "output_type": "display_data",
          "data": {
            "text/plain": [
              "[1] 0.9903581"
            ],
            "text/latex": "0.990358130054642",
            "text/markdown": "0.990358130054642",
            "text/html": [
              "0.990358130054642"
            ]
          },
          "metadata": {}
        },
        {
          "output_type": "display_data",
          "data": {
            "text/plain": [
              "[1] 0.9903581"
            ],
            "text/latex": "0.990358130054642",
            "text/markdown": "0.990358130054642",
            "text/html": [
              "0.990358130054642"
            ]
          },
          "metadata": {}
        }
      ]
    },
    {
      "cell_type": "code",
      "metadata": {
        "colab": {
          "base_uri": "https://localhost:8080/",
          "height": 52
        },
        "id": "3P1CXf_txvLn",
        "outputId": "0cae2ae7-b658-46d7-ef77-c51962d7f532"
      },
      "source": [
        "k = 0.13/sqrt(12)\n",
        "k\n",
        "t = 0.1/k\n",
        "\n",
        "#z = 0.0866-0.10/0.15/sqrt(3)\n",
        "1-(2*pnorm(t))\n",
        "\n",
        "Sigma = 0.13/sqrt(12)\n",
        "#Sigma"
      ],
      "execution_count": null,
      "outputs": [
        {
          "output_type": "display_data",
          "data": {
            "text/plain": [
              "[1] 0.03752777"
            ],
            "text/latex": "0.0375277674973257",
            "text/markdown": "0.0375277674973257",
            "text/html": [
              "0.0375277674973257"
            ]
          },
          "metadata": {}
        },
        {
          "output_type": "display_data",
          "data": {
            "text/plain": [
              "[1] -0.9922941"
            ],
            "text/latex": "-0.992294149157569",
            "text/markdown": "-0.992294149157569",
            "text/html": [
              "-0.992294149157569"
            ]
          },
          "metadata": {}
        }
      ]
    },
    {
      "cell_type": "markdown",
      "metadata": {
        "id": "8bX_1U3X5fB9"
      },
      "source": [
        "# Parameterrised T-test - 2 sample"
      ]
    },
    {
      "cell_type": "code",
      "metadata": {
        "id": "weI9LBO8pbWb",
        "colab": {
          "base_uri": "https://localhost:8080/",
          "height": 218
        },
        "outputId": "50beb5ce-fe0f-4854-8e9c-7f60795e906e"
      },
      "source": [
        "data = read.csv(\"LungCapData.csv\")"
      ],
      "execution_count": null,
      "outputs": [
        {
          "output_type": "stream",
          "name": "stderr",
          "text": [
            "Warning message in file(file, \"rt\"):\n",
            "“cannot open file 'LungCapData.csv': No such file or directory”\n"
          ]
        },
        {
          "output_type": "error",
          "ename": "ERROR",
          "evalue": "ignored",
          "traceback": [
            "Error in file(file, \"rt\"): cannot open the connection\nTraceback:\n",
            "1. read.csv(\"LungCapData.csv\")",
            "2. read.table(file = file, header = header, sep = sep, quote = quote, \n .     dec = dec, fill = fill, comment.char = comment.char, ...)",
            "3. file(file, \"rt\")"
          ]
        }
      ]
    },
    {
      "cell_type": "code",
      "metadata": {
        "id": "oBZcAsHUqei0"
      },
      "source": [
        "str(data)"
      ],
      "execution_count": null,
      "outputs": []
    },
    {
      "cell_type": "code",
      "metadata": {
        "id": "OwrtRhPd1oJ5"
      },
      "source": [
        "head(data)"
      ],
      "execution_count": null,
      "outputs": []
    },
    {
      "cell_type": "code",
      "metadata": {
        "id": "6naUENEb12PU"
      },
      "source": [
        "summary(data)"
      ],
      "execution_count": null,
      "outputs": []
    },
    {
      "cell_type": "code",
      "metadata": {
        "id": "ZnSne-gw5rdC"
      },
      "source": [
        "#install.packages('ggplot2', dependencies = TRUE)\n",
        "#library (ggplot2)\n",
        "library(dplyr)"
      ],
      "execution_count": null,
      "outputs": []
    },
    {
      "cell_type": "code",
      "metadata": {
        "id": "SjupsTVu4_lB"
      },
      "source": [
        "# t test Function\n",
        "t.test(data$LungCap ~ data$Smoke, mu = 0, alternative = 'two.sided', conf.level = 0.95, var.equal = FALSE)"
      ],
      "execution_count": null,
      "outputs": []
    },
    {
      "cell_type": "code",
      "metadata": {
        "id": "P0JndlEz5oT8"
      },
      "source": [
        "\n",
        "# to find variance among 2 samples sets\n",
        "data %>%\n",
        "  group_by(Smoke) %>%\n",
        "  summarise(myVar = var(LungCap))"
      ],
      "execution_count": null,
      "outputs": []
    },
    {
      "cell_type": "code",
      "metadata": {
        "id": "w9Wn8_Xb1y3x"
      },
      "source": [
        "# Levene test to find the variance by P value way\n",
        "install.packages(\"car\")\n",
        "library(car)\n"
      ],
      "execution_count": null,
      "outputs": []
    },
    {
      "cell_type": "code",
      "metadata": {
        "id": "_6lukqw32k34"
      },
      "source": [
        "leveneTest(data$LungCap ~ data$Smoke)"
      ],
      "execution_count": null,
      "outputs": []
    },
    {
      "cell_type": "markdown",
      "metadata": {
        "id": "igHgaRmA3lC9"
      },
      "source": [
        "The P value above is less that 0.05 meanse the H0 of same variance among sample set is rejected. This information is helpful setting the (var.equal = FALSE) parameter in t-test."
      ]
    },
    {
      "cell_type": "markdown",
      "metadata": {
        "id": "j0VpkyEZ4BXq"
      },
      "source": [
        "# Non - Paramterized test - Wilcoxon Rank-Sum test (Mann-Whitney test)"
      ]
    },
    {
      "cell_type": "code",
      "metadata": {
        "id": "2bT4Ny4N4KOY"
      },
      "source": [
        "wilcox.test(data$LungCap ~ data$Smoke,conf.int = T)"
      ],
      "execution_count": null,
      "outputs": []
    },
    {
      "cell_type": "markdown",
      "metadata": {
        "id": "9Q7qKjPS4XLL"
      },
      "source": [
        "P-value < 0.05, therefore at significance level 0.05 we reject the null\n",
        "and conclude that the median of two groups are different.\n",
        "\n",
        "\n",
        "# Chi-Square Test\n"
      ]
    },
    {
      "cell_type": "code",
      "metadata": {
        "id": "Cgmo_tgv4fFi"
      },
      "source": [
        "#Get the Observed values\n",
        "data %>%\n",
        "  select(Gender, Smoke) %>%\n",
        "  table()"
      ],
      "execution_count": null,
      "outputs": []
    },
    {
      "cell_type": "code",
      "metadata": {
        "id": "OAYD_tDC43Zu"
      },
      "source": [
        "(t = data%>%\n",
        "  select(Gender, Smoke) %>%\n",
        "  table() %>%\n",
        "  chisq.test())"
      ],
      "execution_count": null,
      "outputs": []
    },
    {
      "cell_type": "code",
      "metadata": {
        "id": "7tIg8MBn5eoD"
      },
      "source": [
        "t$expected"
      ],
      "execution_count": null,
      "outputs": []
    },
    {
      "cell_type": "markdown",
      "metadata": {
        "id": "6bkbJviM5XK7"
      },
      "source": [
        "P-values > 0.05. We won’t reject the null hypothesis and conclude that\n",
        "gender and smoking are not associated at alpha = 0.05 level.\n",
        "\n",
        "\n",
        "# Regression "
      ]
    },
    {
      "cell_type": "code",
      "metadata": {
        "id": "j21A5HEP5jcq"
      },
      "source": [
        "install.packages('BSDA')"
      ],
      "execution_count": null,
      "outputs": []
    },
    {
      "cell_type": "code",
      "metadata": {
        "id": "KsXY_2Ay_MIo"
      },
      "source": [
        "library(BSDA)\n",
        "library(stats)"
      ],
      "execution_count": null,
      "outputs": []
    },
    {
      "cell_type": "code",
      "metadata": {
        "id": "KXPmgCIW_YRa"
      },
      "source": [
        "str(Anxiety)"
      ],
      "execution_count": null,
      "outputs": []
    },
    {
      "cell_type": "code",
      "metadata": {
        "id": "62XXwtaw_xDv"
      },
      "source": [
        "attach(Anxiety)\n",
        "m= lm(math~anxiety)\n",
        "plot(anxiety,math)\n",
        "abline(m)"
      ],
      "execution_count": null,
      "outputs": []
    },
    {
      "cell_type": "code",
      "metadata": {
        "id": "YJYGXPvo_eEK"
      },
      "source": [
        "cook = cooks.distance(m)\n",
        "plot(cook,ylab = \"Cooks Distance\")\n",
        "\n",
        "Anxiety[which(cook>1),] # to find Influential point\n"
      ],
      "execution_count": null,
      "outputs": []
    },
    {
      "cell_type": "code",
      "metadata": {
        "id": "fCXnv7bLAlYO"
      },
      "source": [
        "x = c(33,33,92,88,65,61,64,60,43,35,25,55,43,44,72,87,82,51,86,86,46,57,36,78,87,37,57,63,62,85,38,84,39,50,66,32,52,62,37,87,27,43,50,80,27,37,47,87,45,48)\n",
        "y = c(22,22,74,71,55,45,45,41,33,21,18,45,36,33,45,73,76,38,71,74,37,49,26,64,65,28,41,46,51,79,23,68,34,41,48,24,42,52,25,78,15,34,39,64,9,29,40,69,34,36)\n",
        "Y = lm(y~x)\n",
        "\n"
      ],
      "execution_count": null,
      "outputs": []
    },
    {
      "cell_type": "code",
      "metadata": {
        "colab": {
          "base_uri": "https://localhost:8080/",
          "height": 139
        },
        "id": "MHWFf3FABHMP",
        "outputId": "b861abfc-df6e-4fb7-b120-66fa7ef6fd8e"
      },
      "source": [
        "Y"
      ],
      "execution_count": null,
      "outputs": [
        {
          "output_type": "display_data",
          "data": {
            "text/plain": [
              "\n",
              "Call:\n",
              "lm(formula = y ~ x)\n",
              "\n",
              "Coefficients:\n",
              "(Intercept)            x  \n",
              "     -7.274        0.909  \n"
            ]
          },
          "metadata": {}
        }
      ]
    },
    {
      "cell_type": "code",
      "metadata": {
        "id": "vjktU3jyBmgz",
        "colab": {
          "base_uri": "https://localhost:8080/",
          "height": 437
        },
        "outputId": "d98f8277-7015-4a2f-8284-4ade0b4df5de"
      },
      "source": [
        "plot(x,y)\n",
        "abline(x,y)"
      ],
      "execution_count": null,
      "outputs": [
        {
          "output_type": "display_data",
          "data": {
            "image/png": "[encoded data removed]",
            "text/plain": [
              "plot without title"
            ]
          },
          "metadata": {
            "image/png": {
              "width": 420,
              "height": 420
            }
          }
        }
      ]
    },
    {
      "cell_type": "code",
      "metadata": {
        "colab": {
          "base_uri": "https://localhost:8080/",
          "height": 347
        },
        "id": "ZMISYuQFB1qk",
        "outputId": "bf0d695d-c7cd-4e0f-d2bd-f50bbd7a3a3c"
      },
      "source": [
        "model1 = lm(y~x)\n",
        "summary(model1)$r.squared\n",
        "summary(model1)"
      ],
      "execution_count": null,
      "outputs": [
        {
          "output_type": "display_data",
          "data": {
            "text/plain": [
              "[1] 0.9504859"
            ],
            "text/latex": "0.950485896114053",
            "text/markdown": "0.950485896114053",
            "text/html": [
              "0.950485896114053"
            ]
          },
          "metadata": {}
        },
        {
          "output_type": "display_data",
          "data": {
            "text/plain": [
              "\n",
              "Call:\n",
              "lm(formula = y ~ x)\n",
              "\n",
              "Residuals:\n",
              "     Min       1Q   Median       3Q      Max \n",
              "-13.1774  -2.3363   0.3675   2.5250   9.0050 \n",
              "\n",
              "Coefficients:\n",
              "            Estimate Std. Error t value Pr(>|t|)    \n",
              "(Intercept) -7.27351    1.80900  -4.021 0.000204 ***\n",
              "x            0.90904    0.02995  30.355  < 2e-16 ***\n",
              "---\n",
              "Signif. codes:  0 ‘***’ 0.001 ‘**’ 0.01 ‘*’ 0.05 ‘.’ 0.1 ‘ ’ 1\n",
              "\n",
              "Residual standard error: 4.223 on 48 degrees of freedom\n",
              "Multiple R-squared:  0.9505,\tAdjusted R-squared:  0.9495 \n",
              "F-statistic: 921.4 on 1 and 48 DF,  p-value: < 2.2e-16\n"
            ]
          },
          "metadata": {}
        }
      ]
    },
    {
      "cell_type": "code",
      "metadata": {
        "id": "R2X5C0ixCtTS"
      },
      "source": [
        "x1 = c(4,6,0,2)\n",
        "y1 = c(6,8,-2,-4)"
      ],
      "execution_count": null,
      "outputs": []
    },
    {
      "cell_type": "code",
      "metadata": {
        "colab": {
          "base_uri": "https://localhost:8080/",
          "height": 437
        },
        "id": "tI_SR95dEe_i",
        "outputId": "a367cca3-84dd-4c14-e1a0-a179955ff00a"
      },
      "source": [
        "plot(x1,y1)"
      ],
      "execution_count": null,
      "outputs": [
        {
          "output_type": "display_data",
          "data": {
            "image/png": "[encoded data removed]",
            "text/plain": [
              "plot without title"
            ]
          },
          "metadata": {
            "image/png": {
              "width": 420,
              "height": 420
            }
          }
        }
      ]
    },
    {
      "cell_type": "code",
      "metadata": {
        "colab": {
          "base_uri": "https://localhost:8080/",
          "height": 433
        },
        "id": "ANdRCHjlEiKd",
        "outputId": "93890a49-557b-4737-a3c3-a3ec851a20fb"
      },
      "source": [
        "model2 = lm(y1~x1)\n",
        "summary(model2)$r.squared\n",
        "summary(model2)\n",
        "model2"
      ],
      "execution_count": null,
      "outputs": [
        {
          "output_type": "display_data",
          "data": {
            "text/plain": [
              "[1] 0.7692308"
            ],
            "text/latex": "0.769230769230769",
            "text/markdown": "0.769230769230769",
            "text/html": [
              "0.769230769230769"
            ]
          },
          "metadata": {}
        },
        {
          "output_type": "display_data",
          "data": {
            "text/plain": [
              "\n",
              "Call:\n",
              "lm(formula = y1 ~ x1)\n",
              "\n",
              "Residuals:\n",
              "        1         2         3         4 \n",
              " 2.00e+00 -1.11e-16  2.00e+00 -4.00e+00 \n",
              "\n",
              "Coefficients:\n",
              "            Estimate Std. Error t value Pr(>|t|)\n",
              "(Intercept)  -4.0000     2.8983  -1.380    0.302\n",
              "x1            2.0000     0.7746   2.582    0.123\n",
              "\n",
              "Residual standard error: 3.464 on 2 degrees of freedom\n",
              "Multiple R-squared:  0.7692,\tAdjusted R-squared:  0.6538 \n",
              "F-statistic: 6.667 on 1 and 2 DF,  p-value: 0.1229\n"
            ]
          },
          "metadata": {}
        },
        {
          "output_type": "display_data",
          "data": {
            "text/plain": [
              "\n",
              "Call:\n",
              "lm(formula = y1 ~ x1)\n",
              "\n",
              "Coefficients:\n",
              "(Intercept)           x1  \n",
              "         -4            2  \n"
            ]
          },
          "metadata": {}
        }
      ]
    },
    {
      "cell_type": "code",
      "metadata": {
        "id": "dR_B6jGIE4PQ",
        "colab": {
          "base_uri": "https://localhost:8080/",
          "height": 437
        },
        "outputId": "7f03bf24-43ea-4b55-800f-6c0f25b0d989"
      },
      "source": [
        "dResi = resid(model2)\n",
        "qqnorm(dResi) #Normal Plot\n",
        "qqline(dResi)"
      ],
      "execution_count": null,
      "outputs": [
        {
          "output_type": "display_data",
          "data": {
            "image/png": "[encoded data removed]",
            "text/plain": [
              "Plot with title “Normal Q-Q Plot”"
            ]
          },
          "metadata": {
            "image/png": {
              "width": 420,
              "height": 420
            }
          }
        }
      ]
    },
    {
      "cell_type": "code",
      "metadata": {
        "colab": {
          "base_uri": "https://localhost:8080/",
          "height": 437
        },
        "id": "tzKYHo0wtHnO",
        "outputId": "9a462fc7-e027-4f24-81ad-2589f4fa2381"
      },
      "source": [
        "plot(x1,dResi) #Residual plot"
      ],
      "execution_count": null,
      "outputs": [
        {
          "output_type": "display_data",
          "data": {
            "image/png": "[encoded data removed]",
            "text/plain": [
              "plot without title"
            ]
          },
          "metadata": {
            "image/png": {
              "width": 420,
              "height": 420
            }
          }
        }
      ]
    },
    {
      "cell_type": "markdown",
      "metadata": {
        "id": "KWM12L5nwXJE"
      },
      "source": [
        "# Multiple Linear Regression\n"
      ]
    },
    {
      "cell_type": "code",
      "metadata": {
        "colab": {
          "base_uri": "https://localhost:8080/",
          "height": 408
        },
        "id": "Icdb0ycesl5B",
        "outputId": "287df93c-edff-4235-be6b-d04da749695d"
      },
      "source": [
        "Orion_data <- read.csv(file = 'OrionMLR.csv')\n",
        "head(Orion_data)\n",
        "summary(Orion_data)"
      ],
      "execution_count": 4,
      "outputs": [
        {
          "output_type": "display_data",
          "data": {
            "text/plain": [
              "  AGE MILES PRICE\n",
              "1 5   57     85  \n",
              "2 4   40    103  \n",
              "3 6   77     70  \n",
              "4 5   60     82  \n",
              "5 5   49     89  \n",
              "6 5   47     98  "
            ],
            "text/latex": "A data.frame: 6 × 3\n\\begin{tabular}{r|lll}\n  & AGE & MILES & PRICE\\\\\n  & <int> & <int> & <int>\\\\\n\\hline\n\t1 & 5 & 57 &  85\\\\\n\t2 & 4 & 40 & 103\\\\\n\t3 & 6 & 77 &  70\\\\\n\t4 & 5 & 60 &  82\\\\\n\t5 & 5 & 49 &  89\\\\\n\t6 & 5 & 47 &  98\\\\\n\\end{tabular}\n",
            "text/markdown": "\nA data.frame: 6 × 3\n\n| <!--/--> | AGE &lt;int&gt; | MILES &lt;int&gt; | PRICE &lt;int&gt; |\n|---|---|---|---|\n| 1 | 5 | 57 |  85 |\n| 2 | 4 | 40 | 103 |\n| 3 | 6 | 77 |  70 |\n| 4 | 5 | 60 |  82 |\n| 5 | 5 | 49 |  89 |\n| 6 | 5 | 47 |  98 |\n\n",
            "text/html": [
              "<table class=\"dataframe\">\n",
              "<caption>A data.frame: 6 × 3</caption>\n",
              "<thead>\n",
              "\t<tr><th></th><th scope=col>AGE</th><th scope=col>MILES</th><th scope=col>PRICE</th></tr>\n",
              "\t<tr><th></th><th scope=col>&lt;int&gt;</th><th scope=col>&lt;int&gt;</th><th scope=col>&lt;int&gt;</th></tr>\n",
              "</thead>\n",
              "<tbody>\n",
              "\t<tr><th scope=row>1</th><td>5</td><td>57</td><td> 85</td></tr>\n",
              "\t<tr><th scope=row>2</th><td>4</td><td>40</td><td>103</td></tr>\n",
              "\t<tr><th scope=row>3</th><td>6</td><td>77</td><td> 70</td></tr>\n",
              "\t<tr><th scope=row>4</th><td>5</td><td>60</td><td> 82</td></tr>\n",
              "\t<tr><th scope=row>5</th><td>5</td><td>49</td><td> 89</td></tr>\n",
              "\t<tr><th scope=row>6</th><td>5</td><td>47</td><td> 98</td></tr>\n",
              "</tbody>\n",
              "</table>\n"
            ]
          },
          "metadata": {}
        },
        {
          "output_type": "display_data",
          "data": {
            "text/plain": [
              "      AGE            MILES           PRICE       \n",
              " Min.   :2.000   Min.   : 8.00   Min.   : 48.00  \n",
              " 1st Qu.:5.000   1st Qu.:43.50   1st Qu.: 70.00  \n",
              " Median :5.000   Median :57.00   Median : 85.00  \n",
              " Mean   :5.273   Mean   :53.91   Mean   : 88.64  \n",
              " 3rd Qu.:6.000   3rd Qu.:64.50   3rd Qu.: 96.50  \n",
              " Max.   :7.000   Max.   :89.00   Max.   :169.00  "
            ]
          },
          "metadata": {}
        }
      ]
    },
    {
      "cell_type": "code",
      "metadata": {
        "colab": {
          "base_uri": "https://localhost:8080/",
          "height": 437
        },
        "id": "WotPLVE1t88X",
        "outputId": "16683a3b-e74f-426e-f836-8ad246819147"
      },
      "source": [
        "pairs(PRICE~.,data=Orion_data)"
      ],
      "execution_count": 11,
      "outputs": [
        {
          "output_type": "display_data",
          "data": {
            "image/png": "[encoded data removed]",
            "text/plain": [
              "plot without title"
            ]
          },
          "metadata": {
            "image/png": {
              "width": 420,
              "height": 420
            }
          }
        }
      ]
    },
    {
      "cell_type": "code",
      "metadata": {
        "colab": {
          "base_uri": "https://localhost:8080/"
        },
        "id": "lPUop7jjxEh3",
        "outputId": "3e20fdfe-dc5e-4805-e69e-f1008f83536d"
      },
      "source": [
        "# For 3D plot\n",
        "install.packages(\"scatterplot3d\")\n",
        "library(scatterplot3d)"
      ],
      "execution_count": 17,
      "outputs": [
        {
          "output_type": "stream",
          "name": "stderr",
          "text": [
            "Installing package into ‘/usr/local/lib/R/site-library’\n",
            "(as ‘lib’ is unspecified)\n",
            "\n"
          ]
        }
      ]
    },
    {
      "cell_type": "code",
      "metadata": {
        "colab": {
          "base_uri": "https://localhost:8080/",
          "height": 437
        },
        "id": "2TtDJLAXxhSe",
        "outputId": "89b04514-cdcf-4644-c7f0-ae98b4deef64"
      },
      "source": [
        "scatterplot3d(Orion_data$AGE,Orion_data$MILES,Orion_data$PRICE, highlight.3d = TRUE, col.axis = \"blue\",col.grid = \"green\", main = \"Orion Data Set\")"
      ],
      "execution_count": 18,
      "outputs": [
        {
          "output_type": "display_data",
          "data": {
            "image/png": "[encoded data removed]",
            "text/plain": [
              "Plot with title “Orion Data Set”"
            ]
          },
          "metadata": {
            "image/png": {
              "width": 420,
              "height": 420
            }
          }
        }
      ]
    },
    {
      "cell_type": "code",
      "metadata": {
        "colab": {
          "base_uri": "https://localhost:8080/",
          "height": 347
        },
        "id": "m-ln1Gicuvj-",
        "outputId": "baaf64f0-828a-4a2a-ff2e-04a673747269"
      },
      "source": [
        "priceModel = lm(PRICE ~., data = Orion_data)\n",
        "summary(priceModel)\n"
      ],
      "execution_count": 14,
      "outputs": [
        {
          "output_type": "display_data",
          "data": {
            "text/plain": [
              "\n",
              "Call:\n",
              "lm(formula = PRICE ~ ., data = Orion_data)\n",
              "\n",
              "Residuals:\n",
              "    Min      1Q  Median      3Q     Max \n",
              "-12.364  -5.243   1.028   5.926  11.545 \n",
              "\n",
              "Coefficients:\n",
              "            Estimate Std. Error t value Pr(>|t|)    \n",
              "(Intercept) 183.0352    11.3476  16.130 2.19e-07 ***\n",
              "AGE          -9.5043     3.8742  -2.453   0.0397 *  \n",
              "MILES        -0.8215     0.2552  -3.219   0.0123 *  \n",
              "---\n",
              "Signif. codes:  0 ‘***’ 0.001 ‘**’ 0.01 ‘*’ 0.05 ‘.’ 0.1 ‘ ’ 1\n",
              "\n",
              "Residual standard error: 8.805 on 8 degrees of freedom\n",
              "Multiple R-squared:  0.9361,\tAdjusted R-squared:  0.9201 \n",
              "F-statistic: 58.61 on 2 and 8 DF,  p-value: 1.666e-05\n"
            ]
          },
          "metadata": {}
        }
      ]
    },
    {
      "cell_type": "code",
      "metadata": {
        "colab": {
          "base_uri": "https://localhost:8080/",
          "height": 35
        },
        "id": "Gy0FXd1kvmuy",
        "outputId": "8f6c068e-8be6-4d51-aeaf-2d4f8eef26bc"
      },
      "source": [
        "predict(priceModel, data.frame(AGE = 5, MILES = 52))"
      ],
      "execution_count": 19,
      "outputs": [
        {
          "output_type": "display_data",
          "data": {
            "text/plain": [
              "       1 \n",
              "92.79672 "
            ],
            "text/latex": "\\textbf{1:} 92.796723693621",
            "text/markdown": "**1:** 92.796723693621",
            "text/html": [
              "<strong>1:</strong> 92.796723693621"
            ]
          },
          "metadata": {}
        }
      ]
    },
    {
      "cell_type": "code",
      "metadata": {
        "id": "aKnvWsjKyj7E"
      },
      "source": [
        ""
      ],
      "execution_count": null,
      "outputs": []
    }
  ]
}