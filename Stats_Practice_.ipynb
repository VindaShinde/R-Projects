{
  "nbformat": 4,
  "nbformat_minor": 0,
  "metadata": {
    "colab": {
      "name": "Stats_Practice .ipynb",
      "provenance": [],
      "authorship_tag": "ABX9TyMEvWFsTS9/gOAenZQ4UQVm",
      "include_colab_link": true
    },
    "kernelspec": {
      "name": "ir",
      "display_name": "R"
    },
    "language_info": {
      "name": "R"
    }
  },
  "cells": [
    {
      "cell_type": "markdown",
      "metadata": {
        "id": "view-in-github",
        "colab_type": "text"
      },
      "source": [
        "<a href=\"https://colab.research.google.com/github/VindaShinde/R-Projects/blob/main/Stats_Practice_.ipynb\" target=\"_parent\"><img src=\"https://colab.research.google.com/assets/colab-badge.svg\" alt=\"Open In Colab\"/></a>"
      ]
    },
    {
      "cell_type": "markdown",
      "metadata": {
        "id": "IpZRptOYDcjO"
      },
      "source": [
        "# P-value for type 1 error\n"
      ]
    },
    {
      "cell_type": "markdown",
      "metadata": {
        "id": "qY5tfnNDAkc1"
      },
      "source": [
        "• A manufacturer of cereal wants to test the\n",
        "performance of one of its filling machines\n",
        "• The machine is designed to discharge a\n",
        "mean amount of µ = 12 ounces per box\n",
        "• The manufacturer wants to detect any\n",
        "departure from this setting\n",
        "• Suppose the sample yields the following\n",
        "results \n",
        "\n",
        "1.   n = 100 observations (boxes) \n",
        "2.   x^ = 11.85 ounces \n",
        "3.   sigma = 0.5 ounces\n",
        "4.   µ = 12 ounces per box\n",
        "\n",
        "p = (x^ - µ) /(sigma / sqrt(n))\n",
        "\n",
        "• Perform a test of significance and\n",
        "summarize your results at alpha = 0.01."
      ]
    },
    {
      "cell_type": "code",
      "metadata": {
        "colab": {
          "base_uri": "https://localhost:8080/",
          "height": 35
        },
        "id": "Yc5ZL1nAA1Um",
        "outputId": "120477a8-df63-40bb-bf2d-9e76c137410e"
      },
      "source": [
        "#for 2 sided z values\n",
        "\n",
        "p_value = 2*pnorm(11.85, mean= 12, sd = 0.5/sqrt(100))\n",
        "p_value"
      ],
      "execution_count": null,
      "outputs": [
        {
          "output_type": "display_data",
          "data": {
            "text/plain": [
              "[1] 0.002699796"
            ],
            "text/latex": "0.00269979606326013",
            "text/markdown": "0.00269979606326013",
            "text/html": [
              "0.00269979606326013"
            ]
          },
          "metadata": {}
        }
      ]
    },
    {
      "cell_type": "markdown",
      "metadata": {
        "id": "Xv1xfb4oCohX"
      },
      "source": [
        "**p-value=0.0027 < 0.01 àReject H0**\n",
        "\n",
        "• Conclusion: At this significance level, the sample provides enough\n",
        "evidence to believe that mean amount of cereal the machines discharge is\n",
        "different from 12 ounces per box"
      ]
    },
    {
      "cell_type": "markdown",
      "metadata": {
        "id": "fl-Xbc_gCg7i"
      },
      "source": [
        "#------------------------------------------------------------------------------------------------------------------------------------------\n",
        "# t- test\n",
        "\n",
        "**When the population mean is not available use of sample mean**\n",
        "\n",
        "• Acid rain from the burning of fossil fuels has caused many of\n",
        "the lakes around the world to become acidic.\n",
        "• A lake is classified as nonacidic if it has a pH greater than 6.\n",
        "• This table shows the pH levels obtained by the researchers for\n",
        "15 lakes.\n",
        "• At the 5% significance level, do the data provide sufficient\n",
        "evidence to conclude that, on average, high mountain lakes in\n",
        "the Southern Alps are nonacidic?\n",
        "\n",
        "Sample values for 15 lakes given\n"
      ]
    },
    {
      "cell_type": "code",
      "metadata": {
        "id": "bmbaEHxJDvWJ"
      },
      "source": [
        "d = c(7.2,7.3,6.1,6.9,6.6,7.3,6.3,5.5,6.3,6.5,5.7,6.9,6.7,7.9,5.8)"
      ],
      "execution_count": null,
      "outputs": []
    },
    {
      "cell_type": "code",
      "metadata": {
        "colab": {
          "base_uri": "https://localhost:8080/",
          "height": 208
        },
        "id": "cpav0qs9FCv9",
        "outputId": "0d8f884e-2fe7-4948-8311-2b22a1147c95"
      },
      "source": [
        "t.test(d, alternative = \"greater\",mu=6)"
      ],
      "execution_count": null,
      "outputs": [
        {
          "output_type": "display_data",
          "data": {
            "text/plain": [
              "\n",
              "\tOne Sample t-test\n",
              "\n",
              "data:  d\n",
              "t = 3.4586, df = 14, p-value = 0.001919\n",
              "alternative hypothesis: true mean is greater than 6\n",
              "95 percent confidence interval:\n",
              " 6.294448      Inf\n",
              "sample estimates:\n",
              "mean of x \n",
              "      6.6 \n"
            ]
          },
          "metadata": {}
        }
      ]
    },
    {
      "cell_type": "markdown",
      "metadata": {
        "id": "7bNr6kCLFSHG"
      },
      "source": [
        "At the 5%\n",
        "significance level, the data provide\n",
        "sufficient evidence to conclude\n",
        "that, on average, high mountain\n",
        "lakes in the Southern Alps are\n",
        "nonacidic."
      ]
    },
    {
      "cell_type": "markdown",
      "metadata": {
        "id": "DU5b_YLGFjWl"
      },
      "source": [
        "# Type 2 error probability\n",
        "\n",
        "The probability of making a Type II error depends on:\n",
        "**– the sample size,\n",
        "– the significance level,\n",
        "– the true value of the parameter under consideration**"
      ]
    },
    {
      "cell_type": "markdown",
      "metadata": {
        "id": "VxxlVSLpGVlE"
      },
      "source": [
        "The manufacturer of a new model\n",
        "car, the Orion, claims that a typical\n",
        "car gets 26 miles per gallon (mpg).\n",
        "• A consumer advocacy group is\n",
        "skeptical of this claim and thinks\n",
        "that the mean gas mileage, μ, of all\n",
        "Orions may be less than 26 mpg.\n",
        "• The group plans to perform the\n",
        "hypothesis test at the 5%\n",
        "significance level, using a sample of\n",
        "30 Orions.\n",
        "• Assume population standard\n",
        "deviation is 1.4\n",
        "\n",
        "\n",
        "- H0:μ=26 mpg(manufacturer's claim)\n",
        "- Ha:μ<26 mpg(consumer group's con\n",
        "jecture).\n",
        "- Find the probability of making a\n",
        "Type II error if the true mean gas\n",
        "mileage of all Orions is 25.8 mpg\n",
        "\n",
        "- We don’t reject the null hypothesis if p-value > α=0.05.\n",
        "- i.e. the area under the standard normal curve to the right\n",
        "of the value of the test statistic is at least 1- 0.05, that is,\n",
        "z>−z0.05"
      ]
    },
    {
      "cell_type": "code",
      "metadata": {
        "colab": {
          "base_uri": "https://localhost:8080/",
          "height": 35
        },
        "id": "35bZXQ-2G-ml",
        "outputId": "d0cd268a-37b1-4756-ed6c-e07da0c707a9"
      },
      "source": [
        "critical_value = qnorm(0.05,mean = 26, sd = 1.4/sqrt(30),lower.tail = T)\n",
        "critical_value"
      ],
      "execution_count": null,
      "outputs": [
        {
          "output_type": "display_data",
          "data": {
            "text/plain": [
              "[1] 25.57957"
            ],
            "text/latex": "25.5795690635381",
            "text/markdown": "25.5795690635381",
            "text/html": [
              "25.5795690635381"
            ]
          },
          "metadata": {}
        }
      ]
    },
    {
      "cell_type": "code",
      "metadata": {
        "colab": {
          "base_uri": "https://localhost:8080/",
          "height": 35
        },
        "id": "68noAEQAJGWU",
        "outputId": "5e4c088d-7eb4-487c-ada3-c2441069f6de"
      },
      "source": [
        "  pnorm(2.11)"
      ],
      "execution_count": null,
      "outputs": [
        {
          "output_type": "display_data",
          "data": {
            "text/plain": [
              "[1] 0.9825708"
            ],
            "text/latex": "0.982570822062343",
            "text/markdown": "0.982570822062343",
            "text/html": [
              "0.982570822062343"
            ]
          },
          "metadata": {}
        }
      ]
    },
    {
      "cell_type": "code",
      "metadata": {
        "colab": {
          "base_uri": "https://localhost:8080/",
          "height": 52
        },
        "id": "H4bb15nrn_Bw",
        "outputId": "b1324ed3-4e9f-42d2-d95f-6326d6527363"
      },
      "source": [
        "pnorm(33,mean = 35, sd = 4/sqrt(38))\n",
        "\n",
        "z = (0.1-1.10)/(0.15/sqrt(3))\n",
        "z"
      ],
      "execution_count": 43,
      "outputs": [
        {
          "output_type": "display_data",
          "data": {
            "text/plain": [
              "[1] 0.001027359"
            ],
            "text/latex": "0.00102735948806591",
            "text/markdown": "0.00102735948806591",
            "text/html": [
              "0.00102735948806591"
            ]
          },
          "metadata": {}
        },
        {
          "output_type": "display_data",
          "data": {
            "text/plain": [
              "[1] -11.54701"
            ],
            "text/latex": "-11.5470053837925",
            "text/markdown": "-11.5470053837925",
            "text/html": [
              "-11.5470053837925"
            ]
          },
          "metadata": {}
        }
      ]
    },
    {
      "cell_type": "code",
      "metadata": {
        "colab": {
          "base_uri": "https://localhost:8080/",
          "height": 87
        },
        "id": "L7lRB6Z_7aBU",
        "outputId": "1c18067d-b997-468b-e0b9-c533e12e2a46"
      },
      "source": [
        "pnorm(z)\n",
        "qnorm(3.829,mean = 0.1, sd = 0.15/sqrt(3),lower.tail = T)"
      ],
      "execution_count": 46,
      "outputs": [
        {
          "output_type": "display_data",
          "data": {
            "text/plain": [
              "[1] 3.821879e-31"
            ],
            "text/latex": "3.82187919281561e-31",
            "text/markdown": "3.82187919281561e-31",
            "text/html": [
              "3.82187919281561e-31"
            ]
          },
          "metadata": {}
        },
        {
          "output_type": "stream",
          "name": "stderr",
          "text": [
            "Warning message in qnorm(3.829, mean = 0.1, sd = 0.15/sqrt(3), lower.tail = T):\n",
            "“NaNs produced”\n"
          ]
        },
        {
          "output_type": "display_data",
          "data": {
            "text/plain": [
              "[1] NaN"
            ],
            "text/latex": "NaN",
            "text/markdown": "NaN",
            "text/html": [
              "NaN"
            ]
          },
          "metadata": {}
        }
      ]
    },
    {
      "cell_type": "code",
      "metadata": {
        "colab": {
          "base_uri": "https://localhost:8080/",
          "height": 52
        },
        "id": "LHYK8shW8Eys",
        "outputId": "2800ff31-dc9f-47bd-e01e-5bd9ab87ab13"
      },
      "source": [
        "# to find Popolation mean MU\n",
        "MU = sum(70,65,43,38,38,36)/6\n",
        "MU\n",
        "sigma = sum(38,36)/2\n",
        "sigma"
      ],
      "execution_count": null,
      "outputs": [
        {
          "output_type": "display_data",
          "data": {
            "text/plain": [
              "[1] 48.33333"
            ],
            "text/latex": "48.3333333333333",
            "text/markdown": "48.3333333333333",
            "text/html": [
              "48.3333333333333"
            ]
          },
          "metadata": {}
        },
        {
          "output_type": "display_data",
          "data": {
            "text/plain": [
              "[1] 37"
            ],
            "text/latex": "37",
            "text/markdown": "37",
            "text/html": [
              "37"
            ]
          },
          "metadata": {}
        }
      ]
    },
    {
      "cell_type": "code",
      "metadata": {
        "colab": {
          "base_uri": "https://localhost:8080/",
          "height": 35
        },
        "id": "EcBh81FZ6fUF",
        "outputId": "085a3550-8be5-44c8-ae95-9a543e13f35c"
      },
      "source": [
        "pnorm(q=-1.63, mean = 0, sd = 1)"
      ],
      "execution_count": 42,
      "outputs": [
        {
          "output_type": "display_data",
          "data": {
            "text/plain": [
              "[1] 0.05155075"
            ],
            "text/latex": "0.0515507484900894",
            "text/markdown": "0.0515507484900894",
            "text/html": [
              "0.0515507484900894"
            ]
          },
          "metadata": {}
        }
      ]
    },
    {
      "cell_type": "markdown",
      "metadata": {
        "id": "8bX_1U3X5fB9"
      },
      "source": [
        "# Parameterrised T-test - 2 sample"
      ]
    },
    {
      "cell_type": "code",
      "metadata": {
        "id": "weI9LBO8pbWb"
      },
      "source": [
        "data = read.csv(\"LungCapData.csv\")"
      ],
      "execution_count": 20,
      "outputs": []
    },
    {
      "cell_type": "code",
      "metadata": {
        "colab": {
          "base_uri": "https://localhost:8080/"
        },
        "id": "oBZcAsHUqei0",
        "outputId": "30eb0569-41ca-401c-8f83-80d422eac924"
      },
      "source": [
        "str(data)"
      ],
      "execution_count": 21,
      "outputs": [
        {
          "output_type": "stream",
          "name": "stdout",
          "text": [
            "'data.frame':\t725 obs. of  6 variables:\n",
            " $ LungCap  : num  6.47 10.12 9.55 11.12 4.8 ...\n",
            " $ Age      : int  6 18 16 14 5 11 8 11 15 11 ...\n",
            " $ Height   : num  62.1 74.7 69.7 71 56.9 58.7 63.3 70.4 70.5 59.2 ...\n",
            " $ Smoke    : chr  \"no\" \"yes\" \"no\" \"no\" ...\n",
            " $ Gender   : chr  \"male\" \"female\" \"female\" \"male\" ...\n",
            " $ Caesarean: chr  \"no\" \"no\" \"yes\" \"no\" ...\n"
          ]
        }
      ]
    },
    {
      "cell_type": "code",
      "metadata": {
        "colab": {
          "base_uri": "https://localhost:8080/",
          "height": 286
        },
        "id": "OwrtRhPd1oJ5",
        "outputId": "da3aea42-81f9-4cd1-d23b-3e6034ebd5a2"
      },
      "source": [
        "head(data)"
      ],
      "execution_count": 22,
      "outputs": [
        {
          "output_type": "display_data",
          "data": {
            "text/plain": [
              "  LungCap Age Height Smoke Gender Caesarean\n",
              "1  6.475   6  62.1   no    male   no       \n",
              "2 10.125  18  74.7   yes   female no       \n",
              "3  9.550  16  69.7   no    female yes      \n",
              "4 11.125  14  71.0   no    male   no       \n",
              "5  4.800   5  56.9   no    male   no       \n",
              "6  6.225  11  58.7   no    female no       "
            ],
            "text/latex": "A data.frame: 6 × 6\n\\begin{tabular}{r|llllll}\n  & LungCap & Age & Height & Smoke & Gender & Caesarean\\\\\n  & <dbl> & <int> & <dbl> & <chr> & <chr> & <chr>\\\\\n\\hline\n\t1 &  6.475 &  6 & 62.1 & no  & male   & no \\\\\n\t2 & 10.125 & 18 & 74.7 & yes & female & no \\\\\n\t3 &  9.550 & 16 & 69.7 & no  & female & yes\\\\\n\t4 & 11.125 & 14 & 71.0 & no  & male   & no \\\\\n\t5 &  4.800 &  5 & 56.9 & no  & male   & no \\\\\n\t6 &  6.225 & 11 & 58.7 & no  & female & no \\\\\n\\end{tabular}\n",
            "text/markdown": "\nA data.frame: 6 × 6\n\n| <!--/--> | LungCap &lt;dbl&gt; | Age &lt;int&gt; | Height &lt;dbl&gt; | Smoke &lt;chr&gt; | Gender &lt;chr&gt; | Caesarean &lt;chr&gt; |\n|---|---|---|---|---|---|---|\n| 1 |  6.475 |  6 | 62.1 | no  | male   | no  |\n| 2 | 10.125 | 18 | 74.7 | yes | female | no  |\n| 3 |  9.550 | 16 | 69.7 | no  | female | yes |\n| 4 | 11.125 | 14 | 71.0 | no  | male   | no  |\n| 5 |  4.800 |  5 | 56.9 | no  | male   | no  |\n| 6 |  6.225 | 11 | 58.7 | no  | female | no  |\n\n",
            "text/html": [
              "<table class=\"dataframe\">\n",
              "<caption>A data.frame: 6 × 6</caption>\n",
              "<thead>\n",
              "\t<tr><th></th><th scope=col>LungCap</th><th scope=col>Age</th><th scope=col>Height</th><th scope=col>Smoke</th><th scope=col>Gender</th><th scope=col>Caesarean</th></tr>\n",
              "\t<tr><th></th><th scope=col>&lt;dbl&gt;</th><th scope=col>&lt;int&gt;</th><th scope=col>&lt;dbl&gt;</th><th scope=col>&lt;chr&gt;</th><th scope=col>&lt;chr&gt;</th><th scope=col>&lt;chr&gt;</th></tr>\n",
              "</thead>\n",
              "<tbody>\n",
              "\t<tr><th scope=row>1</th><td> 6.475</td><td> 6</td><td>62.1</td><td>no </td><td>male  </td><td>no </td></tr>\n",
              "\t<tr><th scope=row>2</th><td>10.125</td><td>18</td><td>74.7</td><td>yes</td><td>female</td><td>no </td></tr>\n",
              "\t<tr><th scope=row>3</th><td> 9.550</td><td>16</td><td>69.7</td><td>no </td><td>female</td><td>yes</td></tr>\n",
              "\t<tr><th scope=row>4</th><td>11.125</td><td>14</td><td>71.0</td><td>no </td><td>male  </td><td>no </td></tr>\n",
              "\t<tr><th scope=row>5</th><td> 4.800</td><td> 5</td><td>56.9</td><td>no </td><td>male  </td><td>no </td></tr>\n",
              "\t<tr><th scope=row>6</th><td> 6.225</td><td>11</td><td>58.7</td><td>no </td><td>female</td><td>no </td></tr>\n",
              "</tbody>\n",
              "</table>\n"
            ]
          },
          "metadata": {}
        }
      ]
    },
    {
      "cell_type": "code",
      "metadata": {
        "colab": {
          "base_uri": "https://localhost:8080/",
          "height": 260
        },
        "id": "6naUENEb12PU",
        "outputId": "c0de7307-798f-4921-a824-32160420cd4c"
      },
      "source": [
        "summary(data)"
      ],
      "execution_count": 23,
      "outputs": [
        {
          "output_type": "display_data",
          "data": {
            "text/plain": [
              "    LungCap            Age            Height         Smoke          \n",
              " Min.   : 0.507   Min.   : 3.00   Min.   :45.30   Length:725        \n",
              " 1st Qu.: 6.150   1st Qu.: 9.00   1st Qu.:59.90   Class :character  \n",
              " Median : 8.000   Median :13.00   Median :65.40   Mode  :character  \n",
              " Mean   : 7.863   Mean   :12.33   Mean   :64.84                     \n",
              " 3rd Qu.: 9.800   3rd Qu.:15.00   3rd Qu.:70.30                     \n",
              " Max.   :14.675   Max.   :19.00   Max.   :81.80                     \n",
              "    Gender           Caesarean        \n",
              " Length:725         Length:725        \n",
              " Class :character   Class :character  \n",
              " Mode  :character   Mode  :character  \n",
              "                                      \n",
              "                                      \n",
              "                                      "
            ]
          },
          "metadata": {}
        }
      ]
    },
    {
      "cell_type": "code",
      "metadata": {
        "id": "ZnSne-gw5rdC"
      },
      "source": [
        "#install.packages('ggplot2', dependencies = TRUE)\n",
        "#library (ggplot2)\n",
        "library(dplyr)"
      ],
      "execution_count": 31,
      "outputs": []
    },
    {
      "cell_type": "code",
      "metadata": {
        "colab": {
          "base_uri": "https://localhost:8080/",
          "height": 208
        },
        "id": "SjupsTVu4_lB",
        "outputId": "f917b797-30f6-41d2-fa35-dfaa1e9b0285"
      },
      "source": [
        "# t test Function\n",
        "t.test(data$LungCap ~ data$Smoke, mu = 0, alternative = 'two.sided', conf.level = 0.95, var.equal = FALSE)"
      ],
      "execution_count": 32,
      "outputs": [
        {
          "output_type": "display_data",
          "data": {
            "text/plain": [
              "\n",
              "\tWelch Two Sample t-test\n",
              "\n",
              "data:  data$LungCap by data$Smoke\n",
              "t = -3.6498, df = 117.72, p-value = 0.0003927\n",
              "alternative hypothesis: true difference in means between group no and group yes is not equal to 0\n",
              "95 percent confidence interval:\n",
              " -1.3501778 -0.4003548\n",
              "sample estimates:\n",
              " mean in group no mean in group yes \n",
              "         7.770188          8.645455 \n"
            ]
          },
          "metadata": {}
        }
      ]
    },
    {
      "cell_type": "code",
      "metadata": {
        "colab": {
          "base_uri": "https://localhost:8080/",
          "height": 161
        },
        "id": "P0JndlEz5oT8",
        "outputId": "3ad97b47-0cad-47ce-9299-3f93ab25a4df"
      },
      "source": [
        "\n",
        "# to find variance among 2 samples sets\n",
        "data %>%\n",
        "  group_by(Smoke) %>%\n",
        "  summarise(myVar = var(LungCap))"
      ],
      "execution_count": 33,
      "outputs": [
        {
          "output_type": "display_data",
          "data": {
            "text/plain": [
              "  Smoke myVar   \n",
              "1 no    7.431694\n",
              "2 yes   3.545292"
            ],
            "text/latex": "A tibble: 2 × 2\n\\begin{tabular}{ll}\n Smoke & myVar\\\\\n <chr> & <dbl>\\\\\n\\hline\n\t no  & 7.431694\\\\\n\t yes & 3.545292\\\\\n\\end{tabular}\n",
            "text/markdown": "\nA tibble: 2 × 2\n\n| Smoke &lt;chr&gt; | myVar &lt;dbl&gt; |\n|---|---|\n| no  | 7.431694 |\n| yes | 3.545292 |\n\n",
            "text/html": [
              "<table class=\"dataframe\">\n",
              "<caption>A tibble: 2 × 2</caption>\n",
              "<thead>\n",
              "\t<tr><th scope=col>Smoke</th><th scope=col>myVar</th></tr>\n",
              "\t<tr><th scope=col>&lt;chr&gt;</th><th scope=col>&lt;dbl&gt;</th></tr>\n",
              "</thead>\n",
              "<tbody>\n",
              "\t<tr><td>no </td><td>7.431694</td></tr>\n",
              "\t<tr><td>yes</td><td>3.545292</td></tr>\n",
              "</tbody>\n",
              "</table>\n"
            ]
          },
          "metadata": {}
        }
      ]
    },
    {
      "cell_type": "code",
      "metadata": {
        "colab": {
          "base_uri": "https://localhost:8080/"
        },
        "id": "w9Wn8_Xb1y3x",
        "outputId": "33debcce-456d-4feb-8cd8-321bbe880320"
      },
      "source": [
        "# Levene test to find the variance by P value way\n",
        "install.packages(\"car\")\n",
        "library(car)\n"
      ],
      "execution_count": 35,
      "outputs": [
        {
          "output_type": "stream",
          "name": "stderr",
          "text": [
            "Installing package into ‘/usr/local/lib/R/site-library’\n",
            "(as ‘lib’ is unspecified)\n",
            "\n",
            "also installing the dependencies ‘minqa’, ‘nloptr’, ‘carData’, ‘abind’, ‘pbkrtest’, ‘lme4’\n",
            "\n",
            "\n",
            "Loading required package: carData\n",
            "\n",
            "\n",
            "Attaching package: ‘car’\n",
            "\n",
            "\n",
            "The following object is masked from ‘package:dplyr’:\n",
            "\n",
            "    recode\n",
            "\n",
            "\n"
          ]
        }
      ]
    },
    {
      "cell_type": "code",
      "metadata": {
        "colab": {
          "base_uri": "https://localhost:8080/",
          "height": 195
        },
        "id": "_6lukqw32k34",
        "outputId": "a2dfc8c4-4661-49ab-8bf3-f1a2f9ce037b"
      },
      "source": [
        "leveneTest(data$LungCap ~ data$Smoke)"
      ],
      "execution_count": 36,
      "outputs": [
        {
          "output_type": "stream",
          "name": "stderr",
          "text": [
            "Warning message in leveneTest.default(y = y, group = group, ...):\n",
            "“group coerced to factor.”\n"
          ]
        },
        {
          "output_type": "display_data",
          "data": {
            "text/plain": [
              "      Df  F value  Pr(>F)      \n",
              "group   1 12.95523 0.0003408025\n",
              "      723       NA           NA"
            ],
            "text/latex": "A anova: 2 × 3\n\\begin{tabular}{r|lll}\n  & Df & F value & Pr(>F)\\\\\n  & <int> & <dbl> & <dbl>\\\\\n\\hline\n\tgroup &   1 & 12.95523 & 0.0003408025\\\\\n\t  & 723 &       NA &           NA\\\\\n\\end{tabular}\n",
            "text/markdown": "\nA anova: 2 × 3\n\n| <!--/--> | Df &lt;int&gt; | F value &lt;dbl&gt; | Pr(&gt;F) &lt;dbl&gt; |\n|---|---|---|---|\n| group |   1 | 12.95523 | 0.0003408025 |\n| <!----> | 723 |       NA |           NA |\n\n",
            "text/html": [
              "<table class=\"dataframe\">\n",
              "<caption>A anova: 2 × 3</caption>\n",
              "<thead>\n",
              "\t<tr><th></th><th scope=col>Df</th><th scope=col>F value</th><th scope=col>Pr(&gt;F)</th></tr>\n",
              "\t<tr><th></th><th scope=col>&lt;int&gt;</th><th scope=col>&lt;dbl&gt;</th><th scope=col>&lt;dbl&gt;</th></tr>\n",
              "</thead>\n",
              "<tbody>\n",
              "\t<tr><th scope=row>group</th><td>  1</td><td>12.95523</td><td>0.0003408025</td></tr>\n",
              "\t<tr><th scope=row> </th><td>723</td><td>      NA</td><td>          NA</td></tr>\n",
              "</tbody>\n",
              "</table>\n"
            ]
          },
          "metadata": {}
        }
      ]
    },
    {
      "cell_type": "markdown",
      "metadata": {
        "id": "igHgaRmA3lC9"
      },
      "source": [
        "The P value above is less that 0.05 meanse the H0 of same variance among sample set is rejected. This information is helpful setting the (var.equal = FALSE) parameter in t-test."
      ]
    },
    {
      "cell_type": "markdown",
      "metadata": {
        "id": "j0VpkyEZ4BXq"
      },
      "source": [
        "# Non - Paramterized test - Wilcoxon Rank-Sum test (Mann-Whitney test)"
      ]
    },
    {
      "cell_type": "code",
      "metadata": {
        "colab": {
          "base_uri": "https://localhost:8080/",
          "height": 208
        },
        "id": "2bT4Ny4N4KOY",
        "outputId": "15a2ffe6-ebb9-4f34-cfb6-79977b7d2d6f"
      },
      "source": [
        "wilcox.test(data$LungCap ~ data$Smoke,conf.int = T)"
      ],
      "execution_count": 37,
      "outputs": [
        {
          "output_type": "display_data",
          "data": {
            "text/plain": [
              "\n",
              "\tWilcoxon rank sum test with continuity correction\n",
              "\n",
              "data:  data$LungCap by data$Smoke\n",
              "W = 20128, p-value = 0.005538\n",
              "alternative hypothesis: true location shift is not equal to 0\n",
              "95 percent confidence interval:\n",
              " -1.3999731 -0.2499419\n",
              "sample estimates:\n",
              "difference in location \n",
              "            -0.8000564 \n"
            ]
          },
          "metadata": {}
        }
      ]
    },
    {
      "cell_type": "markdown",
      "metadata": {
        "id": "9Q7qKjPS4XLL"
      },
      "source": [
        "P-value < 0.05, therefore at significance level 0.05 we reject the null\n",
        "and conclude that the median of two groups are different.\n",
        "\n",
        "\n",
        "# Chi-Square Test\n"
      ]
    },
    {
      "cell_type": "code",
      "metadata": {
        "colab": {
          "base_uri": "https://localhost:8080/",
          "height": 87
        },
        "id": "Cgmo_tgv4fFi",
        "outputId": "b3995bcd-0985-4488-f22a-36db9b384dd9"
      },
      "source": [
        "#Get the Observed values\n",
        "data %>%\n",
        "  select(Gender, Smoke) %>%\n",
        "  table()"
      ],
      "execution_count": 38,
      "outputs": [
        {
          "output_type": "display_data",
          "data": {
            "text/plain": [
              "        Smoke\n",
              "Gender    no yes\n",
              "  female 314  44\n",
              "  male   334  33"
            ]
          },
          "metadata": {}
        }
      ]
    },
    {
      "cell_type": "code",
      "metadata": {
        "colab": {
          "base_uri": "https://localhost:8080/",
          "height": 104
        },
        "id": "OAYD_tDC43Zu",
        "outputId": "3b2aab5c-4735-4b50-86b1-3dff81e1a8cf"
      },
      "source": [
        "(t = data%>%\n",
        "  select(Gender, Smoke) %>%\n",
        "  table() %>%\n",
        "  chisq.test())"
      ],
      "execution_count": 39,
      "outputs": [
        {
          "output_type": "display_data",
          "data": {
            "text/plain": [
              "\n",
              "\tPearson's Chi-squared test with Yates' continuity correction\n",
              "\n",
              "data:  .\n",
              "X-squared = 1.7443, df = 1, p-value = 0.1866\n"
            ]
          },
          "metadata": {}
        }
      ]
    },
    {
      "cell_type": "code",
      "metadata": {
        "colab": {
          "base_uri": "https://localhost:8080/",
          "height": 129
        },
        "id": "7tIg8MBn5eoD",
        "outputId": "8fad3bc6-f592-4cd4-ec2b-30c1a9b843ee"
      },
      "source": [
        "t$expected"
      ],
      "execution_count": 40,
      "outputs": [
        {
          "output_type": "display_data",
          "data": {
            "text/plain": [
              "        Smoke\n",
              "Gender   no       yes     \n",
              "  female 319.9779 38.02207\n",
              "  male   328.0221 38.97793"
            ],
            "text/latex": "A matrix: 2 × 2 of type dbl\n\\begin{tabular}{r|ll}\n  & no & yes\\\\\n\\hline\n\tfemale & 319.9779 & 38.02207\\\\\n\tmale & 328.0221 & 38.97793\\\\\n\\end{tabular}\n",
            "text/markdown": "\nA matrix: 2 × 2 of type dbl\n\n| <!--/--> | no | yes |\n|---|---|---|\n| female | 319.9779 | 38.02207 |\n| male | 328.0221 | 38.97793 |\n\n",
            "text/html": [
              "<table class=\"dataframe\">\n",
              "<caption>A matrix: 2 × 2 of type dbl</caption>\n",
              "<thead>\n",
              "\t<tr><th></th><th scope=col>no</th><th scope=col>yes</th></tr>\n",
              "</thead>\n",
              "<tbody>\n",
              "\t<tr><th scope=row>female</th><td>319.9779</td><td>38.02207</td></tr>\n",
              "\t<tr><th scope=row>male</th><td>328.0221</td><td>38.97793</td></tr>\n",
              "</tbody>\n",
              "</table>\n"
            ]
          },
          "metadata": {}
        }
      ]
    },
    {
      "cell_type": "markdown",
      "metadata": {
        "id": "6bkbJviM5XK7"
      },
      "source": [
        "P-values > 0.05. We won’t reject the null hypothesis and conclude that\n",
        "gender and smoking are not associated at alpha = 0.05 level."
      ]
    },
    {
      "cell_type": "code",
      "metadata": {
        "id": "j21A5HEP5jcq"
      },
      "source": [
        ""
      ],
      "execution_count": null,
      "outputs": []
    }
  ]
}