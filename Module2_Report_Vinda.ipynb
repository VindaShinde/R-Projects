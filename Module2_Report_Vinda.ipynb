{
 "cells": [
  {
   "cell_type": "markdown",
   "id": "b8cb6ce0",
   "metadata": {},
   "source": [
    "### Title: \"R-Report2\"\n",
    "#### Subtitle: Module 2 - Report created with R\n",
    "### Author: \"Vinda Shinde\"\n",
    "### date: \"11/09/2021\""
   ]
  },
  {
   "cell_type": "code",
   "execution_count": null,
   "id": "ee722b30",
   "metadata": {},
   "outputs": [],
   "source": [
    "install.packages(\"dplyr\")\n",
    "install.packages(\"magrittr\")\n",
    "install.packages(\"plyr\")"
   ]
  },
  {
   "cell_type": "code",
   "execution_count": null,
   "id": "0fe2baf4",
   "metadata": {},
   "outputs": [],
   "source": [
    "\n",
    "library(stringr)\n",
    "library(ggplot2)\n",
    "library(dplyr)"
   ]
  },
  {
   "cell_type": "markdown",
   "id": "a63159c2",
   "metadata": {},
   "source": [
    "# Objective of the Proposed Research \n",
    "\n",
    "This is a report presented on the data received from San Francisco Controller's Office to show the salary and benefits paid to City employees since the fiscal year 2013. The database is revised on a bi-annual basis for every calendar year. \n",
    "My main objective for this report is to showcase the analysis of the cost of living in the city. The results of the analysis will be published as a main page article in the newspaper. \n",
    "It is given that two main factors affect the cost of living: 1) income and 2) housing. From this information, I want to depict the main insights regarding the income in the city.\n",
    "\n"
   ]
  },
  {
   "cell_type": "markdown",
   "id": "85a0e8e2",
   "metadata": {},
   "source": [
    "# Data Exploration"
   ]
  },
  {
   "cell_type": "code",
   "execution_count": 161,
   "id": "3c4613a6",
   "metadata": {},
   "outputs": [],
   "source": [
    "emp.comp <- read.csv(file ='D:/UOP Projects/Alalytics/Report 2 - R/employee-compensation.csv',stringsAsFactors = FALSE)"
   ]
  },
  {
   "cell_type": "code",
   "execution_count": null,
   "id": "15a2337b",
   "metadata": {},
   "outputs": [],
   "source": [
    "#Details about columns in data file for 1st level analysis\n",
    "cat(\"Number of rows in data file:\", nrow(emp.comp))\n",
    "cat(\"\\nNumber of columns in data file:\",ncol(emp.comp))\n",
    "\n",
    "#Information about data and view data\n",
    "head(emp.comp, n=7)\n",
    "summary(emp.comp)"
   ]
  },
  {
   "cell_type": "code",
   "execution_count": null,
   "id": "0f43bd15",
   "metadata": {},
   "outputs": [],
   "source": [
    "#Replacing Negative salary values\n",
    "summary(emp.comp$Total.Salary)\n",
    "#emp.comp[emp.comp < 0 ] <- NA\n",
    "#summary(emp.comp$Total.Salary)\n",
    "\n",
    "#Replacing NA values in Job column\n",
    "table(is.na(emp.comp$Job))\n",
    "#emp.comp$Job <-na.omit(emp.comp$Job)\n",
    "#table(is.na(emp.comp$Job))\n",
    "#Details of each column\n",
    "#str(emp.comp)\n"
   ]
  },
  {
   "cell_type": "markdown",
   "id": "0de0ce3c",
   "metadata": {},
   "source": [
    "#### In the available data, there are different Organisational groups categorized by SFCO and the salary and benefits components under different departments and jobs belonging to them."
   ]
  },
  {
   "cell_type": "code",
   "execution_count": 162,
   "id": "48254c49",
   "metadata": {},
   "outputs": [
    {
     "data": {
      "text/plain": [
       "\n",
       "   FALSE     TRUE \n",
       "15031743      351 "
      ]
     },
     "metadata": {},
     "output_type": "display_data"
    },
    {
     "data": {
      "text/html": [
       "<ol class=list-inline>\n",
       "\t<li>'Calendar'</li>\n",
       "\t<li>'Fiscal'</li>\n",
       "</ol>\n"
      ],
      "text/latex": [
       "\\begin{enumerate*}\n",
       "\\item 'Calendar'\n",
       "\\item 'Fiscal'\n",
       "\\end{enumerate*}\n"
      ],
      "text/markdown": [
       "1. 'Calendar'\n",
       "2. 'Fiscal'\n",
       "\n",
       "\n"
      ],
      "text/plain": [
       "[1] \"Calendar\" \"Fiscal\"  "
      ]
     },
     "metadata": {},
     "output_type": "display_data"
    }
   ],
   "source": [
    "table(is.na(emp.comp))\n",
    "unique(emp.comp$Year.Type)"
   ]
  },
  {
   "cell_type": "code",
   "execution_count": null,
   "id": "61662d09",
   "metadata": {},
   "outputs": [],
   "source": [
    "#Create the dataset to work on as required and skip unwanted columns\n",
    "\n",
    "# Analyze required data variable\n",
    "emp.comp %>% ggplot(aes(Year.Type,Total.Salary)) + geom_boxplot()\n"
   ]
  },
  {
   "cell_type": "markdown",
   "id": "388700ba",
   "metadata": {},
   "source": [
    "#### From the first level analysis it is found that there are many columns available and some are representing duplicate information, as they are the codes for unique values available in corresponding columns. like there are columns 'Job' and 'Job codes' which show the job's unique value. Also as seen in the plot there is not much difference in salaries with the Calendar year or Fiscal year so anyone can be selected for analysis.\n",
    "\n"
   ]
  },
  {
   "cell_type": "markdown",
   "id": "04e2ef15",
   "metadata": {},
   "source": [
    "# Subsets of Data\n",
    "\n",
    "#### To find the relation of data within multiple columns of Salary and Benefits, I will check to create a subset and check the value of the column with the 'if' condition.\n"
   ]
  },
  {
   "cell_type": "code",
   "execution_count": 163,
   "id": "41d8ff3d",
   "metadata": {},
   "outputs": [
    {
     "data": {
      "text/html": [
       "<table>\n",
       "<thead><tr><th scope=col>emp.comp.Salaries</th><th scope=col>emp.comp.Overtime</th><th scope=col>emp.comp.Other.Salaries</th><th scope=col>emp.comp.Total.Salary</th><th scope=col>sum.of.salary.components</th></tr></thead>\n",
       "<tbody>\n",
       "\t<tr><td> 57534.65</td><td>0        </td><td>    0.00 </td><td>57534.65 </td><td>57534.65 </td></tr>\n",
       "\t<tr><td> 57678.50</td><td>0        </td><td>    0.00 </td><td>57678.50 </td><td>57678.50 </td></tr>\n",
       "\t<tr><td> 63532.93</td><td>0        </td><td>    0.00 </td><td>63532.93 </td><td>63532.93 </td></tr>\n",
       "\t<tr><td>101274.51</td><td>0        </td><td>-7058.59 </td><td>94215.92 </td><td>94215.92 </td></tr>\n",
       "\t<tr><td>  5084.00</td><td>0        </td><td>    0.00 </td><td> 5084.00 </td><td> 5084.00 </td></tr>\n",
       "</tbody>\n",
       "</table>\n"
      ],
      "text/latex": [
       "\\begin{tabular}{r|lllll}\n",
       " emp.comp.Salaries & emp.comp.Overtime & emp.comp.Other.Salaries & emp.comp.Total.Salary & sum.of.salary.components\\\\\n",
       "\\hline\n",
       "\t  57534.65 & 0         &     0.00  & 57534.65  & 57534.65 \\\\\n",
       "\t  57678.50 & 0         &     0.00  & 57678.50  & 57678.50 \\\\\n",
       "\t  63532.93 & 0         &     0.00  & 63532.93  & 63532.93 \\\\\n",
       "\t 101274.51 & 0         & -7058.59  & 94215.92  & 94215.92 \\\\\n",
       "\t   5084.00 & 0         &     0.00  &  5084.00  &  5084.00 \\\\\n",
       "\\end{tabular}\n"
      ],
      "text/markdown": [
       "\n",
       "| emp.comp.Salaries | emp.comp.Overtime | emp.comp.Other.Salaries | emp.comp.Total.Salary | sum.of.salary.components |\n",
       "|---|---|---|---|---|\n",
       "|  57534.65 | 0         |     0.00  | 57534.65  | 57534.65  |\n",
       "|  57678.50 | 0         |     0.00  | 57678.50  | 57678.50  |\n",
       "|  63532.93 | 0         |     0.00  | 63532.93  | 63532.93  |\n",
       "| 101274.51 | 0         | -7058.59  | 94215.92  | 94215.92  |\n",
       "|   5084.00 | 0         |     0.00  |  5084.00  |  5084.00  |\n",
       "\n"
      ],
      "text/plain": [
       "  emp.comp.Salaries emp.comp.Overtime emp.comp.Other.Salaries\n",
       "1  57534.65         0                     0.00               \n",
       "2  57678.50         0                     0.00               \n",
       "3  63532.93         0                     0.00               \n",
       "4 101274.51         0                 -7058.59               \n",
       "5   5084.00         0                     0.00               \n",
       "  emp.comp.Total.Salary sum.of.salary.components\n",
       "1 57534.65              57534.65                \n",
       "2 57678.50              57678.50                \n",
       "3 63532.93              63532.93                \n",
       "4 94215.92              94215.92                \n",
       "5  5084.00               5084.00                "
      ]
     },
     "metadata": {},
     "output_type": "display_data"
    },
    {
     "data": {
      "text/html": [
       "TRUE"
      ],
      "text/latex": [
       "TRUE"
      ],
      "text/markdown": [
       "TRUE"
      ],
      "text/plain": [
       "[1] TRUE"
      ]
     },
     "metadata": {},
     "output_type": "display_data"
    },
    {
     "name": "stdout",
     "output_type": "stream",
     "text": [
      "Total salary matches all the salary components like basic salary,overtime and other salaries. \n"
     ]
    }
   ],
   "source": [
    "#Purpose of multiple salary releted columns\n",
    "salary.total <- data.frame(emp.comp$Salaries, emp.comp$Overtime, emp.comp$Other.Salaries, emp.comp$Total.Salary)\n",
    "new.salary.table<-cbind(salary.total, sum.of.salary.components = (emp.comp$Salaries + emp.comp$Overtime + emp.comp$Other.Salaries))\n",
    "head(new.salary.table,n=5)\n",
    "\n",
    "if (all(salary.total$Total.Salary == new.salary.table$sum.of.salary.components)) TRUE  \n",
    "    cat(\"Total salary matches all the salary components like basic salary,overtime and other salaries.\",\"\\n\")"
   ]
  },
  {
   "cell_type": "markdown",
   "id": "e6aa456e",
   "metadata": {},
   "source": [
    "#### From the analysis it is found that Total Salary is actually the addition of Salaries, Overtime, and Other Salaries. Also, Total Benefits is actually the addition of Retirement, Health, and Dental and Other Benefits. And the addition of Total Salary with Total Benefits is actually Total Compensation. So now I can work on these independent columns themselves."
   ]
  },
  {
   "cell_type": "code",
   "execution_count": 164,
   "id": "5337c85e",
   "metadata": {},
   "outputs": [
    {
     "data": {
      "text/html": [
       "TRUE"
      ],
      "text/latex": [
       "TRUE"
      ],
      "text/markdown": [
       "TRUE"
      ],
      "text/plain": [
       "[1] TRUE"
      ]
     },
     "metadata": {},
     "output_type": "display_data"
    },
    {
     "name": "stdout",
     "output_type": "stream",
     "text": [
      "Total benefits matches all the benefits components like retirement, health and dental and other benefits \n"
     ]
    }
   ],
   "source": [
    "#Purpose of multiple benefits related columns\n",
    "benefits.total <- data.frame(emp.comp$Retirement,emp.comp$Health.and.Dental,emp.comp$Other.Benefits,emp.comp$Total.Benefits)\n",
    "new.benefits.total <- cbind(benefits.total, sum.of.benefits.components = emp.comp$Retirement + emp.comp$Health.and.Dental + emp.comp$Other.Benefits)\n",
    "\n",
    "if(all(benefits.total$Total.Benefits == new.benefits.total$sum.of.benefits.components)) TRUE\n",
    "    cat(\"Total benefits matches all the benefits components like retirement, health and dental and other benefits\",\"\\n\")\n"
   ]
  },
  {
   "cell_type": "markdown",
   "id": "b3766edc",
   "metadata": {},
   "source": [
    "#### Subset of data, to find the main categories of Organisation Group and how many values belongs to it. I will base my analysis on these main categories of Organisation Groups with the Jobs under them.\n",
    "\n",
    "I would be finding which is the highest paid Organisation Group and which are the highest paid jobs belonging to those groups. Also, find how much percentile of benefits is allocated to these groups. \n",
    "\n",
    "\n"
   ]
  },
  {
   "cell_type": "code",
   "execution_count": null,
   "id": "aaf91692",
   "metadata": {},
   "outputs": [],
   "source": [
    "table(emp.comp$Organization.Group)"
   ]
  },
  {
   "cell_type": "markdown",
   "id": "53a06d1b",
   "metadata": {},
   "source": [
    "#### In the available data, there are different Organisational groups categorized by SFCO and the salary and benefits components under different departments and jobs belonging to them."
   ]
  },
  {
   "cell_type": "markdown",
   "id": "7ea969fb",
   "metadata": {},
   "source": [
    "# 5 different Lists with Conditional and Loops\n",
    "\n",
    "For every individual 'Organisation Group' I will find the highest-paid Jobs and what is the Total Salary and Benefits of this group. Also how much percentile benefits are provided to every group.\n",
    "\n",
    "### 1) Organisational Group - Community Health\n"
   ]
  },
  {
   "cell_type": "code",
   "execution_count": 165,
   "id": "ee7f3570",
   "metadata": {},
   "outputs": [
    {
     "name": "stdout",
     "output_type": "stream",
     "text": [
      "Highest paid Jobs under Community Health are: \n",
      "[1] \"Senior Physician Specialist\"    \"Physician Administrator, DPH\"  \n",
      "[3] \"Dept Head V\"                    \"Administrator, DPH\"            \n",
      "[5] \"Supervising Physician Spec\"     \"Nurse Manager\"                 \n",
      "[7] \"Physician Assistant\"            \"Sup Psychiatric Physician Spec\"\n",
      "[9] \"Sr Psychiatric Physician Spec\" \n"
     ]
    },
    {
     "data": {
      "text/html": [
       "11563005272.28"
      ],
      "text/latex": [
       "11563005272.28"
      ],
      "text/markdown": [
       "11563005272.28"
      ],
      "text/plain": [
       "[1] 11563005272"
      ]
     },
     "metadata": {},
     "output_type": "display_data"
    },
    {
     "name": "stdout",
     "output_type": "stream",
     "text": [
      "\n",
      " Total Salary in Community Health: \n",
      " 11563005272\n",
      " Total Benefits in Community Health: \n",
      " 4141359843\n",
      " The benefits percentage to salary are: 26.37076  it is higher than 20%"
     ]
    }
   ],
   "source": [
    "#Org.health\n",
    "Org.health <- filter(emp.comp, Organization.Group == \"Community Health\")\n",
    "Job.for.health <- Org.health[Org.health$Total.Salary >= 350000, \"Job\"]\n",
    "cat(\"Highest paid Jobs under Community Health are:\",\"\\n\")\n",
    "health.jobs.list <- list(unique(Job.for.health))\n",
    "\n",
    "for (job in health.jobs.list){\n",
    "    print(job)\n",
    "}\n",
    "\n",
    "sum.of.salary.health <- sum(Org.health$Total.Salary)\n",
    "sum.of.salary.health\n",
    "cat(\"\\n\",\"Total Salary in Community Health:\",\"\\n\",sum.of.salary.health)\n",
    "\n",
    "sum.of.benefit.health <- sum(Org.health$Total.Benefits)\n",
    "cat(\"\\n\",\"Total Benefits in Community Health:\",\"\\n\",sum.of.benefit.health)\n",
    "\n",
    "percentage.benefits <- (sum.of.benefit.health/(sum.of.salary.health + sum.of.benefit.health))*100\n",
    "\n",
    "if (percentage.benefits < 20){\n",
    "    cat(\"\\n\",\"The benefits percentage to salary are:\",percentage.benefits,\" it is lower than 20%\")\n",
    "    } else {\n",
    "    cat(\"\\n\",\"The benefits percentage to salary are:\",percentage.benefits,\" it is higher than 20%\")\n",
    "    }"
   ]
  },
  {
   "cell_type": "markdown",
   "id": "437a0e04",
   "metadata": {},
   "source": [
    "##### The highest paid jobs under 'Community Health' are displayed in the above output. Also, the benefits offered to these job employees are about 26% of their total salary.\n",
    "\n",
    "### 2) Organisation Group - Culture & Recreation"
   ]
  },
  {
   "cell_type": "code",
   "execution_count": 166,
   "id": "2e9da987",
   "metadata": {},
   "outputs": [
    {
     "name": "stdout",
     "output_type": "stream",
     "text": [
      "Highest paid Jobs under Culture & Recreation are: \n",
      "[1] \"Dept Head IV\"             \"Head Park Patrol Officer\"\n",
      "[3] \"Dept Head III\"            \"Dep Dir IV\"              \n",
      "[5] \"Dep Dir III\"              \"Head Park Ranger\"        \n",
      "[7] \"Dept Head II\"            \n",
      "\n",
      " Total Salary in Culture & Recreation: \n",
      " 2340226105\n",
      " Total Benefits in Culture & Recreation: \n",
      " 996304402\n",
      " The benefits percentage to salary are: 29.86049  it is lower than 30%"
     ]
    }
   ],
   "source": [
    "#With Culture \n",
    "Org.culture <- filter(emp.comp, Organization.Group == \"Culture & Recreation\")\n",
    "Job.for.culture <- Org.culture[Org.culture$Total.Salary >= 200000, \"Job\"]\n",
    "cat(\"Highest paid Jobs under Culture & Recreation are:\",\"\\n\") \n",
    "culture.jobs.list <- list(unique(Job.for.culture))\n",
    "for (job in culture.jobs.list){\n",
    "    print(job)\n",
    "}\n",
    "\n",
    "sum.of.salary.culture <- sum(Org.culture$Total.Salary)\n",
    "cat(\"\\n\",\"Total Salary in Culture & Recreation:\",\"\\n\",sum.of.salary.culture)\n",
    "\n",
    "sum.of.benefit.culture <- sum(Org.culture$Total.Benefits)\n",
    "cat(\"\\n\",\"Total Benefits in Culture & Recreation:\",\"\\n\",sum.of.benefit.culture)\n",
    "\n",
    "percentage.benefits <- (sum.of.benefit.culture/(sum.of.salary.culture + sum.of.benefit.culture))*100\n",
    "\n",
    "if (percentage.benefits < 30){\n",
    "    cat(\"\\n\",\"The benefits percentage to salary are:\",percentage.benefits,\" it is lower than 30%\")\n",
    "    } else {\n",
    "    cat(\"\\n\",\"The benefits percentage to salary are:\",percentage.benefits,\" it is higher than 30%\")\n",
    "    }"
   ]
  },
  {
   "cell_type": "markdown",
   "id": "42d957ae",
   "metadata": {},
   "source": [
    "##### The highest paid jobs under 'Community Health' are displayed in the above output. Also, the benefits offered to these job employees are about 26% of their total salary.\n",
    "\n",
    "### 3) Organisation Group - General Administration & Finance"
   ]
  },
  {
   "cell_type": "code",
   "execution_count": 167,
   "id": "eaa84089",
   "metadata": {},
   "outputs": [
    {
     "name": "stdout",
     "output_type": "stream",
     "text": [
      "Highest paid Jobs under General Administration & Finance are: \n",
      " [1] \"Asst Med Examiner\"              \"Dept Head V\"                   \n",
      " [3] \"Dep Dir For Investments, Ret\"   \"Chief Investment Officer\"      \n",
      " [5] \"Managing Director\"              \"Controller\"                    \n",
      " [7] \"Mayor\"                          \"Director\"                      \n",
      " [9] \"Chief Atty1 (Civil & Criminal)\" \"Assistant Chief Attorney 1\"    \n",
      "[11] \"Senior Portfolio Manager\"      \n",
      "\n",
      " Total Salary in General Administration & Finance: \n",
      " 4561159188\n",
      " Total Benefits in General Administration & Finance: \n",
      " 1792998463\n",
      " The benefits percentage to salary are: 28.21772  it is lower than 30%"
     ]
    }
   ],
   "source": [
    "#with General Administration & Finance\n",
    "Org.general <- filter(emp.comp, Organization.Group == \"General Administration & Finance\")\n",
    "Job.for.general <- Org.general[Org.general$Total.Salary >= 300000, \"Job\"]\n",
    "cat(\"Highest paid Jobs under General Administration & Finance are:\",\"\\n\") \n",
    "general.job.list <- list(unique(Job.for.general))\n",
    "for (job in general.job.list){\n",
    "    print(job)\n",
    "}\n",
    "\n",
    "sum.of.salary.general <- sum(Org.general$Total.Salary)\n",
    "cat(\"\\n\",\"Total Salary in General Administration & Finance:\",\"\\n\",sum.of.salary.general)\n",
    "\n",
    "sum.of.benefit.general <- sum(Org.general$Total.Benefits)\n",
    "cat(\"\\n\",\"Total Benefits in General Administration & Finance:\",\"\\n\",sum.of.benefit.general)\n",
    "\n",
    "percentage.benefits <- (sum.of.benefit.general/(sum.of.salary.general + sum.of.benefit.general))*100\n",
    "\n",
    "if (percentage.benefits < 30){\n",
    "    cat(\"\\n\",\"The benefits percentage to salary are:\",percentage.benefits,\" it is lower than 30%\")\n",
    "    } else {\n",
    "    cat(\"\\n\",\"The benefits percentage to salary are:\",percentage.benefits,\" it is higher than 30%\")\n",
    "    }\n"
   ]
  },
  {
   "cell_type": "markdown",
   "id": "5fa28b2f",
   "metadata": {},
   "source": [
    "##### The highest paid jobs under ' General Administration & Finance' are displayed in the above output. Also, the benefits offered to these job employees are about 28% of their total salary.\n",
    "\n",
    "### 4) Organisation Group - General City Responsibilities"
   ]
  },
  {
   "cell_type": "code",
   "execution_count": 171,
   "id": "51855094",
   "metadata": {},
   "outputs": [
    {
     "name": "stdout",
     "output_type": "stream",
     "text": [
      "Highest paid Jobs under General City Responsibilities are: \n",
      "[1] \"Manager VI, MTA\"     \"Park Patrol Officer\" \"Manager VIII, MTA\"  \n",
      "[4] \"Transit Operator\"    \"Sheriff's Cadet\"     \"Police Officer 2\"   \n",
      "\n",
      " Total Salary in General City Responsibilities: \n",
      " 5377307\n",
      " Total Benefits in General City Responsibilities: \n",
      " 2002562\n",
      " The benefits percentage to salary are: 27.13546  it is lower than 30%"
     ]
    }
   ],
   "source": [
    "#with General City Responsibilities \n",
    "Org.city <- filter(emp.comp, Organization.Group == \"General City Responsibilities\")\n",
    "Job.for.city <- Org.city[Org.city$Total.Salary >= 50000, \"Job\"]\n",
    "cat(\"Highest paid Jobs under General City Responsibilities are:\",\"\\n\") \n",
    "culture.job.list <- list(unique(Job.for.city))\n",
    "for (job in culture.job.list){\n",
    "    print(job)\n",
    "}\n",
    "\n",
    "sum.of.salary.city <- sum(Org.city$Total.Salary,na.rm = TRUE)\n",
    "cat(\"\\n\",\"Total Salary in General City Responsibilities:\",\"\\n\",sum.of.salary.city)\n",
    "\n",
    "sum.of.benefit.city <- sum(Org.city$Total.Benefits,na.rm = TRUE)\n",
    "cat(\"\\n\",\"Total Benefits in General City Responsibilities:\",\"\\n\",sum.of.benefit.city)\n",
    "\n",
    "percentage.benefits <- (sum.of.benefit.city/(sum.of.salary.city + sum.of.benefit.city))*100\n",
    "\n",
    "if (percentage.benefits < 30){\n",
    "    cat(\"\\n\",\"The benefits percentage to salary are:\",percentage.benefits,\" it is lower than 30%\")\n",
    "    } else {\n",
    "    cat(\"\\n\",\"The benefits percentage to salary are:\",percentage.benefits,\" it is higher than 30%\")\n",
    "    }\n"
   ]
  },
  {
   "cell_type": "markdown",
   "id": "7f9a933c",
   "metadata": {},
   "source": [
    "##### The highest paid jobs under 'Community Health' are displayed in the above output. Also, the benefits offered to these job employees are about  27% of their total salary.\n",
    "\n",
    "### 5) Organisation Group - Human Welfare & Neighborhood Development"
   ]
  },
  {
   "cell_type": "code",
   "execution_count": 173,
   "id": "38342dab",
   "metadata": {},
   "outputs": [
    {
     "name": "stdout",
     "output_type": "stream",
     "text": [
      "Highest paid Jobs under General City Responsibilities are: \n",
      " [1] \"Dept Head III\"                  \"Dept Head V\"                   \n",
      " [3] \"Dep Dir IV\"                     \"Head Atty, Civil & Criminal\"   \n",
      " [5] \"Dept Head II\"                   \"Attorney (Civil/Criminal)\"     \n",
      " [7] \"Manager VII\"                    \"Dep Dir III\"                   \n",
      " [9] \"Manager VI\"                     \"Protective Services Supervisor\"\n",
      "[11] \"Nurse Manager\"                 \n",
      "\n",
      " Total Salary in Human Welfare & Neighborhood Development: \n",
      " 3312838122\n",
      " Total Benefits in Human Welfare & Neighborhood Development: \n",
      " 1424909746\n",
      " The benefits percentage to salary are: 30.07568  it is higher than 30%"
     ]
    }
   ],
   "source": [
    "#with Human Welfare & Neighborhood Development \n",
    "Org.welfare <- filter(emp.comp, Organization.Group == \"Human Welfare & Neighborhood Development\")\n",
    "Job.for.welfare <- Org.welfare[Org.welfare$Total.Salary >= 200000, \"Job\"]\n",
    "cat(\"Highest paid Jobs under General City Responsibilities are:\",\"\\n\") \n",
    "welfare.job.list <- list(unique(Job.for.welfare))\n",
    "for (job in welfare.job.list){\n",
    "    print(job)\n",
    "}\n",
    "\n",
    "sum.of.salary.welfare <- sum(Org.welfare$Total.Salary)\n",
    "cat(\"\\n\",\"Total Salary in Human Welfare & Neighborhood Development:\",\"\\n\",sum.of.salary.welfare)\n",
    "\n",
    "sum.of.benefit.welfare <- sum(Org.welfare$Total.Benefits)\n",
    "cat(\"\\n\",\"Total Benefits in Human Welfare & Neighborhood Development:\",\"\\n\",sum.of.benefit.welfare)\n",
    "\n",
    "percentage.benefits <- (sum.of.benefit.welfare/(sum.of.salary.welfare + sum.of.benefit.welfare))*100\n",
    "\n",
    "if (percentage.benefits < 30){\n",
    "    cat(\"\\n\",\"The benefits percentage to salary are:\",percentage.benefits,\" it is lower than 30%\")\n",
    "    } else {\n",
    "    cat(\"\\n\",\"The benefits percentage to salary are:\",percentage.benefits,\" it is higher than 30%\")\n",
    "    }"
   ]
  },
  {
   "cell_type": "markdown",
   "id": "93332e1f",
   "metadata": {},
   "source": [
    "##### The highest paid jobs under 'Human Welfare & Neighborhood Development' are displayed in the above output. Also, the benefits offered to these job employees are about 30% of their total salary.\n",
    "\n",
    "### 6) Organisation Group - Public Protection"
   ]
  },
  {
   "cell_type": "code",
   "execution_count": 174,
   "id": "a883168e",
   "metadata": {},
   "outputs": [
    {
     "name": "stdout",
     "output_type": "stream",
     "text": [
      "Highest paid Jobs under General City Responsibilities are: \n",
      " [1] \"Deputy Chief 3\"                 \"Sheriff's Lieutenant\"          \n",
      " [3] \"Lieut,Fire Prev\"                \"Criminalist III\"               \n",
      " [5] \"Police Officer 3\"               \"Deputy Sheriff\"                \n",
      " [7] \"Dep Chf of Dept (Fire Dept)\"    \"Assistant Deputy Chief 2\"      \n",
      " [9] \"Senior Deputy Sheriff\"          \"Battalion Chief, Fire Suppress\"\n",
      "[11] \"Fire Protection Engineer\"       \"Chief, Fire Department\"        \n",
      "[13] \"Assistant Chief of Police\"      \"Head Atty, Civil & Criminal\"   \n",
      "\n",
      " Total Salary in Public Protection: \n",
      " 15122694005\n",
      " Total Benefits in Public Protection: \n",
      " 4568053418\n",
      " The benefits percentage to salary are: 23.19898  it is lower than 30%"
     ]
    }
   ],
   "source": [
    "#with Public Protection\n",
    "Org.protection <- filter(emp.comp, Organization.Group == \"Public Protection\")\n",
    "Job.for.protection<- Org.protection[Org.protection$Total.Salary >= 400000, \"Job\"]\n",
    "cat(\"Highest paid Jobs under General City Responsibilities are:\",\"\\n\") \n",
    "protection.job.list <- list(unique(Job.for.protection))\n",
    "for (job in protection.job.list){\n",
    "    print(job)\n",
    "}\n",
    "\n",
    "sum.of.salary.protection <- sum(Org.protection$Total.Salary)\n",
    "cat(\"\\n\",\"Total Salary in Public Protection:\",\"\\n\",sum.of.salary.protection)\n",
    "\n",
    "sum.of.benefit.protection <- sum(Org.protection$Total.Benefits)\n",
    "cat(\"\\n\",\"Total Benefits in Public Protection:\",\"\\n\",sum.of.benefit.protection)\n",
    "\n",
    "percentage.benefits <- (sum.of.benefit.protection/(sum.of.salary.protection + sum.of.benefit.protection))*100\n",
    "\n",
    "if (percentage.benefits < 30){\n",
    "    cat(\"\\n\",\"The benefits percentage to salary are:\",percentage.benefits,\" it is lower than 30%\")\n",
    "    } else {\n",
    "    cat(\"\\n\",\"The benefits percentage to salary are:\",percentage.benefits,\" it is higher than 30%\")\n",
    "    }"
   ]
  },
  {
   "cell_type": "markdown",
   "id": "585ac7dc",
   "metadata": {},
   "source": [
    "##### The highest paid jobs under 'Public Protection' are displayed in the above output. Also, the benefits offered to these job employees are about 23% of their total salary.\n",
    "\n",
    "### 7) Organisation Group - Public Works, Transportation & Commerce \n"
   ]
  },
  {
   "cell_type": "code",
   "execution_count": 175,
   "id": "c8e0b9a6",
   "metadata": {},
   "outputs": [
    {
     "name": "stdout",
     "output_type": "stream",
     "text": [
      "Highest paid Jobs under General City Responsibilities are: \n",
      " [1] \"Dept Head V\"                    \"Gen Mgr, Public Trnsp Dept\"    \n",
      " [3] \"Executive Contract Employee\"    \"Transit Operator\"              \n",
      " [5] \"Electrical Transit Shop Sprv 1\" \"Electrl Trnst Mech, Asst Sprv\" \n",
      " [7] \"Mech Shop & Equip Supt\"         \"Transit Supervisor\"            \n",
      " [9] \"Port Director\"                  \"Dep Dir V\"                     \n",
      "[11] \"Transit Power Line Sprv1\"       \"Transportation Operations Spec\"\n",
      "\n",
      " Total Salary in Public Works, Transportation & Commerce: \n",
      " 16780484870\n",
      " Total Benefits in Public Works, Transportation & Commerce: \n",
      " 6646512462\n",
      " The benefits percentage to salary are: 28.37117  it is lower than 30%"
     ]
    }
   ],
   "source": [
    "#with Public Works, Transportation & Commerce \n",
    "Org.transport <- filter(emp.comp, Organization.Group == \"Public Works, Transportation & Commerce\")\n",
    "Job.for.transport <- Org.transport[Org.transport$Total.Salary >= 300000, \"Job\"]\n",
    "cat(\"Highest paid Jobs under General City Responsibilities are:\",\"\\n\") \n",
    "transport.job.list <- list(unique(Job.for.transport))\n",
    "for (job in transport.job.list){\n",
    "    print(job)\n",
    "}\n",
    "\n",
    "sum.of.salary.transport <- sum(Org.transport$Total.Salary,na.rm = TRUE)\n",
    "cat(\"\\n\",\"Total Salary in Public Works, Transportation & Commerce:\",\"\\n\",sum.of.salary.transport)\n",
    "\n",
    "sum.of.benefit.transport <- sum(Org.transport$Total.Benefits,na.rm = TRUE)\n",
    "cat(\"\\n\",\"Total Benefits in Public Works, Transportation & Commerce:\",\"\\n\",sum.of.benefit.transport)\n",
    "\n",
    "percentage.benefits.transport <- (sum.of.benefit.transport/(sum.of.salary.transport + sum.of.benefit.transport))*100\n",
    "\n",
    "if (percentage.benefits.transport < 30){\n",
    "    cat(\"\\n\",\"The benefits percentage to salary are:\",percentage.benefits.transport,\" it is lower than 30%\")\n",
    "    } else {\n",
    "    cat(\"\\n\",\"The benefits percentage to salary are:\",percentage.benefits.transport,\" it is higher than 30%\")\n",
    "    }\n",
    "\n"
   ]
  },
  {
   "cell_type": "markdown",
   "id": "40e39789",
   "metadata": {},
   "source": [
    "##### The highest paid jobs under 'Public Works, Transportation & Commerce ' are displayed in the above output. Also, the benefits offered to these job employees are about 28% of their total salary."
   ]
  },
  {
   "cell_type": "markdown",
   "id": "4ca1c481",
   "metadata": {},
   "source": [
    "# Single Vector"
   ]
  },
  {
   "cell_type": "code",
   "execution_count": 178,
   "id": "4f0aa314",
   "metadata": {},
   "outputs": [
    {
     "name": "stdout",
     "output_type": "stream",
     "text": [
      "Total Salaries for every Organisation Groups: \n"
     ]
    },
    {
     "data": {
      "text/html": [
       "<ol>\n",
       "\t<li><dl class=dl-horizontal>\n",
       "\t<dt>City</dt>\n",
       "\t\t<dd>5377307.34</dd>\n",
       "\t<dt>Culture</dt>\n",
       "\t\t<dd>2340226105.01</dd>\n",
       "\t<dt>Welfare</dt>\n",
       "\t\t<dd>3312838122.19</dd>\n",
       "\t<dt>General</dt>\n",
       "\t\t<dd>4561159188.01</dd>\n",
       "\t<dt>Health</dt>\n",
       "\t\t<dd>11563005272.28</dd>\n",
       "\t<dt>Protection</dt>\n",
       "\t\t<dd>15122694004.68</dd>\n",
       "\t<dt>Transport</dt>\n",
       "\t\t<dd>16780484870.36</dd>\n",
       "</dl>\n",
       "</li>\n",
       "</ol>\n"
      ],
      "text/latex": [
       "\\begin{enumerate}\n",
       "\\item \\begin{description*}\n",
       "\\item[City] 5377307.34\n",
       "\\item[Culture] 2340226105.01\n",
       "\\item[Welfare] 3312838122.19\n",
       "\\item[General] 4561159188.01\n",
       "\\item[Health] 11563005272.28\n",
       "\\item[Protection] 15122694004.68\n",
       "\\item[Transport] 16780484870.36\n",
       "\\end{description*}\n",
       "\n",
       "\\end{enumerate}\n"
      ],
      "text/markdown": [
       "1. City\n",
       ":   5377307.34Culture\n",
       ":   2340226105.01Welfare\n",
       ":   3312838122.19General\n",
       ":   4561159188.01Health\n",
       ":   11563005272.28Protection\n",
       ":   15122694004.68Transport\n",
       ":   16780484870.36\n",
       "\n",
       "\n",
       "\n",
       "\n"
      ],
      "text/plain": [
       "[[1]]\n",
       "       City     Culture     Welfare     General      Health  Protection \n",
       "    5377307  2340226105  3312838122  4561159188 11563005272 15122694005 \n",
       "  Transport \n",
       "16780484870 \n"
      ]
     },
     "metadata": {},
     "output_type": "display_data"
    },
    {
     "name": "stdout",
     "output_type": "stream",
     "text": [
      "Total Benefits for every Organisation Groups: \n"
     ]
    },
    {
     "data": {
      "text/html": [
       "<ol>\n",
       "\t<li><dl class=dl-horizontal>\n",
       "\t<dt>City</dt>\n",
       "\t\t<dd>2002561.63</dd>\n",
       "\t<dt>Culture</dt>\n",
       "\t\t<dd>996304401.5</dd>\n",
       "\t<dt>Welfare</dt>\n",
       "\t\t<dd>1424909746.32</dd>\n",
       "\t<dt>General</dt>\n",
       "\t\t<dd>1792998462.61</dd>\n",
       "\t<dt>Health</dt>\n",
       "\t\t<dd>4141359843.03</dd>\n",
       "\t<dt>Protection</dt>\n",
       "\t\t<dd>4568053417.82</dd>\n",
       "\t<dt>Transport</dt>\n",
       "\t\t<dd>6646512461.98</dd>\n",
       "</dl>\n",
       "</li>\n",
       "</ol>\n"
      ],
      "text/latex": [
       "\\begin{enumerate}\n",
       "\\item \\begin{description*}\n",
       "\\item[City] 2002561.63\n",
       "\\item[Culture] 996304401.5\n",
       "\\item[Welfare] 1424909746.32\n",
       "\\item[General] 1792998462.61\n",
       "\\item[Health] 4141359843.03\n",
       "\\item[Protection] 4568053417.82\n",
       "\\item[Transport] 6646512461.98\n",
       "\\end{description*}\n",
       "\n",
       "\\end{enumerate}\n"
      ],
      "text/markdown": [
       "1. City\n",
       ":   2002561.63Culture\n",
       ":   996304401.5Welfare\n",
       ":   1424909746.32General\n",
       ":   1792998462.61Health\n",
       ":   4141359843.03Protection\n",
       ":   4568053417.82Transport\n",
       ":   6646512461.98\n",
       "\n",
       "\n",
       "\n",
       "\n"
      ],
      "text/plain": [
       "[[1]]\n",
       "      City    Culture    Welfare    General     Health Protection  Transport \n",
       "   2002562  996304402 1424909746 1792998463 4141359843 4568053418 6646512462 \n"
      ]
     },
     "metadata": {},
     "output_type": "display_data"
    }
   ],
   "source": [
    "cat(\"Total Salaries for every Organisation Groups:\",\"\\n\")\n",
    "list.of.salaries <- list(\n",
    "    c(\"Health\"= sum.of.salary.health, \n",
    "      \"Culture\" =sum.of.salary.culture, \n",
    "      \"General\" =sum.of.salary.general, \n",
    "      \"City\" =sum.of.salary.city, \n",
    "      \"Welfare\" =sum.of.salary.welfare, \n",
    "      \"Protection\" =sum.of.salary.protection,\n",
    "      \"Transport\" =sum.of.salary.transport))\n",
    "x <- lapply(list.of.salaries,sort,decreasing=FALSE)\n",
    "x\n",
    "\n",
    "cat(\"Total Benefits for every Organisation Groups:\",\"\\n\")\n",
    "list.of.benefits <- list(\n",
    "    c(\"Health\" = sum.of.benefit.health,\n",
    "     \"Culture\" = sum.of.benefit.culture,\n",
    "     \"General\"= sum.of.benefit.general,\n",
    "      \"City\"= sum.of.benefit.city,\n",
    "      \"Welfare\"= sum.of.benefit.welfare,\n",
    "      \"Protection\"= sum.of.benefit.protection,\n",
    "      \"Transport\"= sum.of.benefit.transport))\n",
    "y <- lapply(list.of.benefits,sort,decreasing=FALSE)\n",
    "y"
   ]
  },
  {
   "cell_type": "markdown",
   "id": "9a18dabc",
   "metadata": {},
   "source": [
    "# Summary\n",
    "\n",
    "From the analysis of different Organisation Groups, it is found that 'Public Works, Transportation & Commerce' group have the highest salaries whereas 'General City Responsibilities' group have the lowest salaries. Also 'Human Welfare & Neighborhood Development' group has the highest percentage of Benefits compared to all the other organisation groups.It is found that the Jobs in 'Public Protection' group are paid more that rest of the other all groups as salaries are higher here.\n"
   ]
  },
  {
   "cell_type": "markdown",
   "id": "04e658fc",
   "metadata": {},
   "source": [
    "\n",
    "\n",
    "\n",
    "# Recommendation\n",
    "\n",
    "After analyzing the data for Organisation Group and the Jobs belonging to it:\n",
    "- The highest paid jobs are from the 'Public Works, Transportation & Commerce' group. It looks reasonable as well since this department caters to the maximum population.\n",
    "- The Benefits to the different groups are not well standardized, so there is an opportunity to revise the benefits as this is an important factor for a better standard of living even after retirement.\n"
   ]
  },
  {
   "cell_type": "code",
   "execution_count": null,
   "id": "3eda104b",
   "metadata": {},
   "outputs": [],
   "source": []
  }
 ],
 "metadata": {
  "kernelspec": {
   "display_name": "R",
   "language": "R",
   "name": "ir"
  },
  "language_info": {
   "codemirror_mode": "r",
   "file_extension": ".r",
   "mimetype": "text/x-r-source",
   "name": "R",
   "pygments_lexer": "r",
   "version": "3.6.1"
  }
 },
 "nbformat": 4,
 "nbformat_minor": 5
}
