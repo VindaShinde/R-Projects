{
  "nbformat": 4,
  "nbformat_minor": 0,
  "metadata": {
    "colab": {
      "name": "PCA_findings_ways.ipynb",
      "provenance": []
    },
    "kernelspec": {
      "name": "ir",
      "display_name": "R"
    },
    "language_info": {
      "name": "R"
    }
  },
  "cells": [
    {
      "cell_type": "markdown",
      "metadata": {
        "id": "4oh6Xk3WrtSd"
      },
      "source": [
        "# Principla Componet Analysis\n",
        "\n",
        "Steps to calculate PCA are explained and shown downn below:"
      ]
    },
    {
      "cell_type": "code",
      "metadata": {
        "id": "ntfA3ZjmJ74j"
      },
      "source": [
        "install.packages(\"GGally\")"
      ],
      "execution_count": null,
      "outputs": []
    },
    {
      "cell_type": "code",
      "metadata": {
        "id": "dlAvHzu4rOsj",
        "colab": {
          "base_uri": "https://localhost:8080/",
          "height": 529
        },
        "outputId": "6173e072-9097-4640-f337-deec2a909e00"
      },
      "source": [
        "head(longley)# use a pre available dataset from R\n",
        "summary(longley)"
      ],
      "execution_count": null,
      "outputs": [
        {
          "output_type": "display_data",
          "data": {
            "text/plain": [
              "     GNP.deflator GNP     Unemployed Armed.Forces Population Year Employed\n",
              "1947 83.0         234.289 235.6      159.0        107.608    1947 60.323  \n",
              "1948 88.5         259.426 232.5      145.6        108.632    1948 61.122  \n",
              "1949 88.2         258.054 368.2      161.6        109.773    1949 60.171  \n",
              "1950 89.5         284.599 335.1      165.0        110.929    1950 61.187  \n",
              "1951 96.2         328.975 209.9      309.9        112.075    1951 63.221  \n",
              "1952 98.1         346.999 193.2      359.4        113.270    1952 63.639  "
            ],
            "text/latex": "A data.frame: 6 × 7\n\\begin{tabular}{r|lllllll}\n  & GNP.deflator & GNP & Unemployed & Armed.Forces & Population & Year & Employed\\\\\n  & <dbl> & <dbl> & <dbl> & <dbl> & <dbl> & <int> & <dbl>\\\\\n\\hline\n\t1947 & 83.0 & 234.289 & 235.6 & 159.0 & 107.608 & 1947 & 60.323\\\\\n\t1948 & 88.5 & 259.426 & 232.5 & 145.6 & 108.632 & 1948 & 61.122\\\\\n\t1949 & 88.2 & 258.054 & 368.2 & 161.6 & 109.773 & 1949 & 60.171\\\\\n\t1950 & 89.5 & 284.599 & 335.1 & 165.0 & 110.929 & 1950 & 61.187\\\\\n\t1951 & 96.2 & 328.975 & 209.9 & 309.9 & 112.075 & 1951 & 63.221\\\\\n\t1952 & 98.1 & 346.999 & 193.2 & 359.4 & 113.270 & 1952 & 63.639\\\\\n\\end{tabular}\n",
            "text/markdown": "\nA data.frame: 6 × 7\n\n| <!--/--> | GNP.deflator &lt;dbl&gt; | GNP &lt;dbl&gt; | Unemployed &lt;dbl&gt; | Armed.Forces &lt;dbl&gt; | Population &lt;dbl&gt; | Year &lt;int&gt; | Employed &lt;dbl&gt; |\n|---|---|---|---|---|---|---|---|\n| 1947 | 83.0 | 234.289 | 235.6 | 159.0 | 107.608 | 1947 | 60.323 |\n| 1948 | 88.5 | 259.426 | 232.5 | 145.6 | 108.632 | 1948 | 61.122 |\n| 1949 | 88.2 | 258.054 | 368.2 | 161.6 | 109.773 | 1949 | 60.171 |\n| 1950 | 89.5 | 284.599 | 335.1 | 165.0 | 110.929 | 1950 | 61.187 |\n| 1951 | 96.2 | 328.975 | 209.9 | 309.9 | 112.075 | 1951 | 63.221 |\n| 1952 | 98.1 | 346.999 | 193.2 | 359.4 | 113.270 | 1952 | 63.639 |\n\n",
            "text/html": [
              "<table class=\"dataframe\">\n",
              "<caption>A data.frame: 6 × 7</caption>\n",
              "<thead>\n",
              "\t<tr><th></th><th scope=col>GNP.deflator</th><th scope=col>GNP</th><th scope=col>Unemployed</th><th scope=col>Armed.Forces</th><th scope=col>Population</th><th scope=col>Year</th><th scope=col>Employed</th></tr>\n",
              "\t<tr><th></th><th scope=col>&lt;dbl&gt;</th><th scope=col>&lt;dbl&gt;</th><th scope=col>&lt;dbl&gt;</th><th scope=col>&lt;dbl&gt;</th><th scope=col>&lt;dbl&gt;</th><th scope=col>&lt;int&gt;</th><th scope=col>&lt;dbl&gt;</th></tr>\n",
              "</thead>\n",
              "<tbody>\n",
              "\t<tr><th scope=row>1947</th><td>83.0</td><td>234.289</td><td>235.6</td><td>159.0</td><td>107.608</td><td>1947</td><td>60.323</td></tr>\n",
              "\t<tr><th scope=row>1948</th><td>88.5</td><td>259.426</td><td>232.5</td><td>145.6</td><td>108.632</td><td>1948</td><td>61.122</td></tr>\n",
              "\t<tr><th scope=row>1949</th><td>88.2</td><td>258.054</td><td>368.2</td><td>161.6</td><td>109.773</td><td>1949</td><td>60.171</td></tr>\n",
              "\t<tr><th scope=row>1950</th><td>89.5</td><td>284.599</td><td>335.1</td><td>165.0</td><td>110.929</td><td>1950</td><td>61.187</td></tr>\n",
              "\t<tr><th scope=row>1951</th><td>96.2</td><td>328.975</td><td>209.9</td><td>309.9</td><td>112.075</td><td>1951</td><td>63.221</td></tr>\n",
              "\t<tr><th scope=row>1952</th><td>98.1</td><td>346.999</td><td>193.2</td><td>359.4</td><td>113.270</td><td>1952</td><td>63.639</td></tr>\n",
              "</tbody>\n",
              "</table>\n"
            ]
          },
          "metadata": {}
        },
        {
          "output_type": "display_data",
          "data": {
            "text/plain": [
              "  GNP.deflator         GNP          Unemployed     Armed.Forces  \n",
              " Min.   : 83.00   Min.   :234.3   Min.   :187.0   Min.   :145.6  \n",
              " 1st Qu.: 94.53   1st Qu.:317.9   1st Qu.:234.8   1st Qu.:229.8  \n",
              " Median :100.60   Median :381.4   Median :314.4   Median :271.8  \n",
              " Mean   :101.68   Mean   :387.7   Mean   :319.3   Mean   :260.7  \n",
              " 3rd Qu.:111.25   3rd Qu.:454.1   3rd Qu.:384.2   3rd Qu.:306.1  \n",
              " Max.   :116.90   Max.   :554.9   Max.   :480.6   Max.   :359.4  \n",
              "   Population         Year         Employed    \n",
              " Min.   :107.6   Min.   :1947   Min.   :60.17  \n",
              " 1st Qu.:111.8   1st Qu.:1951   1st Qu.:62.71  \n",
              " Median :116.8   Median :1954   Median :65.50  \n",
              " Mean   :117.4   Mean   :1954   Mean   :65.32  \n",
              " 3rd Qu.:122.3   3rd Qu.:1958   3rd Qu.:68.29  \n",
              " Max.   :130.1   Max.   :1962   Max.   :70.55  "
            ]
          },
          "metadata": {}
        }
      ]
    },
    {
      "cell_type": "code",
      "metadata": {
        "colab": {
          "base_uri": "https://localhost:8080/",
          "height": 286
        },
        "id": "NK1GSjf_UPBb",
        "outputId": "f41060c2-78be-49cc-f789-acde12247902"
      },
      "source": [
        "data_set <- longley[,-c(6,7)] #keeping only required columns also knows as features\n",
        "head(data_set)\n"
      ],
      "execution_count": null,
      "outputs": [
        {
          "output_type": "display_data",
          "data": {
            "text/plain": [
              "     GNP.deflator GNP     Unemployed Armed.Forces Population\n",
              "1947 83.0         234.289 235.6      159.0        107.608   \n",
              "1948 88.5         259.426 232.5      145.6        108.632   \n",
              "1949 88.2         258.054 368.2      161.6        109.773   \n",
              "1950 89.5         284.599 335.1      165.0        110.929   \n",
              "1951 96.2         328.975 209.9      309.9        112.075   \n",
              "1952 98.1         346.999 193.2      359.4        113.270   "
            ],
            "text/latex": "A data.frame: 6 × 5\n\\begin{tabular}{r|lllll}\n  & GNP.deflator & GNP & Unemployed & Armed.Forces & Population\\\\\n  & <dbl> & <dbl> & <dbl> & <dbl> & <dbl>\\\\\n\\hline\n\t1947 & 83.0 & 234.289 & 235.6 & 159.0 & 107.608\\\\\n\t1948 & 88.5 & 259.426 & 232.5 & 145.6 & 108.632\\\\\n\t1949 & 88.2 & 258.054 & 368.2 & 161.6 & 109.773\\\\\n\t1950 & 89.5 & 284.599 & 335.1 & 165.0 & 110.929\\\\\n\t1951 & 96.2 & 328.975 & 209.9 & 309.9 & 112.075\\\\\n\t1952 & 98.1 & 346.999 & 193.2 & 359.4 & 113.270\\\\\n\\end{tabular}\n",
            "text/markdown": "\nA data.frame: 6 × 5\n\n| <!--/--> | GNP.deflator &lt;dbl&gt; | GNP &lt;dbl&gt; | Unemployed &lt;dbl&gt; | Armed.Forces &lt;dbl&gt; | Population &lt;dbl&gt; |\n|---|---|---|---|---|---|\n| 1947 | 83.0 | 234.289 | 235.6 | 159.0 | 107.608 |\n| 1948 | 88.5 | 259.426 | 232.5 | 145.6 | 108.632 |\n| 1949 | 88.2 | 258.054 | 368.2 | 161.6 | 109.773 |\n| 1950 | 89.5 | 284.599 | 335.1 | 165.0 | 110.929 |\n| 1951 | 96.2 | 328.975 | 209.9 | 309.9 | 112.075 |\n| 1952 | 98.1 | 346.999 | 193.2 | 359.4 | 113.270 |\n\n",
            "text/html": [
              "<table class=\"dataframe\">\n",
              "<caption>A data.frame: 6 × 5</caption>\n",
              "<thead>\n",
              "\t<tr><th></th><th scope=col>GNP.deflator</th><th scope=col>GNP</th><th scope=col>Unemployed</th><th scope=col>Armed.Forces</th><th scope=col>Population</th></tr>\n",
              "\t<tr><th></th><th scope=col>&lt;dbl&gt;</th><th scope=col>&lt;dbl&gt;</th><th scope=col>&lt;dbl&gt;</th><th scope=col>&lt;dbl&gt;</th><th scope=col>&lt;dbl&gt;</th></tr>\n",
              "</thead>\n",
              "<tbody>\n",
              "\t<tr><th scope=row>1947</th><td>83.0</td><td>234.289</td><td>235.6</td><td>159.0</td><td>107.608</td></tr>\n",
              "\t<tr><th scope=row>1948</th><td>88.5</td><td>259.426</td><td>232.5</td><td>145.6</td><td>108.632</td></tr>\n",
              "\t<tr><th scope=row>1949</th><td>88.2</td><td>258.054</td><td>368.2</td><td>161.6</td><td>109.773</td></tr>\n",
              "\t<tr><th scope=row>1950</th><td>89.5</td><td>284.599</td><td>335.1</td><td>165.0</td><td>110.929</td></tr>\n",
              "\t<tr><th scope=row>1951</th><td>96.2</td><td>328.975</td><td>209.9</td><td>309.9</td><td>112.075</td></tr>\n",
              "\t<tr><th scope=row>1952</th><td>98.1</td><td>346.999</td><td>193.2</td><td>359.4</td><td>113.270</td></tr>\n",
              "</tbody>\n",
              "</table>\n"
            ]
          },
          "metadata": {}
        }
      ]
    },
    {
      "cell_type": "code",
      "metadata": {
        "id": "43vU3LiGrS9I",
        "colab": {
          "base_uri": "https://localhost:8080/",
          "height": 437
        },
        "outputId": "27789312-8b92-47e7-f877-743f030caae4"
      },
      "source": [
        "pairs(data_set) # Just to check the relationship withing different features"
      ],
      "execution_count": null,
      "outputs": [
        {
          "output_type": "display_data",
          "data": {
            "image/png": "[encoded data removed]",
            "text/plain": [
              "plot without title"
            ]
          },
          "metadata": {
            "image/png": {
              "width": 420,
              "height": 420
            }
          }
        }
      ]
    },
    {
      "cell_type": "code",
      "metadata": {
        "colab": {
          "base_uri": "https://localhost:8080/"
        },
        "id": "xMDVvs9xryzO",
        "outputId": "bfa7f497-48ae-4815-b1cc-f88b85d59f09"
      },
      "source": [
        "install.packages(\"GGally\")"
      ],
      "execution_count": null,
      "outputs": [
        {
          "output_type": "stream",
          "name": "stderr",
          "text": [
            "Installing package into ‘/usr/local/lib/R/site-library’\n",
            "(as ‘lib’ is unspecified)\n",
            "\n",
            "also installing the dependencies ‘plyr’, ‘reshape’\n",
            "\n",
            "\n"
          ]
        }
      ]
    },
    {
      "cell_type": "code",
      "metadata": {
        "id": "JPvYhadnMNUO"
      },
      "source": [
        ""
      ],
      "execution_count": null,
      "outputs": []
    },
    {
      "cell_type": "markdown",
      "metadata": {
        "id": "siLJrxb2M9ct"
      },
      "source": [
        "# To find PCA in detailed without direct python provided direct PCA calculating functions"
      ]
    },
    {
      "cell_type": "code",
      "metadata": {
        "colab": {
          "base_uri": "https://localhost:8080/",
          "height": 536
        },
        "id": "sdmjTFFnNHom",
        "outputId": "e4e07ed1-3198-419b-9484-d162640dd273"
      },
      "source": [
        "data_matrix = matrix(c(data_set$GNP.deflator,data_set$GNP,data_set$Unemployed,data_set$Armed.Forces,data_set$Population),ncol = 5)\n",
        "data_matrix\n",
        "#t(data_matrix)"
      ],
      "execution_count": null,
      "outputs": [
        {
          "output_type": "display_data",
          "data": {
            "text/plain": [
              "      [,1]  [,2]    [,3]  [,4]  [,5]   \n",
              " [1,]  83.0 234.289 235.6 159.0 107.608\n",
              " [2,]  88.5 259.426 232.5 145.6 108.632\n",
              " [3,]  88.2 258.054 368.2 161.6 109.773\n",
              " [4,]  89.5 284.599 335.1 165.0 110.929\n",
              " [5,]  96.2 328.975 209.9 309.9 112.075\n",
              " [6,]  98.1 346.999 193.2 359.4 113.270\n",
              " [7,]  99.0 365.385 187.0 354.7 115.094\n",
              " [8,] 100.0 363.112 357.8 335.0 116.219\n",
              " [9,] 101.2 397.469 290.4 304.8 117.388\n",
              "[10,] 104.6 419.180 282.2 285.7 118.734\n",
              "[11,] 108.4 442.769 293.6 279.8 120.445\n",
              "[12,] 110.8 444.546 468.1 263.7 121.950\n",
              "[13,] 112.6 482.704 381.3 255.2 123.366\n",
              "[14,] 114.2 502.601 393.1 251.4 125.368\n",
              "[15,] 115.7 518.173 480.6 257.2 127.852\n",
              "[16,] 116.9 554.894 400.7 282.7 130.081"
            ],
            "text/latex": "A matrix: 16 × 5 of type dbl\n\\begin{tabular}{lllll}\n\t  83.0 & 234.289 & 235.6 & 159.0 & 107.608\\\\\n\t  88.5 & 259.426 & 232.5 & 145.6 & 108.632\\\\\n\t  88.2 & 258.054 & 368.2 & 161.6 & 109.773\\\\\n\t  89.5 & 284.599 & 335.1 & 165.0 & 110.929\\\\\n\t  96.2 & 328.975 & 209.9 & 309.9 & 112.075\\\\\n\t  98.1 & 346.999 & 193.2 & 359.4 & 113.270\\\\\n\t  99.0 & 365.385 & 187.0 & 354.7 & 115.094\\\\\n\t 100.0 & 363.112 & 357.8 & 335.0 & 116.219\\\\\n\t 101.2 & 397.469 & 290.4 & 304.8 & 117.388\\\\\n\t 104.6 & 419.180 & 282.2 & 285.7 & 118.734\\\\\n\t 108.4 & 442.769 & 293.6 & 279.8 & 120.445\\\\\n\t 110.8 & 444.546 & 468.1 & 263.7 & 121.950\\\\\n\t 112.6 & 482.704 & 381.3 & 255.2 & 123.366\\\\\n\t 114.2 & 502.601 & 393.1 & 251.4 & 125.368\\\\\n\t 115.7 & 518.173 & 480.6 & 257.2 & 127.852\\\\\n\t 116.9 & 554.894 & 400.7 & 282.7 & 130.081\\\\\n\\end{tabular}\n",
            "text/markdown": "\nA matrix: 16 × 5 of type dbl\n\n|  83.0 | 234.289 | 235.6 | 159.0 | 107.608 |\n|  88.5 | 259.426 | 232.5 | 145.6 | 108.632 |\n|  88.2 | 258.054 | 368.2 | 161.6 | 109.773 |\n|  89.5 | 284.599 | 335.1 | 165.0 | 110.929 |\n|  96.2 | 328.975 | 209.9 | 309.9 | 112.075 |\n|  98.1 | 346.999 | 193.2 | 359.4 | 113.270 |\n|  99.0 | 365.385 | 187.0 | 354.7 | 115.094 |\n| 100.0 | 363.112 | 357.8 | 335.0 | 116.219 |\n| 101.2 | 397.469 | 290.4 | 304.8 | 117.388 |\n| 104.6 | 419.180 | 282.2 | 285.7 | 118.734 |\n| 108.4 | 442.769 | 293.6 | 279.8 | 120.445 |\n| 110.8 | 444.546 | 468.1 | 263.7 | 121.950 |\n| 112.6 | 482.704 | 381.3 | 255.2 | 123.366 |\n| 114.2 | 502.601 | 393.1 | 251.4 | 125.368 |\n| 115.7 | 518.173 | 480.6 | 257.2 | 127.852 |\n| 116.9 | 554.894 | 400.7 | 282.7 | 130.081 |\n\n",
            "text/html": [
              "<table class=\"dataframe\">\n",
              "<caption>A matrix: 16 × 5 of type dbl</caption>\n",
              "<tbody>\n",
              "\t<tr><td> 83.0</td><td>234.289</td><td>235.6</td><td>159.0</td><td>107.608</td></tr>\n",
              "\t<tr><td> 88.5</td><td>259.426</td><td>232.5</td><td>145.6</td><td>108.632</td></tr>\n",
              "\t<tr><td> 88.2</td><td>258.054</td><td>368.2</td><td>161.6</td><td>109.773</td></tr>\n",
              "\t<tr><td> 89.5</td><td>284.599</td><td>335.1</td><td>165.0</td><td>110.929</td></tr>\n",
              "\t<tr><td> 96.2</td><td>328.975</td><td>209.9</td><td>309.9</td><td>112.075</td></tr>\n",
              "\t<tr><td> 98.1</td><td>346.999</td><td>193.2</td><td>359.4</td><td>113.270</td></tr>\n",
              "\t<tr><td> 99.0</td><td>365.385</td><td>187.0</td><td>354.7</td><td>115.094</td></tr>\n",
              "\t<tr><td>100.0</td><td>363.112</td><td>357.8</td><td>335.0</td><td>116.219</td></tr>\n",
              "\t<tr><td>101.2</td><td>397.469</td><td>290.4</td><td>304.8</td><td>117.388</td></tr>\n",
              "\t<tr><td>104.6</td><td>419.180</td><td>282.2</td><td>285.7</td><td>118.734</td></tr>\n",
              "\t<tr><td>108.4</td><td>442.769</td><td>293.6</td><td>279.8</td><td>120.445</td></tr>\n",
              "\t<tr><td>110.8</td><td>444.546</td><td>468.1</td><td>263.7</td><td>121.950</td></tr>\n",
              "\t<tr><td>112.6</td><td>482.704</td><td>381.3</td><td>255.2</td><td>123.366</td></tr>\n",
              "\t<tr><td>114.2</td><td>502.601</td><td>393.1</td><td>251.4</td><td>125.368</td></tr>\n",
              "\t<tr><td>115.7</td><td>518.173</td><td>480.6</td><td>257.2</td><td>127.852</td></tr>\n",
              "\t<tr><td>116.9</td><td>554.894</td><td>400.7</td><td>282.7</td><td>130.081</td></tr>\n",
              "</tbody>\n",
              "</table>\n"
            ]
          },
          "metadata": {}
        }
      ]
    },
    {
      "cell_type": "markdown",
      "metadata": {
        "id": "Q_G9HBXUPbok"
      },
      "source": [
        "### Step 1 - Center the data points (subtract the mean of each attribute from the corresponding coordinate.)"
      ]
    },
    {
      "cell_type": "code",
      "metadata": {
        "colab": {
          "base_uri": "https://localhost:8080/",
          "height": 35
        },
        "id": "GtgBpQogNpAk",
        "outputId": "14ba9e91-fee5-4bff-c50c-0dd228631ae4"
      },
      "source": [
        "means_of_features = colMeans(data_matrix)\n",
        "means_of_features"
      ],
      "execution_count": null,
      "outputs": [
        {
          "output_type": "display_data",
          "data": {
            "text/plain": [
              "[1] 101.6813 387.6984 319.3313 260.6687 117.4240"
            ],
            "text/latex": "\\begin{enumerate*}\n\\item 101.68125\n\\item 387.6984375\n\\item 319.33125\n\\item 260.66875\n\\item 117.424\n\\end{enumerate*}\n",
            "text/markdown": "1. 101.68125\n2. 387.6984375\n3. 319.33125\n4. 260.66875\n5. 117.424\n\n\n",
            "text/html": [
              "<style>\n",
              ".list-inline {list-style: none; margin:0; padding: 0}\n",
              ".list-inline>li {display: inline-block}\n",
              ".list-inline>li:not(:last-child)::after {content: \"\\00b7\"; padding: 0 .5ex}\n",
              "</style>\n",
              "<ol class=list-inline><li>101.68125</li><li>387.6984375</li><li>319.33125</li><li>260.66875</li><li>117.424</li></ol>\n"
            ]
          },
          "metadata": {}
        }
      ]
    },
    {
      "cell_type": "code",
      "metadata": {
        "colab": {
          "base_uri": "https://localhost:8080/",
          "height": 536
        },
        "id": "bwPHlnRXN3dU",
        "outputId": "98b0a725-64da-446a-b6ac-c2a01f0e6402"
      },
      "source": [
        "mean_deviation_form = data_matrix - means_of_features #OPTION 1\n",
        "mean_deviation_form"
      ],
      "execution_count": null,
      "outputs": [
        {
          "output_type": "display_data",
          "data": {
            "text/plain": [
              "      [,1]       [,2]       [,3]       [,4]       [,5]      \n",
              " [1,]  -18.68125 -153.40944  -83.73125 -101.66875   -9.81600\n",
              " [2,] -299.19844  -59.90525  -28.16875   28.17600    6.95075\n",
              " [3,] -231.13125   -2.61475  250.77600   59.91875 -277.92544\n",
              " [4,] -171.16875  167.17500  233.41875 -222.69844 -208.40225\n",
              " [5,]  -21.22400  227.29375 -177.79844   -9.43125 -148.59375\n",
              " [6,]   -3.58125  -40.69944 -126.13125   98.73125   -4.15400\n",
              " [7,] -288.69844   46.05375  -73.66875  237.27600   13.41275\n",
              " [8,] -219.33125  102.44325  240.37600  233.31875 -271.47944\n",
              " [9,] -159.46875  280.04500  188.71875  -82.89844 -201.94325\n",
              "[10,]  -12.82400  317.49875 -105.49844  -33.63125 -141.93475\n",
              "[11,]    6.71875   55.07056  -25.73125   19.13125    3.02100\n",
              "[12,] -276.89844  125.21475  207.43125  146.27600   20.26875\n",
              "[13,] -206.73125  222.03525  263.87600  153.51875 -264.33244\n",
              "[14,] -146.46875  385.17700  291.41875 -136.29844 -193.96325\n",
              "[15,]   -1.72400  416.49175   92.90156  -62.13125 -132.81675\n",
              "[16,]   15.21875  167.19556   81.36875   22.03125   12.65700"
            ],
            "text/latex": "A matrix: 16 × 5 of type dbl\n\\begin{tabular}{lllll}\n\t  -18.68125 & -153.40944 &  -83.73125 & -101.66875 &   -9.81600\\\\\n\t -299.19844 &  -59.90525 &  -28.16875 &   28.17600 &    6.95075\\\\\n\t -231.13125 &   -2.61475 &  250.77600 &   59.91875 & -277.92544\\\\\n\t -171.16875 &  167.17500 &  233.41875 & -222.69844 & -208.40225\\\\\n\t  -21.22400 &  227.29375 & -177.79844 &   -9.43125 & -148.59375\\\\\n\t   -3.58125 &  -40.69944 & -126.13125 &   98.73125 &   -4.15400\\\\\n\t -288.69844 &   46.05375 &  -73.66875 &  237.27600 &   13.41275\\\\\n\t -219.33125 &  102.44325 &  240.37600 &  233.31875 & -271.47944\\\\\n\t -159.46875 &  280.04500 &  188.71875 &  -82.89844 & -201.94325\\\\\n\t  -12.82400 &  317.49875 & -105.49844 &  -33.63125 & -141.93475\\\\\n\t    6.71875 &   55.07056 &  -25.73125 &   19.13125 &    3.02100\\\\\n\t -276.89844 &  125.21475 &  207.43125 &  146.27600 &   20.26875\\\\\n\t -206.73125 &  222.03525 &  263.87600 &  153.51875 & -264.33244\\\\\n\t -146.46875 &  385.17700 &  291.41875 & -136.29844 & -193.96325\\\\\n\t   -1.72400 &  416.49175 &   92.90156 &  -62.13125 & -132.81675\\\\\n\t   15.21875 &  167.19556 &   81.36875 &   22.03125 &   12.65700\\\\\n\\end{tabular}\n",
            "text/markdown": "\nA matrix: 16 × 5 of type dbl\n\n|  -18.68125 | -153.40944 |  -83.73125 | -101.66875 |   -9.81600 |\n| -299.19844 |  -59.90525 |  -28.16875 |   28.17600 |    6.95075 |\n| -231.13125 |   -2.61475 |  250.77600 |   59.91875 | -277.92544 |\n| -171.16875 |  167.17500 |  233.41875 | -222.69844 | -208.40225 |\n|  -21.22400 |  227.29375 | -177.79844 |   -9.43125 | -148.59375 |\n|   -3.58125 |  -40.69944 | -126.13125 |   98.73125 |   -4.15400 |\n| -288.69844 |   46.05375 |  -73.66875 |  237.27600 |   13.41275 |\n| -219.33125 |  102.44325 |  240.37600 |  233.31875 | -271.47944 |\n| -159.46875 |  280.04500 |  188.71875 |  -82.89844 | -201.94325 |\n|  -12.82400 |  317.49875 | -105.49844 |  -33.63125 | -141.93475 |\n|    6.71875 |   55.07056 |  -25.73125 |   19.13125 |    3.02100 |\n| -276.89844 |  125.21475 |  207.43125 |  146.27600 |   20.26875 |\n| -206.73125 |  222.03525 |  263.87600 |  153.51875 | -264.33244 |\n| -146.46875 |  385.17700 |  291.41875 | -136.29844 | -193.96325 |\n|   -1.72400 |  416.49175 |   92.90156 |  -62.13125 | -132.81675 |\n|   15.21875 |  167.19556 |   81.36875 |   22.03125 |   12.65700 |\n\n",
            "text/html": [
              "<table class=\"dataframe\">\n",
              "<caption>A matrix: 16 × 5 of type dbl</caption>\n",
              "<tbody>\n",
              "\t<tr><td> -18.68125</td><td>-153.40944</td><td> -83.73125</td><td>-101.66875</td><td>  -9.81600</td></tr>\n",
              "\t<tr><td>-299.19844</td><td> -59.90525</td><td> -28.16875</td><td>  28.17600</td><td>   6.95075</td></tr>\n",
              "\t<tr><td>-231.13125</td><td>  -2.61475</td><td> 250.77600</td><td>  59.91875</td><td>-277.92544</td></tr>\n",
              "\t<tr><td>-171.16875</td><td> 167.17500</td><td> 233.41875</td><td>-222.69844</td><td>-208.40225</td></tr>\n",
              "\t<tr><td> -21.22400</td><td> 227.29375</td><td>-177.79844</td><td>  -9.43125</td><td>-148.59375</td></tr>\n",
              "\t<tr><td>  -3.58125</td><td> -40.69944</td><td>-126.13125</td><td>  98.73125</td><td>  -4.15400</td></tr>\n",
              "\t<tr><td>-288.69844</td><td>  46.05375</td><td> -73.66875</td><td> 237.27600</td><td>  13.41275</td></tr>\n",
              "\t<tr><td>-219.33125</td><td> 102.44325</td><td> 240.37600</td><td> 233.31875</td><td>-271.47944</td></tr>\n",
              "\t<tr><td>-159.46875</td><td> 280.04500</td><td> 188.71875</td><td> -82.89844</td><td>-201.94325</td></tr>\n",
              "\t<tr><td> -12.82400</td><td> 317.49875</td><td>-105.49844</td><td> -33.63125</td><td>-141.93475</td></tr>\n",
              "\t<tr><td>   6.71875</td><td>  55.07056</td><td> -25.73125</td><td>  19.13125</td><td>   3.02100</td></tr>\n",
              "\t<tr><td>-276.89844</td><td> 125.21475</td><td> 207.43125</td><td> 146.27600</td><td>  20.26875</td></tr>\n",
              "\t<tr><td>-206.73125</td><td> 222.03525</td><td> 263.87600</td><td> 153.51875</td><td>-264.33244</td></tr>\n",
              "\t<tr><td>-146.46875</td><td> 385.17700</td><td> 291.41875</td><td>-136.29844</td><td>-193.96325</td></tr>\n",
              "\t<tr><td>  -1.72400</td><td> 416.49175</td><td>  92.90156</td><td> -62.13125</td><td>-132.81675</td></tr>\n",
              "\t<tr><td>  15.21875</td><td> 167.19556</td><td>  81.36875</td><td>  22.03125</td><td>  12.65700</td></tr>\n",
              "</tbody>\n",
              "</table>\n"
            ]
          },
          "metadata": {}
        }
      ]
    },
    {
      "cell_type": "code",
      "metadata": {
        "colab": {
          "base_uri": "https://localhost:8080/",
          "height": 571
        },
        "id": "ejevFQ5dRf7b",
        "outputId": "000dfc4c-bdc5-473e-ed86-883876d5f71c"
      },
      "source": [
        "#OPTION 2 - to calculate means deviation matrix directly\n",
        "mean_deviation_form2 = sweep(data_matrix,1,means_of_features);\n",
        "mean_deviation_form2"
      ],
      "execution_count": null,
      "outputs": [
        {
          "output_type": "stream",
          "name": "stderr",
          "text": [
            "Warning message in sweep(data_matrix, 1, means_of_features):\n",
            "“STATS does not recycle exactly across MARGIN”\n"
          ]
        },
        {
          "output_type": "display_data",
          "data": {
            "text/plain": [
              "      [,1]       [,2]       [,3]       [,4]       [,5]      \n",
              " [1,]  -18.68125 -153.40944  -83.73125 -101.66875   -9.81600\n",
              " [2,] -299.19844  -59.90525  -28.16875   28.17600    6.95075\n",
              " [3,] -231.13125   -2.61475  250.77600   59.91875 -277.92544\n",
              " [4,] -171.16875  167.17500  233.41875 -222.69844 -208.40225\n",
              " [5,]  -21.22400  227.29375 -177.79844   -9.43125 -148.59375\n",
              " [6,]   -3.58125  -40.69944 -126.13125   98.73125   -4.15400\n",
              " [7,] -288.69844   46.05375  -73.66875  237.27600   13.41275\n",
              " [8,] -219.33125  102.44325  240.37600  233.31875 -271.47944\n",
              " [9,] -159.46875  280.04500  188.71875  -82.89844 -201.94325\n",
              "[10,]  -12.82400  317.49875 -105.49844  -33.63125 -141.93475\n",
              "[11,]    6.71875   55.07056  -25.73125   19.13125    3.02100\n",
              "[12,] -276.89844  125.21475  207.43125  146.27600   20.26875\n",
              "[13,] -206.73125  222.03525  263.87600  153.51875 -264.33244\n",
              "[14,] -146.46875  385.17700  291.41875 -136.29844 -193.96325\n",
              "[15,]   -1.72400  416.49175   92.90156  -62.13125 -132.81675\n",
              "[16,]   15.21875  167.19556   81.36875   22.03125   12.65700"
            ],
            "text/latex": "A matrix: 16 × 5 of type dbl\n\\begin{tabular}{lllll}\n\t  -18.68125 & -153.40944 &  -83.73125 & -101.66875 &   -9.81600\\\\\n\t -299.19844 &  -59.90525 &  -28.16875 &   28.17600 &    6.95075\\\\\n\t -231.13125 &   -2.61475 &  250.77600 &   59.91875 & -277.92544\\\\\n\t -171.16875 &  167.17500 &  233.41875 & -222.69844 & -208.40225\\\\\n\t  -21.22400 &  227.29375 & -177.79844 &   -9.43125 & -148.59375\\\\\n\t   -3.58125 &  -40.69944 & -126.13125 &   98.73125 &   -4.15400\\\\\n\t -288.69844 &   46.05375 &  -73.66875 &  237.27600 &   13.41275\\\\\n\t -219.33125 &  102.44325 &  240.37600 &  233.31875 & -271.47944\\\\\n\t -159.46875 &  280.04500 &  188.71875 &  -82.89844 & -201.94325\\\\\n\t  -12.82400 &  317.49875 & -105.49844 &  -33.63125 & -141.93475\\\\\n\t    6.71875 &   55.07056 &  -25.73125 &   19.13125 &    3.02100\\\\\n\t -276.89844 &  125.21475 &  207.43125 &  146.27600 &   20.26875\\\\\n\t -206.73125 &  222.03525 &  263.87600 &  153.51875 & -264.33244\\\\\n\t -146.46875 &  385.17700 &  291.41875 & -136.29844 & -193.96325\\\\\n\t   -1.72400 &  416.49175 &   92.90156 &  -62.13125 & -132.81675\\\\\n\t   15.21875 &  167.19556 &   81.36875 &   22.03125 &   12.65700\\\\\n\\end{tabular}\n",
            "text/markdown": "\nA matrix: 16 × 5 of type dbl\n\n|  -18.68125 | -153.40944 |  -83.73125 | -101.66875 |   -9.81600 |\n| -299.19844 |  -59.90525 |  -28.16875 |   28.17600 |    6.95075 |\n| -231.13125 |   -2.61475 |  250.77600 |   59.91875 | -277.92544 |\n| -171.16875 |  167.17500 |  233.41875 | -222.69844 | -208.40225 |\n|  -21.22400 |  227.29375 | -177.79844 |   -9.43125 | -148.59375 |\n|   -3.58125 |  -40.69944 | -126.13125 |   98.73125 |   -4.15400 |\n| -288.69844 |   46.05375 |  -73.66875 |  237.27600 |   13.41275 |\n| -219.33125 |  102.44325 |  240.37600 |  233.31875 | -271.47944 |\n| -159.46875 |  280.04500 |  188.71875 |  -82.89844 | -201.94325 |\n|  -12.82400 |  317.49875 | -105.49844 |  -33.63125 | -141.93475 |\n|    6.71875 |   55.07056 |  -25.73125 |   19.13125 |    3.02100 |\n| -276.89844 |  125.21475 |  207.43125 |  146.27600 |   20.26875 |\n| -206.73125 |  222.03525 |  263.87600 |  153.51875 | -264.33244 |\n| -146.46875 |  385.17700 |  291.41875 | -136.29844 | -193.96325 |\n|   -1.72400 |  416.49175 |   92.90156 |  -62.13125 | -132.81675 |\n|   15.21875 |  167.19556 |   81.36875 |   22.03125 |   12.65700 |\n\n",
            "text/html": [
              "<table class=\"dataframe\">\n",
              "<caption>A matrix: 16 × 5 of type dbl</caption>\n",
              "<tbody>\n",
              "\t<tr><td> -18.68125</td><td>-153.40944</td><td> -83.73125</td><td>-101.66875</td><td>  -9.81600</td></tr>\n",
              "\t<tr><td>-299.19844</td><td> -59.90525</td><td> -28.16875</td><td>  28.17600</td><td>   6.95075</td></tr>\n",
              "\t<tr><td>-231.13125</td><td>  -2.61475</td><td> 250.77600</td><td>  59.91875</td><td>-277.92544</td></tr>\n",
              "\t<tr><td>-171.16875</td><td> 167.17500</td><td> 233.41875</td><td>-222.69844</td><td>-208.40225</td></tr>\n",
              "\t<tr><td> -21.22400</td><td> 227.29375</td><td>-177.79844</td><td>  -9.43125</td><td>-148.59375</td></tr>\n",
              "\t<tr><td>  -3.58125</td><td> -40.69944</td><td>-126.13125</td><td>  98.73125</td><td>  -4.15400</td></tr>\n",
              "\t<tr><td>-288.69844</td><td>  46.05375</td><td> -73.66875</td><td> 237.27600</td><td>  13.41275</td></tr>\n",
              "\t<tr><td>-219.33125</td><td> 102.44325</td><td> 240.37600</td><td> 233.31875</td><td>-271.47944</td></tr>\n",
              "\t<tr><td>-159.46875</td><td> 280.04500</td><td> 188.71875</td><td> -82.89844</td><td>-201.94325</td></tr>\n",
              "\t<tr><td> -12.82400</td><td> 317.49875</td><td>-105.49844</td><td> -33.63125</td><td>-141.93475</td></tr>\n",
              "\t<tr><td>   6.71875</td><td>  55.07056</td><td> -25.73125</td><td>  19.13125</td><td>   3.02100</td></tr>\n",
              "\t<tr><td>-276.89844</td><td> 125.21475</td><td> 207.43125</td><td> 146.27600</td><td>  20.26875</td></tr>\n",
              "\t<tr><td>-206.73125</td><td> 222.03525</td><td> 263.87600</td><td> 153.51875</td><td>-264.33244</td></tr>\n",
              "\t<tr><td>-146.46875</td><td> 385.17700</td><td> 291.41875</td><td>-136.29844</td><td>-193.96325</td></tr>\n",
              "\t<tr><td>  -1.72400</td><td> 416.49175</td><td>  92.90156</td><td> -62.13125</td><td>-132.81675</td></tr>\n",
              "\t<tr><td>  15.21875</td><td> 167.19556</td><td>  81.36875</td><td>  22.03125</td><td>  12.65700</td></tr>\n",
              "</tbody>\n",
              "</table>\n"
            ]
          },
          "metadata": {}
        }
      ]
    },
    {
      "cell_type": "markdown",
      "metadata": {
        "id": "4jvy7ZaAQ9Mt"
      },
      "source": [
        "### Step2 - Covariance matrix\n",
        "It main diagonal shows the main varience of data. The covariance matrix is symmetric."
      ]
    },
    {
      "cell_type": "code",
      "metadata": {
        "colab": {
          "base_uri": "https://localhost:8080/",
          "height": 191
        },
        "id": "VHGPf3-BSMrq",
        "outputId": "c867e77b-dec5-4aff-f0b7-f8f89ee257a7"
      },
      "source": [
        "# Sample covarinec matrix \n",
        "x = t(mean_deviation_form2) %*% mean_deviation_form2  #use the transpose matrix 1st in multiplication\n",
        "Sample_cov_M = 1/(ncol(mean_deviation_form2)-1) * x\n",
        "Sample_cov_M\n"
      ],
      "execution_count": null,
      "outputs": [
        {
          "output_type": "display_data",
          "data": {
            "text/plain": [
              "     [,1]      [,2]      [,3]       [,4]       [,5]      \n",
              "[1,] 117810.87 -57796.92 -74415.405 -35036.258  67190.473\n",
              "[2,] -57796.92 179508.68  76474.299 -12484.896 -94834.383\n",
              "[3,] -74415.40  76474.30 124036.978   3288.896 -78402.981\n",
              "[4,] -35036.26 -12484.90   3288.896  65286.611  -2322.754\n",
              "[5,]  67190.47 -94834.38 -78402.981  -2322.754 100859.356"
            ],
            "text/latex": "A matrix: 5 × 5 of type dbl\n\\begin{tabular}{lllll}\n\t 117810.87 & -57796.92 & -74415.405 & -35036.258 &  67190.473\\\\\n\t -57796.92 & 179508.68 &  76474.299 & -12484.896 & -94834.383\\\\\n\t -74415.40 &  76474.30 & 124036.978 &   3288.896 & -78402.981\\\\\n\t -35036.26 & -12484.90 &   3288.896 &  65286.611 &  -2322.754\\\\\n\t  67190.47 & -94834.38 & -78402.981 &  -2322.754 & 100859.356\\\\\n\\end{tabular}\n",
            "text/markdown": "\nA matrix: 5 × 5 of type dbl\n\n| 117810.87 | -57796.92 | -74415.405 | -35036.258 |  67190.473 |\n| -57796.92 | 179508.68 |  76474.299 | -12484.896 | -94834.383 |\n| -74415.40 |  76474.30 | 124036.978 |   3288.896 | -78402.981 |\n| -35036.26 | -12484.90 |   3288.896 |  65286.611 |  -2322.754 |\n|  67190.47 | -94834.38 | -78402.981 |  -2322.754 | 100859.356 |\n\n",
            "text/html": [
              "<table class=\"dataframe\">\n",
              "<caption>A matrix: 5 × 5 of type dbl</caption>\n",
              "<tbody>\n",
              "\t<tr><td>117810.87</td><td>-57796.92</td><td>-74415.405</td><td>-35036.258</td><td> 67190.473</td></tr>\n",
              "\t<tr><td>-57796.92</td><td>179508.68</td><td> 76474.299</td><td>-12484.896</td><td>-94834.383</td></tr>\n",
              "\t<tr><td>-74415.40</td><td> 76474.30</td><td>124036.978</td><td>  3288.896</td><td>-78402.981</td></tr>\n",
              "\t<tr><td>-35036.26</td><td>-12484.90</td><td>  3288.896</td><td> 65286.611</td><td> -2322.754</td></tr>\n",
              "\t<tr><td> 67190.47</td><td>-94834.38</td><td>-78402.981</td><td> -2322.754</td><td>100859.356</td></tr>\n",
              "</tbody>\n",
              "</table>\n"
            ]
          },
          "metadata": {}
        }
      ]
    },
    {
      "cell_type": "markdown",
      "metadata": {
        "id": "DBhF-IBqWGWH"
      },
      "source": [
        "### Step 3 - Eigen values and vectors"
      ]
    },
    {
      "cell_type": "code",
      "metadata": {
        "colab": {
          "base_uri": "https://localhost:8080/",
          "height": 208
        },
        "id": "V2fT1xPFR2bu",
        "outputId": "ab8105af-e3fa-4eaa-9bb0-0983ea723119"
      },
      "source": [
        "eigen(Sample_cov_M)"
      ],
      "execution_count": null,
      "outputs": [
        {
          "output_type": "display_data",
          "data": {
            "text/plain": [
              "eigen() decomposition\n",
              "$values\n",
              "[1] 359641.36 114603.35  59698.77  29154.75  24404.28\n",
              "\n",
              "$vectors\n",
              "           [,1]        [,2]        [,3]      [,4]       [,5]\n",
              "[1,]  0.4288160  0.57008089  0.14855216 0.5927794 -0.3430298\n",
              "[2,] -0.5925495  0.57186765 -0.46959017 0.1567083  0.2770921\n",
              "[3,] -0.4867571 -0.18153716  0.67632904 0.4783819  0.2093839\n",
              "[4,] -0.0351051 -0.56053456 -0.54362586 0.5978953 -0.1776536\n",
              "[5,]  0.4762741 -0.02864326 -0.06683773 0.1942348  0.8544870\n"
            ]
          },
          "metadata": {}
        }
      ]
    },
    {
      "cell_type": "code",
      "metadata": {
        "colab": {
          "base_uri": "https://localhost:8080/",
          "height": 35
        },
        "id": "XLEpeFvZWWZi",
        "outputId": "6f8e1923-8023-4bca-a706-3a83b667283f"
      },
      "source": [
        "per_contri_varience = eigen(Sample_cov_M)$values/sum(eigen(Sample_cov_M)$values)\n",
        "per_contri_varience"
      ],
      "execution_count": null,
      "outputs": [
        {
          "output_type": "display_data",
          "data": {
            "text/plain": [
              "[1] 0.61215290 0.19506870 0.10161449 0.04962490 0.04153902"
            ],
            "text/latex": "\\begin{enumerate*}\n\\item 0.612152897412657\n\\item 0.195068698427769\n\\item 0.101614490915191\n\\item 0.0496248960424576\n\\item 0.0415390172019253\n\\end{enumerate*}\n",
            "text/markdown": "1. 0.612152897412657\n2. 0.195068698427769\n3. 0.101614490915191\n4. 0.0496248960424576\n5. 0.0415390172019253\n\n\n",
            "text/html": [
              "<style>\n",
              ".list-inline {list-style: none; margin:0; padding: 0}\n",
              ".list-inline>li {display: inline-block}\n",
              ".list-inline>li:not(:last-child)::after {content: \"\\00b7\"; padding: 0 .5ex}\n",
              "</style>\n",
              "<ol class=list-inline><li>0.612152897412657</li><li>0.195068698427769</li><li>0.101614490915191</li><li>0.0496248960424576</li><li>0.0415390172019253</li></ol>\n"
            ]
          },
          "metadata": {}
        }
      ]
    },
    {
      "cell_type": "markdown",
      "metadata": {
        "id": "FOdboFpibLtT"
      },
      "source": [
        "# Direct way to calculate PCA using python function (prcomp)"
      ]
    },
    {
      "cell_type": "code",
      "metadata": {
        "id": "3ga4Hb6zYFC2"
      },
      "source": [
        "library(stats)"
      ],
      "execution_count": null,
      "outputs": []
    },
    {
      "cell_type": "code",
      "metadata": {
        "colab": {
          "base_uri": "https://localhost:8080/",
          "height": 191
        },
        "id": "Q8Tj-fl8bdKS",
        "outputId": "41900b4b-5330-4771-e0d5-f1e7bbc60ed7"
      },
      "source": [
        "nPCA = prcomp(data_set,scale. = TRUE)\n",
        "nPCA"
      ],
      "execution_count": null,
      "outputs": [
        {
          "output_type": "display_data",
          "data": {
            "text/plain": [
              "Standard deviations (1, .., p=5):\n",
              "[1] 1.89991292 1.08413093 0.44626826 0.12199281 0.03087773\n",
              "\n",
              "Rotation (n x k) = (5 x 5):\n",
              "                   PC1         PC2        PC3          PC4          PC5\n",
              "GNP.deflator 0.5210129 -0.05808997  0.1889153  0.776958379  0.292946852\n",
              "GNP          0.5199086 -0.05345522  0.3174971 -0.135947010 -0.779455948\n",
              "Unemployed   0.3658062  0.59532321 -0.7100763  0.004614581 -0.086870665\n",
              "Armed.Forces 0.2296424 -0.79831473 -0.5511572 -0.078584283 -0.002874243\n",
              "Population   0.5212397  0.04529867  0.2356355 -0.609637027  0.546878225"
            ]
          },
          "metadata": {}
        }
      ]
    },
    {
      "cell_type": "code",
      "metadata": {
        "colab": {
          "base_uri": "https://localhost:8080/",
          "height": 104
        },
        "id": "kNUJyvQ5bt7x",
        "outputId": "2df44b6b-81e2-4380-d366-be4a865418a1"
      },
      "source": [
        "summary(nPCA)"
      ],
      "execution_count": null,
      "outputs": [
        {
          "output_type": "display_data",
          "data": {
            "text/plain": [
              "Importance of components:\n",
              "                          PC1    PC2     PC3     PC4     PC5\n",
              "Standard deviation     1.8999 1.0841 0.44627 0.12199 0.03088\n",
              "Proportion of Variance 0.7219 0.2351 0.03983 0.00298 0.00019\n",
              "Cumulative Proportion  0.7219 0.9570 0.99683 0.99981 1.00000"
            ]
          },
          "metadata": {}
        }
      ]
    },
    {
      "cell_type": "code",
      "metadata": {
        "id": "ivAoYphDb2Wh"
      },
      "source": [
        ""
      ],
      "execution_count": null,
      "outputs": []
    }
  ]
}